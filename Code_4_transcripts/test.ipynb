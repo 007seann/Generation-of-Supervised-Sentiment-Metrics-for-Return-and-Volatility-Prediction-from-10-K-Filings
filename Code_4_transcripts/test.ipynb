{
 "cells": [
  {
   "cell_type": "code",
   "execution_count": 30,
   "metadata": {},
   "outputs": [],
   "source": [
    "import os\n",
    "from collections import defaultdict\n",
    "import json"
   ]
  },
  {
   "cell_type": "code",
   "execution_count": 31,
   "metadata": {},
   "outputs": [],
   "source": [
    "year_until = 2024\n",
    "year_since = 2006\n",
    "id_folder = 'transcript_ids'\n"
   ]
  },
  {
   "cell_type": "code",
   "execution_count": 35,
   "metadata": {},
   "outputs": [],
   "source": [
    "def fetch_ids_for_ticker(ticker: str):\n",
    "    year_id2title = defaultdict(dict)\n",
    "    total_numIds = 0\n",
    "    year_ids = 0\n",
    "    ticker = ticker.lower()\n",
    "        \n",
    "    for year in range(year_until, year_since, -1):\n",
    "        id2title = defaultdict(lambda: 'title')\n",
    "        year_file_path = os.path.join(id_folder, f\"{ticker}_transcript_ids.json\")\n",
    "        if not os.path.exists(year_file_path):\n",
    "            continue\n",
    "        with open(year_file_path, 'r') as json_file:\n",
    "            json_data = json.load(json_file)\n",
    "            if 'data' in json_data and json_data['data']:                \n",
    "                for i in range(len(json_data['data'])):\n",
    "                    if str(year) in json_data['data'][i]['attributes']['publishOn']:\n",
    "                        id = json_data['data'][i]['id']\n",
    "                        title = json_data['data'][i]['attributes']['title']\n",
    "                        id2title[id] = title\n",
    "        year_id2title[year] = id2title\n",
    "        year_ids_counts = len(id2title)\n",
    "        total_numIds += year_ids_counts\n",
    "\n",
    "    return year_id2title, total_numIds"
   ]
  },
  {
   "cell_type": "code",
   "execution_count": 37,
   "metadata": {},
   "outputs": [
    {
     "name": "stdout",
     "output_type": "stream",
     "text": [
      "dict_keys([2024, 2023, 2022, 2021, 2020, 2019, 2018, 2017, 2016, 2015, 2014, 2013, 2012, 2011, 2010, 2009, 2008, 2007])\n"
     ]
    }
   ],
   "source": [
    "y, t = fetch_ids_for_ticker('cost')\n",
    "\n",
    "print(y.keys())\n"
   ]
  },
  {
   "cell_type": "code",
   "execution_count": 38,
   "metadata": {},
   "outputs": [
    {
     "name": "stdout",
     "output_type": "stream",
     "text": [
      "dict_values([defaultdict(<function fetch_ids_for_ticker.<locals>.<lambda> at 0x7fedf8e8ac10>, {'4744020': 'Costco Wholesale Corporation (COST) Q1 2025 Earnings Call Transcript', '4723602': 'Costco Wholesale Corporation (COST) Q4 2024 Earnings Call Transcript', '4723578': 'Costco Wholesale Corporation 2024 Q4 - Results - Earnings Call Presentation', '4696620': 'Costco Wholesale Corporation (COST) Q3 2024 Earnings Call Transcript', '4696602': 'Costco Wholesale Corporation 2024 Q3 - Results - Earnings Call Presentation', '4676855': 'Costco Wholesale Corporation (COST) Q2 2024 Earnings Call Transcript'}), defaultdict(<function fetch_ids_for_ticker.<locals>.<lambda> at 0x7fedf8e6fa60>, {'4657995': 'Costco Wholesale Corporation (COST) Q1 2024 Earnings Call Transcript', '4637538': 'Costco Wholesale Corporation (COST) Q4 2023 Earnings Call Transcript', '4607513': 'Costco Wholesale Corporation (COST) Q3 2023 Earnings Call Transcript', '4584129': 'Costco Wholesale Corporation (COST) Q2 2023 Earnings Call Transcript'}), defaultdict(<function fetch_ids_for_ticker.<locals>.<lambda> at 0x7fedf8d983a0>, {'4563368': 'Costco Wholesale Corporation (COST) Q1 2023 Earnings Call Transcript', '4542597': 'Costco Wholesale Corporation (COST) Q4 2022 Earnings Call Transcript', '4514862': 'Costco Wholesale Corporation (COST) Q3 2022 Results - Earnings Call Transcript', '4492820': 'Costco Wholesale Corporation (COST) Q2 2022 Results - Earnings Call Transcript'}), defaultdict(<function fetch_ids_for_ticker.<locals>.<lambda> at 0x7fedf8d98f70>, {'4474506': 'Costco Wholesale Corporation (COST) on Q1 2022 Results - Earnings Call Transcript', '4457002': 'Costco Wholesale Corporation 2022 Q4 - Results - Earnings Call Presentation', '4456837': 'Costco Wholesale Corporation (COST) Q4 2021 Results - Earnings Call Transcript', '4431855': \"Costco Wholesale Corporation's (COST) Management on Q3 2021 Results - Earnings Call Transcript\", '4411645': \"Costco Wholesale's (COST) Q2 2021 Results - Earnings Call Transcript\"}), defaultdict(<function fetch_ids_for_ticker.<locals>.<lambda> at 0x7fedf76b3280>, {'4394181': 'Costco Wholesale Corporation (COST) On Q1 2021 Results - Earnings Call Transcript', '4376251': 'Costco Wholesale Corporation (COST) on Q4 2020 Results - Earnings Call Transcript', '4350760': 'Costco Wholesale Corporation (COST) Management on Q3 2020 Results - Earnings Call Transcript', '4330381': 'Costco Wholesale Corp (COST) on Q2 2020 Results - Earnings Call Transcript', '4330149': 'Costco Wholesale Corporation (COST) Management on Q2 2020 Results - Earnings Call Transcript'}), defaultdict(<function fetch_ids_for_ticker.<locals>.<lambda> at 0x7fedf8e6fd30>, {'4312280': 'Costco Wholesale Corporation (COST) Management on Q1 2020 Results - Earnings Call Transcript', '4294972': 'Costco Wholesale Corporation (COST) Management on Q4 2019 Results - Earnings Call Transcript', '4267437': 'Costco Wholesale Corporation (COST) Q3 2019 Results - Earnings Call Transcript', '4247203': 'Costco Wholesale Corporation (COST) Q2 2019 Results - Earnings Call Transcript'}), defaultdict(<function fetch_ids_for_ticker.<locals>.<lambda> at 0x7fedf8ddb8b0>, {'4228258': 'Costco Wholesale Corporation (COST) CEO Richard Galanti on Q1 2019 Results - Earnings Call Transcript', '4209982': 'Costco Wholesale Corporation (COST) Q4 2018 Results - Earnings Call Transcript', '4204943': 'Costco Wholesale Corporation (COST) August 2018 Sales Results Conference Call (Transcript)', '4178716': \"Costco Wholesale Corporation's (COST) Q3 2018 Results - Earnings Call Transcript\", '4155204': \"Costco Wholesale Corporation's (COST) Management on Q2 2018 Results - Earnings Call Transcript\"}), defaultdict(<function fetch_ids_for_ticker.<locals>.<lambda> at 0x7fedf8e6f160>, {'4131998': \"Costco Wholesale Corporation's (COST) Management on Q1 2018 Results - Earnings Call Transcript\", '4112046': 'Costco Wholesale Corporation (COST) Q4 2017 Results - Earnings Call Transcript', '4076738': \"Costco Wholesale's (COST) Management on Q3 2017 Results - Earnings Call Transcript\", '4051812': \"Costco Wholesale's (COST) Management on Q2 2017 Results minus Earnings Call Transcript\"}), defaultdict(<function fetch_ids_for_ticker.<locals>.<lambda> at 0x7fedf8ddbc10>, {'4029032': 'Costco Wholesale (COST) Q1 2017 Results - Earnings Call Transcript', '4009326': \"Costco Wholesale's (COST) Q4 2016 Results - Earnings Call Transcript\", '3974771': 'Costco Wholesale (COST) Q3 2016 Results - Earnings Call Transcript', '3953616': 'Costco Wholesale (COST) Q2 2016 Results - Earnings Call Transcript', '3941576': 'Costco Wholesale (COST) Q2 2016 Results - Earnings Call Webcast'}), defaultdict(<function fetch_ids_for_ticker.<locals>.<lambda> at 0x7fedf8e6f670>, {'3746136': 'Costco Wholesale (COST) Q1 2016 Results - Earnings Call Transcript', '3544276': 'Costco Wholesale (COST) Q4 2015 Results - Earnings Call Transcript', '3220226': 'Costco Wholesale (COST) Q3 2015 Results - Earnings Call Transcript', '2977956': 'Costco Wholesale (COST) Q2 2015 Results - Earnings Call Transcript', '2970326': 'Costco Wholesale (COST) Q2 2015 Results - Earnings Call Webcast'}), defaultdict(<function fetch_ids_for_ticker.<locals>.<lambda> at 0x7fedf8ddb820>, {'2747395': 'Costco (COST) Q1 2015 Results - Earnings Call Transcript', '2743855': 'Costco Wholesale (COST) Q1 2015 Results - Earnings Call Webcast', '2549255': 'Costco (COST) Q4 2014 Results - Earnings Call Transcript', '2547255': 'Costco Wholesale (COST) Q4 2014 Results - Earnings Call Webcast', '2471685': \"Costco Wholesale's (COST) August 2014 Sales Results (Transcript)\", '2244693': 'Costco (COST) Q3 2014 Results - Earnings Call Transcript', '2072853': \"Costco Wholesale's CEO Discusses F2Q 2014 Results - Earnings Call Transcript\", '2067303': 'Costco Wholesale (COST) Q1 2014 Results Results - Earnings Call Webcast'}), defaultdict(<function fetch_ids_for_ticker.<locals>.<lambda> at 0x7fedf8e6f280>, {'1892531': 'Costco Wholesale CEO Discusses F1Q 2014 Results - Earnings Call Transcript', '1891701': 'Q4 2013 Costco Wholesale Corp Earnings Conference call (Webcast)', '1737282': \"Costco Wholesale's Management Discusses F4Q 2013 Results - Earnings Call Transcript\", '1735142': 'Costco Wholesale Corporation Discusses Q4 2013 Results (Webcast)', '1471251': 'Costco Wholesale CEO Discusses F3Q 2013 Results - Earnings Call Transcript', '1470271': 'Costco Wholesale Corporation Management Discusses F3Q2013 Results (Webcast)', '1267161': \"Costco Wholesale's CEO Discusses F2Q2013 Results - Earnings Call Transcript\"}), defaultdict(<function fetch_ids_for_ticker.<locals>.<lambda> at 0x7fedf8e8a0d0>, {'1060521': \"Costco Wholesale's Management Discusses F1Q 2013 Results - Earnings Call Transcript\", '916411': \"Costco Wholesale Corporation's CEO Discusses Q4 2012 Results - Earnings Call Transcript\", '616421': 'Costco Wholesale Management Discusses Q3 2012 Results - Earnings Call Transcript', '402921': 'Costco Wholesale Management Discusses Q2 2012 Results - Earnings Call Transcript'}), defaultdict(<function fetch_ids_for_ticker.<locals>.<lambda> at 0x7fedf8e6f430>, {'312800': 'Costco Wholesale Management Discusses Q1 2012 Results - Earnings Call Transcript', '297837': 'Costco Wholesale Management Discusses Q4 2011 Results - Earnings Call Transcript', '286711': 'Costco Wholesale Corporation Jul 2011 Sales/Trading Statement Call', '271900': 'Costco Wholesale Management Discusses Q3 2011 Results - Earnings Call Transcript', '256085': 'Costco Wholesale Management Discusses Q2 2011 Results - Earnings Call Transcript'}), defaultdict(<function fetch_ids_for_ticker.<locals>.<lambda> at 0x7fedf8e8a940>, {'240832': 'Costco Management Discusses F1Q2011 Results - Earnings Call Transcript', '207404': 'Costco Wholesale Corporation F3Q10 (Qtr End 05/09/10) Earnings Call Transcript', '191827': 'Costco Wholesale Corporation F2Q10 (Qtr End 02/14/10) and February Sales Release Earnings Call Transcript'}), defaultdict(<function fetch_ids_for_ticker.<locals>.<lambda> at 0x7fedf8e6f3a0>, {'177664': 'Costco F1Q10 (Qtr End 11/22/09) Earnings Call Transcript', '165406': 'Costco Wholesale Corporation F4Q09 (Qtr End 08/30/09) Earnings Call Transcript', '140231': 'Costco F3Q09 (Qtr End 5/10/09) Earnings Call Transcript', '124177': 'Costco Wholesale Corporation F2Q09 (Qtr End 2/15/09) Earnings Call Transcript'}), defaultdict(<function fetch_ids_for_ticker.<locals>.<lambda> at 0x7fedf8e8a9d0>, {'110363': 'Costco Wholesale Corporation F1Q09 (Qtr End 11/23/08) Earnings Call Transcript', '99102': 'Costco Wholesale Corporation F4Q08 (Qtr End 08/31/08) Earnings Call Transcript', '79400': 'Costco F3Q08 (Qtr End 5/11/08) Earnings Call Transcript', '67329': 'Costco F2Q08 (Qtr End 2/17/08) Earnings Call Transcript', '59756': 'Costco December Sales Results Call Transcript'}), defaultdict(<function fetch_ids_for_ticker.<locals>.<lambda> at 0x7fedf8e6f4c0>, {'57262': 'Costco F1Q08 (Qtr End 11/25/07) Earnings Call Transcript', '49503': 'Costco F4Q07 (Qtr End 9/2/07) Earnings Call Transcript', '37028': 'Costco F3Q07 (Qtr End 5/13/07) Earnings Call Transcript', '29068': 'Costco F2Q07 (Qtr End 2/18/07) Earnings Call Transcript'})])\n"
     ]
    }
   ],
   "source": [
    "print(y.values())"
   ]
  },
  {
   "cell_type": "code",
   "execution_count": 39,
   "metadata": {},
   "outputs": [
    {
     "data": {
      "text/plain": [
       "defaultdict(dict,\n",
       "            {2024: defaultdict(<function __main__.fetch_ids_for_ticker.<locals>.<lambda>()>,\n",
       "                         {'4744020': 'Costco Wholesale Corporation (COST) Q1 2025 Earnings Call Transcript',\n",
       "                          '4723602': 'Costco Wholesale Corporation (COST) Q4 2024 Earnings Call Transcript',\n",
       "                          '4723578': 'Costco Wholesale Corporation 2024 Q4 - Results - Earnings Call Presentation',\n",
       "                          '4696620': 'Costco Wholesale Corporation (COST) Q3 2024 Earnings Call Transcript',\n",
       "                          '4696602': 'Costco Wholesale Corporation 2024 Q3 - Results - Earnings Call Presentation',\n",
       "                          '4676855': 'Costco Wholesale Corporation (COST) Q2 2024 Earnings Call Transcript'}),\n",
       "             2023: defaultdict(<function __main__.fetch_ids_for_ticker.<locals>.<lambda>()>,\n",
       "                         {'4657995': 'Costco Wholesale Corporation (COST) Q1 2024 Earnings Call Transcript',\n",
       "                          '4637538': 'Costco Wholesale Corporation (COST) Q4 2023 Earnings Call Transcript',\n",
       "                          '4607513': 'Costco Wholesale Corporation (COST) Q3 2023 Earnings Call Transcript',\n",
       "                          '4584129': 'Costco Wholesale Corporation (COST) Q2 2023 Earnings Call Transcript'}),\n",
       "             2022: defaultdict(<function __main__.fetch_ids_for_ticker.<locals>.<lambda>()>,\n",
       "                         {'4563368': 'Costco Wholesale Corporation (COST) Q1 2023 Earnings Call Transcript',\n",
       "                          '4542597': 'Costco Wholesale Corporation (COST) Q4 2022 Earnings Call Transcript',\n",
       "                          '4514862': 'Costco Wholesale Corporation (COST) Q3 2022 Results - Earnings Call Transcript',\n",
       "                          '4492820': 'Costco Wholesale Corporation (COST) Q2 2022 Results - Earnings Call Transcript'}),\n",
       "             2021: defaultdict(<function __main__.fetch_ids_for_ticker.<locals>.<lambda>()>,\n",
       "                         {'4474506': 'Costco Wholesale Corporation (COST) on Q1 2022 Results - Earnings Call Transcript',\n",
       "                          '4457002': 'Costco Wholesale Corporation 2022 Q4 - Results - Earnings Call Presentation',\n",
       "                          '4456837': 'Costco Wholesale Corporation (COST) Q4 2021 Results - Earnings Call Transcript',\n",
       "                          '4431855': \"Costco Wholesale Corporation's (COST) Management on Q3 2021 Results - Earnings Call Transcript\",\n",
       "                          '4411645': \"Costco Wholesale's (COST) Q2 2021 Results - Earnings Call Transcript\"}),\n",
       "             2020: defaultdict(<function __main__.fetch_ids_for_ticker.<locals>.<lambda>()>,\n",
       "                         {'4394181': 'Costco Wholesale Corporation (COST) On Q1 2021 Results - Earnings Call Transcript',\n",
       "                          '4376251': 'Costco Wholesale Corporation (COST) on Q4 2020 Results - Earnings Call Transcript',\n",
       "                          '4350760': 'Costco Wholesale Corporation (COST) Management on Q3 2020 Results - Earnings Call Transcript',\n",
       "                          '4330381': 'Costco Wholesale Corp (COST) on Q2 2020 Results - Earnings Call Transcript',\n",
       "                          '4330149': 'Costco Wholesale Corporation (COST) Management on Q2 2020 Results - Earnings Call Transcript'}),\n",
       "             2019: defaultdict(<function __main__.fetch_ids_for_ticker.<locals>.<lambda>()>,\n",
       "                         {'4312280': 'Costco Wholesale Corporation (COST) Management on Q1 2020 Results - Earnings Call Transcript',\n",
       "                          '4294972': 'Costco Wholesale Corporation (COST) Management on Q4 2019 Results - Earnings Call Transcript',\n",
       "                          '4267437': 'Costco Wholesale Corporation (COST) Q3 2019 Results - Earnings Call Transcript',\n",
       "                          '4247203': 'Costco Wholesale Corporation (COST) Q2 2019 Results - Earnings Call Transcript'}),\n",
       "             2018: defaultdict(<function __main__.fetch_ids_for_ticker.<locals>.<lambda>()>,\n",
       "                         {'4228258': 'Costco Wholesale Corporation (COST) CEO Richard Galanti on Q1 2019 Results - Earnings Call Transcript',\n",
       "                          '4209982': 'Costco Wholesale Corporation (COST) Q4 2018 Results - Earnings Call Transcript',\n",
       "                          '4204943': 'Costco Wholesale Corporation (COST) August 2018 Sales Results Conference Call (Transcript)',\n",
       "                          '4178716': \"Costco Wholesale Corporation's (COST) Q3 2018 Results - Earnings Call Transcript\",\n",
       "                          '4155204': \"Costco Wholesale Corporation's (COST) Management on Q2 2018 Results - Earnings Call Transcript\"}),\n",
       "             2017: defaultdict(<function __main__.fetch_ids_for_ticker.<locals>.<lambda>()>,\n",
       "                         {'4131998': \"Costco Wholesale Corporation's (COST) Management on Q1 2018 Results - Earnings Call Transcript\",\n",
       "                          '4112046': 'Costco Wholesale Corporation (COST) Q4 2017 Results - Earnings Call Transcript',\n",
       "                          '4076738': \"Costco Wholesale's (COST) Management on Q3 2017 Results - Earnings Call Transcript\",\n",
       "                          '4051812': \"Costco Wholesale's (COST) Management on Q2 2017 Results minus Earnings Call Transcript\"}),\n",
       "             2016: defaultdict(<function __main__.fetch_ids_for_ticker.<locals>.<lambda>()>,\n",
       "                         {'4029032': 'Costco Wholesale (COST) Q1 2017 Results - Earnings Call Transcript',\n",
       "                          '4009326': \"Costco Wholesale's (COST) Q4 2016 Results - Earnings Call Transcript\",\n",
       "                          '3974771': 'Costco Wholesale (COST) Q3 2016 Results - Earnings Call Transcript',\n",
       "                          '3953616': 'Costco Wholesale (COST) Q2 2016 Results - Earnings Call Transcript',\n",
       "                          '3941576': 'Costco Wholesale (COST) Q2 2016 Results - Earnings Call Webcast'}),\n",
       "             2015: defaultdict(<function __main__.fetch_ids_for_ticker.<locals>.<lambda>()>,\n",
       "                         {'3746136': 'Costco Wholesale (COST) Q1 2016 Results - Earnings Call Transcript',\n",
       "                          '3544276': 'Costco Wholesale (COST) Q4 2015 Results - Earnings Call Transcript',\n",
       "                          '3220226': 'Costco Wholesale (COST) Q3 2015 Results - Earnings Call Transcript',\n",
       "                          '2977956': 'Costco Wholesale (COST) Q2 2015 Results - Earnings Call Transcript',\n",
       "                          '2970326': 'Costco Wholesale (COST) Q2 2015 Results - Earnings Call Webcast'}),\n",
       "             2014: defaultdict(<function __main__.fetch_ids_for_ticker.<locals>.<lambda>()>,\n",
       "                         {'2747395': 'Costco (COST) Q1 2015 Results - Earnings Call Transcript',\n",
       "                          '2743855': 'Costco Wholesale (COST) Q1 2015 Results - Earnings Call Webcast',\n",
       "                          '2549255': 'Costco (COST) Q4 2014 Results - Earnings Call Transcript',\n",
       "                          '2547255': 'Costco Wholesale (COST) Q4 2014 Results - Earnings Call Webcast',\n",
       "                          '2471685': \"Costco Wholesale's (COST) August 2014 Sales Results (Transcript)\",\n",
       "                          '2244693': 'Costco (COST) Q3 2014 Results - Earnings Call Transcript',\n",
       "                          '2072853': \"Costco Wholesale's CEO Discusses F2Q 2014 Results - Earnings Call Transcript\",\n",
       "                          '2067303': 'Costco Wholesale (COST) Q1 2014 Results Results - Earnings Call Webcast'}),\n",
       "             2013: defaultdict(<function __main__.fetch_ids_for_ticker.<locals>.<lambda>()>,\n",
       "                         {'1892531': 'Costco Wholesale CEO Discusses F1Q 2014 Results - Earnings Call Transcript',\n",
       "                          '1891701': 'Q4 2013 Costco Wholesale Corp Earnings Conference call (Webcast)',\n",
       "                          '1737282': \"Costco Wholesale's Management Discusses F4Q 2013 Results - Earnings Call Transcript\",\n",
       "                          '1735142': 'Costco Wholesale Corporation Discusses Q4 2013 Results (Webcast)',\n",
       "                          '1471251': 'Costco Wholesale CEO Discusses F3Q 2013 Results - Earnings Call Transcript',\n",
       "                          '1470271': 'Costco Wholesale Corporation Management Discusses F3Q2013 Results (Webcast)',\n",
       "                          '1267161': \"Costco Wholesale's CEO Discusses F2Q2013 Results - Earnings Call Transcript\"}),\n",
       "             2012: defaultdict(<function __main__.fetch_ids_for_ticker.<locals>.<lambda>()>,\n",
       "                         {'1060521': \"Costco Wholesale's Management Discusses F1Q 2013 Results - Earnings Call Transcript\",\n",
       "                          '916411': \"Costco Wholesale Corporation's CEO Discusses Q4 2012 Results - Earnings Call Transcript\",\n",
       "                          '616421': 'Costco Wholesale Management Discusses Q3 2012 Results - Earnings Call Transcript',\n",
       "                          '402921': 'Costco Wholesale Management Discusses Q2 2012 Results - Earnings Call Transcript'}),\n",
       "             2011: defaultdict(<function __main__.fetch_ids_for_ticker.<locals>.<lambda>()>,\n",
       "                         {'312800': 'Costco Wholesale Management Discusses Q1 2012 Results - Earnings Call Transcript',\n",
       "                          '297837': 'Costco Wholesale Management Discusses Q4 2011 Results - Earnings Call Transcript',\n",
       "                          '286711': 'Costco Wholesale Corporation Jul 2011 Sales/Trading Statement Call',\n",
       "                          '271900': 'Costco Wholesale Management Discusses Q3 2011 Results - Earnings Call Transcript',\n",
       "                          '256085': 'Costco Wholesale Management Discusses Q2 2011 Results - Earnings Call Transcript'}),\n",
       "             2010: defaultdict(<function __main__.fetch_ids_for_ticker.<locals>.<lambda>()>,\n",
       "                         {'240832': 'Costco Management Discusses F1Q2011 Results - Earnings Call Transcript',\n",
       "                          '207404': 'Costco Wholesale Corporation F3Q10 (Qtr End 05/09/10) Earnings Call Transcript',\n",
       "                          '191827': 'Costco Wholesale Corporation F2Q10 (Qtr End 02/14/10) and February Sales Release Earnings Call Transcript'}),\n",
       "             2009: defaultdict(<function __main__.fetch_ids_for_ticker.<locals>.<lambda>()>,\n",
       "                         {'177664': 'Costco F1Q10 (Qtr End 11/22/09) Earnings Call Transcript',\n",
       "                          '165406': 'Costco Wholesale Corporation F4Q09 (Qtr End 08/30/09) Earnings Call Transcript',\n",
       "                          '140231': 'Costco F3Q09 (Qtr End 5/10/09) Earnings Call Transcript',\n",
       "                          '124177': 'Costco Wholesale Corporation F2Q09 (Qtr End 2/15/09) Earnings Call Transcript'}),\n",
       "             2008: defaultdict(<function __main__.fetch_ids_for_ticker.<locals>.<lambda>()>,\n",
       "                         {'110363': 'Costco Wholesale Corporation F1Q09 (Qtr End 11/23/08) Earnings Call Transcript',\n",
       "                          '99102': 'Costco Wholesale Corporation F4Q08 (Qtr End 08/31/08) Earnings Call Transcript',\n",
       "                          '79400': 'Costco F3Q08 (Qtr End 5/11/08) Earnings Call Transcript',\n",
       "                          '67329': 'Costco F2Q08 (Qtr End 2/17/08) Earnings Call Transcript',\n",
       "                          '59756': 'Costco December Sales Results Call Transcript'}),\n",
       "             2007: defaultdict(<function __main__.fetch_ids_for_ticker.<locals>.<lambda>()>,\n",
       "                         {'57262': 'Costco F1Q08 (Qtr End 11/25/07) Earnings Call Transcript',\n",
       "                          '49503': 'Costco F4Q07 (Qtr End 9/2/07) Earnings Call Transcript',\n",
       "                          '37028': 'Costco F3Q07 (Qtr End 5/13/07) Earnings Call Transcript',\n",
       "                          '29068': 'Costco F2Q07 (Qtr End 2/18/07) Earnings Call Transcript'})})"
      ]
     },
     "execution_count": 39,
     "metadata": {},
     "output_type": "execute_result"
    }
   ],
   "source": [
    "y"
   ]
  },
  {
   "cell_type": "code",
   "execution_count": null,
   "metadata": {},
   "outputs": [],
   "source": []
  }
 ],
 "metadata": {
  "kernelspec": {
   "display_name": "hons-project",
   "language": "python",
   "name": "python3"
  },
  "language_info": {
   "name": "python",
   "version": "3.8.18"
  }
 },
 "nbformat": 4,
 "nbformat_minor": 2
}
