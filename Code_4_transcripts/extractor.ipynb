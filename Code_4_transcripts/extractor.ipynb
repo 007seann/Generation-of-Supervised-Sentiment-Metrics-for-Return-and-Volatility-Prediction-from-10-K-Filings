{
 "cells": [
  {
   "cell_type": "code",
   "execution_count": null,
   "metadata": {
    "vscode": {
     "languageId": "plaintext"
    }
   },
   "outputs": [],
   "source": [
    "import requests\n",
    "from bs4 import BeautifulSoup\n",
    "import html2text\n",
    "\n",
    "def extract_text_from_url(url):\n",
    "    try:\n",
    "        # Send a request to the URL\n",
    "        headers = {\"User-Agent\": \"Mozilla/5.0\"}\n",
    "        response = requests.get(url, headers=headers)\n",
    "        response.raise_for_status()  # Raise an error for bad response (e.g., 404)\n",
    "\n",
    "        # Parse the page content\n",
    "        soup = BeautifulSoup(response.text, \"html.parser\")\n",
    "\n",
    "        # Extract main content (modify the tag based on site structure)\n",
    "        article_body = soup.find(\"div\", {\"id\": \"content\"})  # Adjust selector if needed\n",
    "\n",
    "        if not article_body:\n",
    "            article_body = soup.body  # Fallback to the entire page body\n",
    "\n",
    "        # Convert HTML to text\n",
    "        text_maker = html2text.HTML2Text()\n",
    "        text_maker.ignore_links = True  # Remove hyperlinks\n",
    "        text_maker.ignore_images = True  # Remove images\n",
    "\n",
    "        plain_text = text_maker.handle(str(article_body))\n",
    "        return plain_text.strip()\n",
    "\n",
    "    except requests.exceptions.RequestException as e:\n",
    "        return f\"Error fetching URL: {e}\"\n",
    "\n",
    "# Example URL\n",
    "url = \"https://seekingalpha.com/article/215492-apple-inc-f3q10-qtr-end-06-26-10-earnings-call-transcript?source=tweet\"\n",
    "content_text = extract_text_from_url(url)\n",
    "\n",
    "# Print extracted text (first 1000 characters)\n",
    "print(content_text[:1000])  # Limit output for readability\n"
   ]
  }
 ],
 "metadata": {
  "language_info": {
   "name": "python"
  }
 },
 "nbformat": 4,
 "nbformat_minor": 2
}
