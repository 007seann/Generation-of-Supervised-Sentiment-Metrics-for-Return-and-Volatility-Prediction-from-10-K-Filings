{
 "cells": [
  {
   "cell_type": "markdown",
   "metadata": {},
   "source": [
    "Total Count of All Reports"
   ]
  },
  {
   "cell_type": "code",
   "execution_count": 2,
   "metadata": {},
   "outputs": [
    {
     "name": "stdout",
     "output_type": "stream",
     "text": [
      "Total sum of all counts: 42680\n"
     ]
    }
   ],
   "source": [
    "def sum_counts(file_path):\n",
    "    total_sum = 0\n",
    "    with open(file_path, 'r') as file:\n",
    "        for line in file:\n",
    "            try:\n",
    "                # Split the line by ':' and get the count part\n",
    "                count = int(line.split(':')[1].strip())\n",
    "                total_sum += count\n",
    "            except (IndexError, ValueError):\n",
    "                # Skip lines that don't match the expected format\n",
    "                continue\n",
    "    return total_sum\n",
    "\n",
    "file_path = 'sp500_transcripts_count.txt'\n",
    "total_sum = sum_counts(file_path)\n",
    "print(f\"Total sum of all counts: {total_sum}\")"
   ]
  },
  {
   "cell_type": "code",
   "execution_count": null,
   "metadata": {},
   "outputs": [],
   "source": []
  }
 ],
 "metadata": {
  "kernelspec": {
   "display_name": "hons-project",
   "language": "python",
   "name": "python3"
  },
  "language_info": {
   "codemirror_mode": {
    "name": "ipython",
    "version": 3
   },
   "file_extension": ".py",
   "mimetype": "text/x-python",
   "name": "python",
   "nbconvert_exporter": "python",
   "pygments_lexer": "ipython3",
   "version": "3.8.18"
  }
 },
 "nbformat": 4,
 "nbformat_minor": 2
}
