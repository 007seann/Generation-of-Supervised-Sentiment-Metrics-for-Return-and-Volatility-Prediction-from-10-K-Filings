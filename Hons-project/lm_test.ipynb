{
 "cells": [
  {
   "cell_type": "code",
   "execution_count": 2,
   "metadata": {},
   "outputs": [],
   "source": [
    "import pandas as pd\n",
    "import os"
   ]
  },
  {
   "cell_type": "code",
   "execution_count": 3,
   "metadata": {},
   "outputs": [],
   "source": [
    "lm = pd.read_csv(\"/Users/apple/PROJECT/Hons-project/LM_dict.csv\")\n",
    "lm = lm[['Word','Negative','Positive','Uncertainty']]"
   ]
  },
  {
   "cell_type": "code",
   "execution_count": 4,
   "metadata": {},
   "outputs": [
    {
     "data": {
      "text/html": [
       "<div>\n",
       "<style scoped>\n",
       "    .dataframe tbody tr th:only-of-type {\n",
       "        vertical-align: middle;\n",
       "    }\n",
       "\n",
       "    .dataframe tbody tr th {\n",
       "        vertical-align: top;\n",
       "    }\n",
       "\n",
       "    .dataframe thead th {\n",
       "        text-align: right;\n",
       "    }\n",
       "</style>\n",
       "<table border=\"1\" class=\"dataframe\">\n",
       "  <thead>\n",
       "    <tr style=\"text-align: right;\">\n",
       "      <th></th>\n",
       "      <th>Word</th>\n",
       "      <th>Negative</th>\n",
       "      <th>Positive</th>\n",
       "      <th>Uncertainty</th>\n",
       "    </tr>\n",
       "  </thead>\n",
       "  <tbody>\n",
       "    <tr>\n",
       "      <th>0</th>\n",
       "      <td>AARDVARK</td>\n",
       "      <td>0</td>\n",
       "      <td>0</td>\n",
       "      <td>0</td>\n",
       "    </tr>\n",
       "    <tr>\n",
       "      <th>1</th>\n",
       "      <td>AARDVARKS</td>\n",
       "      <td>0</td>\n",
       "      <td>0</td>\n",
       "      <td>0</td>\n",
       "    </tr>\n",
       "    <tr>\n",
       "      <th>2</th>\n",
       "      <td>ABACI</td>\n",
       "      <td>0</td>\n",
       "      <td>0</td>\n",
       "      <td>0</td>\n",
       "    </tr>\n",
       "    <tr>\n",
       "      <th>3</th>\n",
       "      <td>ABACK</td>\n",
       "      <td>0</td>\n",
       "      <td>0</td>\n",
       "      <td>0</td>\n",
       "    </tr>\n",
       "    <tr>\n",
       "      <th>4</th>\n",
       "      <td>ABACUS</td>\n",
       "      <td>0</td>\n",
       "      <td>0</td>\n",
       "      <td>0</td>\n",
       "    </tr>\n",
       "    <tr>\n",
       "      <th>...</th>\n",
       "      <td>...</td>\n",
       "      <td>...</td>\n",
       "      <td>...</td>\n",
       "      <td>...</td>\n",
       "    </tr>\n",
       "    <tr>\n",
       "      <th>86526</th>\n",
       "      <td>ZYGOTE</td>\n",
       "      <td>0</td>\n",
       "      <td>0</td>\n",
       "      <td>0</td>\n",
       "    </tr>\n",
       "    <tr>\n",
       "      <th>86527</th>\n",
       "      <td>ZYGOTES</td>\n",
       "      <td>0</td>\n",
       "      <td>0</td>\n",
       "      <td>0</td>\n",
       "    </tr>\n",
       "    <tr>\n",
       "      <th>86528</th>\n",
       "      <td>ZYGOTIC</td>\n",
       "      <td>0</td>\n",
       "      <td>0</td>\n",
       "      <td>0</td>\n",
       "    </tr>\n",
       "    <tr>\n",
       "      <th>86529</th>\n",
       "      <td>ZYMURGIES</td>\n",
       "      <td>0</td>\n",
       "      <td>0</td>\n",
       "      <td>0</td>\n",
       "    </tr>\n",
       "    <tr>\n",
       "      <th>86530</th>\n",
       "      <td>ZYMURGY</td>\n",
       "      <td>0</td>\n",
       "      <td>0</td>\n",
       "      <td>0</td>\n",
       "    </tr>\n",
       "  </tbody>\n",
       "</table>\n",
       "<p>86531 rows × 4 columns</p>\n",
       "</div>"
      ],
      "text/plain": [
       "            Word  Negative  Positive  Uncertainty\n",
       "0       AARDVARK         0         0            0\n",
       "1      AARDVARKS         0         0            0\n",
       "2          ABACI         0         0            0\n",
       "3          ABACK         0         0            0\n",
       "4         ABACUS         0         0            0\n",
       "...          ...       ...       ...          ...\n",
       "86526     ZYGOTE         0         0            0\n",
       "86527    ZYGOTES         0         0            0\n",
       "86528    ZYGOTIC         0         0            0\n",
       "86529  ZYMURGIES         0         0            0\n",
       "86530    ZYMURGY         0         0            0\n",
       "\n",
       "[86531 rows x 4 columns]"
      ]
     },
     "execution_count": 4,
     "metadata": {},
     "output_type": "execute_result"
    }
   ],
   "source": [
    "lm"
   ]
  },
  {
   "cell_type": "code",
   "execution_count": 5,
   "metadata": {},
   "outputs": [
    {
     "name": "stdout",
     "output_type": "stream",
     "text": [
      "6504               BEST\n",
      "38611    INNOVATIVENESS\n",
      "7904          BOLSTERED\n",
      "37266          IMPROVES\n",
      "338            ABUNDANT\n",
      "              ...      \n",
      "64746           REWARDS\n",
      "6375         BENEFICIAL\n",
      "32586             GREAT\n",
      "6381            BENEFIT\n",
      "23821         EFFECTIVE\n",
      "Name: Word, Length: 354, dtype: object\n"
     ]
    }
   ],
   "source": [
    "lm_pos = lm.sort_values(by='Positive', ascending=False)\n",
    "lm_pos = lm_pos[lm_pos['Positive'] != 0]\n",
    "print(lm_pos['Word'])\n",
    "lm_pos\n",
    "\n",
    "with open('lm_pos_words.txt', 'w') as f:\n",
    "    f.write(lm_pos['Word'].to_string(index=False))\n",
    "    \n",
    "# lm_pos = lm_pos['Positive']\n",
    "# lm_pos = lm_pos[lm_pos.sum(axis=1) != 0]\n",
    "# lm_pos.values"
   ]
  },
  {
   "cell_type": "code",
   "execution_count": 6,
   "metadata": {},
   "outputs": [
    {
     "name": "stdout",
     "output_type": "stream",
     "text": [
      "82117        UNTRUSTED\n",
      "71527         SPAMMING\n",
      "17909       CYBERCRIME\n",
      "17910      CYBERCRIMES\n",
      "17911    CYBERCRIMINAL\n",
      "             ...      \n",
      "8622          BREAKING\n",
      "8935            BROKEN\n",
      "17149         CRITICAL\n",
      "13224          CLOSING\n",
      "30332         FUGITIVE\n",
      "Name: Word, Length: 2355, dtype: object\n"
     ]
    }
   ],
   "source": [
    "lm_neg = lm.sort_values(by='Negative', ascending=False)\n",
    "lm_neg = lm_neg[lm_neg['Negative'] != 0]\n",
    "print(lm_neg['Word'])\n",
    "lm_neg\n",
    "\n",
    "with open('lm_neg_words.txt', 'w') as f:\n",
    "    f.write(lm_neg['Word'].to_string(index=False))"
   ]
  },
  {
   "cell_type": "code",
   "execution_count": null,
   "metadata": {},
   "outputs": [],
   "source": []
  }
 ],
 "metadata": {
  "kernelspec": {
   "display_name": "hons-project",
   "language": "python",
   "name": "python3"
  },
  "language_info": {
   "codemirror_mode": {
    "name": "ipython",
    "version": 3
   },
   "file_extension": ".py",
   "mimetype": "text/x-python",
   "name": "python",
   "nbconvert_exporter": "python",
   "pygments_lexer": "ipython3",
   "version": "3.8.18"
  }
 },
 "nbformat": 4,
 "nbformat_minor": 2
}
