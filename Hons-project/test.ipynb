{
 "cells": [
  {
   "cell_type": "code",
   "execution_count": 1,
   "metadata": {},
   "outputs": [],
   "source": [
    "import numpy as np"
   ]
  },
  {
   "cell_type": "code",
   "execution_count": 9,
   "metadata": {},
   "outputs": [
    {
     "ename": "TypeError",
     "evalue": "list indices must be integers or slices, not tuple",
     "output_type": "error",
     "traceback": [
      "\u001b[0;31m---------------------------------------------------------------------------\u001b[0m",
      "\u001b[0;31mTypeError\u001b[0m                                 Traceback (most recent call last)",
      "Cell \u001b[0;32mIn[9], line 4\u001b[0m\n\u001b[1;32m      1\u001b[0m O_hat\u001b[38;5;241m=\u001b[39m [[ \u001b[38;5;241m4.02218687e-04\u001b[39m,  \u001b[38;5;241m5.72678475e-03\u001b[39m],\n\u001b[1;32m      2\u001b[0m     [ \u001b[38;5;241m4.02218687e-04\u001b[39m,  \u001b[38;5;241m5.72678475e-03\u001b[39m],\n\u001b[1;32m      3\u001b[0m     [ \u001b[38;5;241m4.02218687e-04\u001b[39m,  \u001b[38;5;241m5.72678475e-03\u001b[39m]]\n\u001b[0;32m----> 4\u001b[0m \u001b[43mO_hat\u001b[49m\u001b[43m[\u001b[49m\u001b[43m:\u001b[49m\u001b[43m,\u001b[49m\u001b[38;5;241;43m0\u001b[39;49m\u001b[43m]\u001b[49m\n",
      "\u001b[0;31mTypeError\u001b[0m: list indices must be integers or slices, not tuple"
     ]
    }
   ],
   "source": [
    "\n",
    "O_hat= [[ 4.02218687e-04,  5.72678475e-03],\n",
    "    [ 4.02218687e-04,  5.72678475e-03],\n",
    "    [ 4.02218687e-04,  5.72678475e-03]]\n"
   ]
  },
  {
   "cell_type": "code",
   "execution_count": 5,
   "metadata": {},
   "outputs": [
    {
     "ename": "TypeError",
     "evalue": "list indices must be integers or slices, not tuple",
     "output_type": "error",
     "traceback": [
      "\u001b[0;31m---------------------------------------------------------------------------\u001b[0m",
      "\u001b[0;31mTypeError\u001b[0m                                 Traceback (most recent call last)",
      "Cell \u001b[0;32mIn[5], line 1\u001b[0m\n\u001b[0;32m----> 1\u001b[0m O_plus \u001b[38;5;241m=\u001b[39m \u001b[43mO_hat\u001b[49m\u001b[43m[\u001b[49m\u001b[43m:\u001b[49m\u001b[43m,\u001b[49m\u001b[43m \u001b[49m\u001b[38;5;241;43m0\u001b[39;49m\u001b[43m]\u001b[49m\n\u001b[1;32m      2\u001b[0m O_minus \u001b[38;5;241m=\u001b[39m O_hat[:, \u001b[38;5;241m1\u001b[39m]\n",
      "\u001b[0;31mTypeError\u001b[0m: list indices must be integers or slices, not tuple"
     ]
    }
   ],
   "source": [
    "O_plus = O_hat[:, 0]\n",
    "O_minus = O_hat[:, 1]"
   ]
  },
  {
   "cell_type": "code",
   "execution_count": 35,
   "metadata": {},
   "outputs": [
    {
     "data": {
      "text/plain": [
       "numpy.ndarray"
      ]
     },
     "execution_count": 35,
     "metadata": {},
     "output_type": "execute_result"
    }
   ],
   "source": [
    "n = 5\n",
    "O_hat = np.random.rand(n, 2)\n",
    "type(O_hat)"
   ]
  },
  {
   "cell_type": "code",
   "execution_count": 36,
   "metadata": {},
   "outputs": [
    {
     "name": "stdout",
     "output_type": "stream",
     "text": [
      "[[0.12315198 0.73581229]\n",
      " [0.08148393 0.53682331]\n",
      " [0.575328   0.49937642]\n",
      " [0.90934253 0.97876421]\n",
      " [0.16252951 0.33913686]]\n"
     ]
    }
   ],
   "source": [
    "print(O_hat)"
   ]
  },
  {
   "cell_type": "code",
   "execution_count": 37,
   "metadata": {},
   "outputs": [
    {
     "name": "stdout",
     "output_type": "stream",
     "text": [
      "[[0.12315198 0.08148393 0.575328   0.90934253 0.16252951]\n",
      " [0.73581229 0.53682331 0.49937642 0.97876421 0.33913686]]\n"
     ]
    }
   ],
   "source": [
    "print(O_hat.transpose())"
   ]
  },
  {
   "cell_type": "code",
   "execution_count": 38,
   "metadata": {},
   "outputs": [
    {
     "name": "stdout",
     "output_type": "stream",
     "text": [
      "[0.12315198 0.08148393 0.575328   0.90934253 0.16252951]\n"
     ]
    }
   ],
   "source": [
    "O_plue = O_hat[:,0]\n",
    "print(O_plue)\n",
    "O_minus = O_hat[:,1]"
   ]
  },
  {
   "cell_type": "code",
   "execution_count": 39,
   "metadata": {},
   "outputs": [],
   "source": [
    "matrix = [O_plue, O_minus]"
   ]
  },
  {
   "cell_type": "code",
   "execution_count": 40,
   "metadata": {},
   "outputs": [
    {
     "name": "stdout",
     "output_type": "stream",
     "text": [
      "[array([0.12315198, 0.08148393, 0.575328  , 0.90934253, 0.16252951]), array([0.73581229, 0.53682331, 0.49937642, 0.97876421, 0.33913686])]\n"
     ]
    }
   ],
   "source": [
    "print(matrix)"
   ]
  },
  {
   "cell_type": "code",
   "execution_count": 41,
   "metadata": {},
   "outputs": [
    {
     "data": {
      "text/plain": [
       "array([[0.12315198, 0.73581229],\n",
       "       [0.08148393, 0.53682331],\n",
       "       [0.575328  , 0.49937642],\n",
       "       [0.90934253, 0.97876421],\n",
       "       [0.16252951, 0.33913686]])"
      ]
     },
     "execution_count": 41,
     "metadata": {},
     "output_type": "execute_result"
    }
   ],
   "source": [
    "np.array(matrix).transpose()"
   ]
  },
  {
   "cell_type": "code",
   "execution_count": null,
   "metadata": {},
   "outputs": [],
   "source": []
  }
 ],
 "metadata": {
  "kernelspec": {
   "display_name": "hons-project",
   "language": "python",
   "name": "python3"
  },
  "language_info": {
   "codemirror_mode": {
    "name": "ipython",
    "version": 3
   },
   "file_extension": ".py",
   "mimetype": "text/x-python",
   "name": "python",
   "nbconvert_exporter": "python",
   "pygments_lexer": "ipython3",
   "version": "3.8.18"
  }
 },
 "nbformat": 4,
 "nbformat_minor": 2
}
