{
 "cells": [
  {
   "cell_type": "code",
   "execution_count": 5,
   "metadata": {},
   "outputs": [],
   "source": [
    "import pandas as pd"
   ]
  },
  {
   "cell_type": "code",
   "execution_count": 11,
   "metadata": {},
   "outputs": [],
   "source": [
    "data_folder = \"/Users/apple/PROJECT/Code_4_SECfilings/test.filings\"\n",
    "save_folder = \"/Users/apple/PROJECT/Hons-project/data/SP500\"\n",
    "firms_csv_file_path = \"/Users/apple/PROJECT/Code_4_SECfilings/QQQ_constituents.csv\"\n",
    "firms_df = pd.read_csv(firms_csv_file_path)\n",
    "# firms_df = firms_df.drop(['Security', 'GICS Sector', 'GICS Sub-Industry', 'Headquarters Location', 'Date added', 'Founded'], axis=1)\n",
    "firms_df['CIK'] = firms_df['CIK'].apply(lambda x: str(x).zfill(10))\n",
    "firms_dict = firms_df.set_index('Symbol')['CIK'].to_dict()\n",
    "firms_dict = {value: key for key, value in firms_dict.items()}"
   ]
  },
  {
   "cell_type": "code",
   "execution_count": 13,
   "metadata": {},
   "outputs": [
    {
     "name": "stdout",
     "output_type": "stream",
     "text": [
      "part-00001-d82a0d43-3477-4301-b199-571ecbc11fb7-c000.csv\n",
      "part-00000-d82a0d43-3477-4301-b199-571ecbc11fb7-c000.csv\n",
      ".part-00002-d82a0d43-3477-4301-b199-571ecbc11fb7-c000.csv.crc\n",
      "._SUCCESS.crc\n",
      "part-00003-d82a0d43-3477-4301-b199-571ecbc11fb7-c000.csv\n",
      ".part-00003-d82a0d43-3477-4301-b199-571ecbc11fb7-c000.csv.crc\n",
      ".part-00001-d82a0d43-3477-4301-b199-571ecbc11fb7-c000.csv.crc\n",
      ".part-00000-d82a0d43-3477-4301-b199-571ecbc11fb7-c000.csv.crc\n",
      "part-00002-d82a0d43-3477-4301-b199-571ecbc11fb7-c000.csv\n",
      "_SUCCESS\n"
     ]
    }
   ],
   "source": [
    "import os\n",
    "files_path = \"/Users/apple/PROJECT/hons_project/data/SP500\"\n",
    "folder = 'company_df'\n",
    "folder_path = os.path.join(files_path, folder)\n",
    "cik_folder = os.path.join(folder_path, \"0000002488\")\n",
    "for file_name in os.listdir(cik_folder):\n",
    "    print(file_name)"
   ]
  },
  {
   "cell_type": "code",
   "execution_count": 14,
   "metadata": {},
   "outputs": [
    {
     "name": "stdout",
     "output_type": "stream",
     "text": [
      "/Users/apple/PROJECT/hons_project/data/SP500/company_df/0000002488\n"
     ]
    }
   ],
   "source": [
    "print(cik_folder)"
   ]
  },
  {
   "cell_type": "code",
   "execution_count": 17,
   "metadata": {},
   "outputs": [],
   "source": [
    "file_name = \"part-00001-d82a0d43-3477-4301-b199-571ecbc11fb7-c000.csv\"\n",
    "file_loc = cik_folder\n",
    "\n"
   ]
  },
  {
   "cell_type": "code",
   "execution_count": null,
   "metadata": {},
   "outputs": [],
   "source": [
    "df = pd.read_csv(f'{file_loc}/{file_name}', header = 0)"
   ]
  },
  {
   "cell_type": "code",
   "execution_count": null,
   "metadata": {},
   "outputs": [
    {
     "data": {
      "text/plain": [
       "'/Users/apple/PROJECT/hons_project/data/SP500/company_df/0000002488/part-00001-d82a0d43-3477-4301-b199-571ecbc11fb7-c000.csv'"
      ]
     },
     "execution_count": 24,
     "metadata": {},
     "output_type": "execute_result"
    }
   ],
   "source": [
    "file_path = f'{file_loc}/{file_name}'\n",
    "file_path\n"
   ]
  },
  {
   "cell_type": "code",
   "execution_count": 57,
   "metadata": {},
   "outputs": [
    {
     "name": "stdout",
     "output_type": "stream",
     "text": [
      "Name,CIK,Date,Body\n",
      "AMD,0000002488,2014-05-01,\"10-Q 1 d714367d10q.htm FORM 10-Q Form 10-Q Table of Contents [heading]UNITED STATES [/heading] [heading]SECURITIES AND EXCHANGE COMMISSION [/heading] [heading]Washington, D.C. 20549[/heading] [heading]Form 10-Q [/heading] (Mark One)   x   [heading]QUARTERLY REPORT PURSUANT TO SECTION 13 OR 15 (d) OF THE SECURITIES EXCHANGE ACT OF 1934 [/heading] [heading]For the quarterly period ended March 29, 2014 [/heading] [heading]OR [/heading]  Â¨   [heading]TRANSITION REPORT PURSUANT TO SECTION 13 OR 15 (d) OF THE SECURITIES EXCHANGE ACT OF 1934 [/heading] [heading]For the transition period from              to\n",
      "[/heading] [heading]Commission File Number 001-07882\n",
      "[/heading] [heading]ADVANCED MICRO DEVICES, INC. [/heading] [heading](Exact name of registrant as specified in its charter) [/heading] [heading]Delaware[/heading] [heading]94-1692300[/heading] [heading](State or other jurisdiction of[/heading] [heading]incorporation or organization)[/heading] [heading](I.R.S. Employer[/heading] [heading]Identification No.)[/heading] [heading]One AMD Place[/heading] [heading]Sunnyvale, California[/heading] [heading]94088[/heading] [heading](Address of principal executive offices)[/heading] [heading](Zip Code)[/heading] [heading]Registrantâs telephone number, including area code: (408) 749-4000 [/heading] Indicate by check mark whether the registrant: (1) has filed all reports required to be filed by Section 13 or 15(d) of the\n",
      "Securities Exchange Act of 1934 during the preceding 12 months (or for such shorter period that the registrant was required to file such reports), and (2) has been subject to such filing requirements for the past 90\n",
      "days.    Yes x No Â¨ Indicate by check mark whether the registrant has submitted electronically and posted on its corporate Web site, if any, every\n",
      "Interactive Data File required to be submitted and posted pursuant to Rule 405 of Regulation S-T (Â§232.405 of this chapter) during the preceding 12 months (or for such shorter period that the registrant was required to submit and post such\n",
      "files).    Yes x No Â¨ Indicate by check mark whether the registrant is a large accelerated filer, an accelerated filer, a non-accelerated filer or a smaller\n",
      "reporting company. See definition of âlarge accelerated filer,â âaccelerated filerâ and âsmaller reporting companyâ in Rule 12b-2 of the Exchange Act. Large accelerated filer x Accelerated filer Â¨ Non-accelerated filer Â¨ (Do not check if a smaller reporting company) Smaller reporting company Â¨ Indicate by check mark whether the registrant is a shell company (as defined by Rule 12b-2 of the\n",
      "Exchange Act).    Yes Â¨ No x Indicate the number of shares outstanding of the registrantâs common stock,\n"
     ]
    }
   ],
   "source": [
    "# file_path = '/Users/apple/PROJECT/hons_project/data/SP500/company_df/0000002488/part-00001-d82a0d43-3477-4301-b199-571ecbc11fb7-c000.csv'\n",
    "file_path = '/Users/apple/PROJECT/hons_project/data/SP500/company_df/0000002488/part-00001-615b5f08-bfdd-4866-a313-d027a41f208b-c000.csv'\n",
    "with open(file_path, 'r', encoding='utf-8') as file:\n",
    "    for i, line in enumerate(file):\n",
    "        print(line.strip())  # Print each line without extra whitespace\n",
    "        if i == 9:  # Stop after 10 lines\n",
    "            break\n"
   ]
  },
  {
   "cell_type": "code",
   "execution_count": 58,
   "metadata": {},
   "outputs": [],
   "source": [
    "file_path2 = \"/Users/apple/PROJECT/Code_4_SECfilings/fillings/company_df/0000002488.csv\""
   ]
  },
  {
   "cell_type": "code",
   "execution_count": 59,
   "metadata": {},
   "outputs": [
    {
     "name": "stdout",
     "output_type": "stream",
     "text": [
      "Name,CIK,Date,Body\n",
      "AMD,0000002488,2006-02-27,\"10-K 1 d10k.htm FOR THE FISCAL YEAR ENDED DECEMBER 25, 2005 For the fiscal year ended December 25, 2005 Table of Contents [heading]UNITED STATES [/heading] [heading]SECURITIES AND EXCHANGE COMMISSION [/heading] [heading]Washington, D.C. 20549 [/heading] [heading]FORM 10-K [/heading] [heading](Mark One) [/heading] [heading]x[/heading] [heading]ANNUAL REPORT PURSUANT TO SECTION 13 OR 15(d) OF THE SECURITIES EXCHANGE ACT OF 1934. [/heading] [heading]For the fiscal year ended December 25, 2005 [/heading] [heading]OR [/heading]    [heading]TRANSITION REPORT PURSUANT TO SECTION 13 OR 15(d) OF THE SECURITIES EXCHANGE ACT OF 1934. [/heading] [heading]For the transition period from ____________ to ____________ [/heading] [heading]Commission File Number 001-07882 [/heading] [heading]ADVANCED MICRO DEVICES, INC. [/heading] [heading](Exact name of registrant as specified in its\n",
      "charter) [/heading] [heading]Delaware[/heading] [heading]94-1692300[/heading] [heading](State or other jurisdiction of incorporation or organization) [/heading] [heading](I.R.S. Employer Identification No.)[/heading] [heading]One AMD Place, Sunnyvale, California [/heading] [heading]94088[/heading] [heading](Address of principal executive offices) [/heading] [heading](Zip Code)[/heading] [heading](408) 749-4000 [/heading] [heading](Registrant’s telephone number, including area code) [/heading] [heading]Securities registered pursuant to Section 12(b) of the Act: [/heading] [heading](Title of each class)[/heading] [heading](Name of each exchange[/heading] [heading]on which registered)[/heading] Common Stock per share $0.01 par value New York Stock Exchange [heading]Securities registered pursuant to Section 12(g) of the Act: [/heading] [heading]None [/heading] Indicate by check mark if the\n",
      "registrant is a well-known seasoned issuer, as defined in Rule 405 of the Securities Act.  Yes x No ¨ Indicate by check mark if the registrant is not required to file\n",
      "reports pursuant to Section 13 or Section 15(d) of the Exchange Act.  Yes ¨ No x Indicate by check mark whether the registrant (1) has filed all reports required to be filed by\n",
      "Section 13 or 15(d) of the Securities Exchange Act of 1934 during the preceding 12 months (or for such shorter period that the registrant was required to file such reports), and (2) has been subject to such filing requirements for the past\n",
      "90 days.  Yes x No ¨ Indicate by check mark if disclosure of delinquent filers pursuant to Item 405 of Regulation S-K is not contained herein, and will not be contained,\n",
      "to the best of registrant’s knowledge, in definitive proxy or information statements incorporated by reference in Part III of this Form 10-K or any amendment to this Form 10-K. x Indicate by check mark whether the registrant is a large accelerated filer, an accelerated filer or a non-accelerated filer. See definition of\n",
      "“accelerated filer and large accelerated filer” in Rule 12b-2 of the Exchange Act. Large accelerated filer x Accelerated filer ¨ Non-accelerated filer ¨ Indicate by check mark whether the registrant is a shell company (as defined by Rule 12b-2 of the Exchange Act)  Yes ¨ No x As of June 24, 2005, the aggregate market value of the registrant’s common stock held by non-affiliates of the registrant was approximately $6,799,159,288 based on the reported closing sale price of $17.17\n",
      "per share as reported on the New York Stock Exchange on June 24, 2005, which was the last business day of the registrant’s most recently completed second fiscal quarter. Indicate the number of shares outstanding of each of the registrant’s classes of common stock, as of the latest practicable date. 480,887,662 shares of common stock, $0.01 par value per share, as of February 17, 2006 [heading]DOCUMENTS INCORPORATED BY REFERENCE [/heading] Portions of the Proxy Statement for the Annual Meeting of Stockholders to be held on May 5, 2006, are incorporated into Part II and III hereof. AMD, the AMD Arrow logo, AMD Athlon, AMD Opteron, AMD Sempron, AMD Turion, AMD PowerNow!, Alchemy, Geode and combinations thereof are trademarks of AMD.\n"
     ]
    }
   ],
   "source": [
    "\n",
    "with open(file_path2, 'r', encoding='utf-8') as file:\n",
    "    for i, line in enumerate(file):\n",
    "        print(line.strip())  # Print each line without extra whitespace\n",
    "        if i == 9:  # Stop after 10 lines\n",
    "            break\n"
   ]
  },
  {
   "cell_type": "code",
   "execution_count": 19,
   "metadata": {},
   "outputs": [],
   "source": [
    "file_path = \"/Users/apple/PROJECT/hons_project/data/SP500/company_df/0000002488/part-00001-1a8ed21f-a41c-4677-b7f4-927372d73d59-c000.csv\"\n",
    "\n",
    "df = pd.read_csv(file_path, usecols=[0,1,2,3] ,delimiter=',', encoding='utf-8', header=0)\n"
   ]
  },
  {
   "cell_type": "code",
   "execution_count": 47,
   "metadata": {},
   "outputs": [
    {
     "data": {
      "text/html": [
       "<div>\n",
       "<style scoped>\n",
       "    .dataframe tbody tr th:only-of-type {\n",
       "        vertical-align: middle;\n",
       "    }\n",
       "\n",
       "    .dataframe tbody tr th {\n",
       "        vertical-align: top;\n",
       "    }\n",
       "\n",
       "    .dataframe thead th {\n",
       "        text-align: right;\n",
       "    }\n",
       "</style>\n",
       "<table border=\"1\" class=\"dataframe\">\n",
       "  <thead>\n",
       "    <tr style=\"text-align: right;\">\n",
       "      <th></th>\n",
       "      <th>Name,CIK,Date,Body</th>\n",
       "    </tr>\n",
       "  </thead>\n",
       "  <tbody>\n",
       "    <tr>\n",
       "      <th>0</th>\n",
       "      <td>AMD,0000002488,2014-05-01,\"10-Q 1 d714367d10q....</td>\n",
       "    </tr>\n",
       "    <tr>\n",
       "      <th>1</th>\n",
       "      <td>[/heading] [heading]Commission Fi...</td>\n",
       "    </tr>\n",
       "    <tr>\n",
       "      <th>2</th>\n",
       "      <td>[/heading] [heading]ADVANCED MICRO DEVICES, IN...</td>\n",
       "    </tr>\n",
       "    <tr>\n",
       "      <th>3</th>\n",
       "      <td>Securities Exchange Act of 1934 during the pre...</td>\n",
       "    </tr>\n",
       "    <tr>\n",
       "      <th>4</th>\n",
       "      <td>days.    Yes x No Â¨ Indicate by check mark wh...</td>\n",
       "    </tr>\n",
       "    <tr>\n",
       "      <th>...</th>\n",
       "      <td>...</td>\n",
       "    </tr>\n",
       "    <tr>\n",
       "      <th>3032</th>\n",
       "      <td>AMD,0000002488,2015-11-03,\"10-Q 1 amd092620151...</td>\n",
       "    </tr>\n",
       "    <tr>\n",
       "      <th>3033</th>\n",
       "      <td>AMD,0000002488,2016-04-28,\"10-Q 1 amd032620161...</td>\n",
       "    </tr>\n",
       "    <tr>\n",
       "      <th>3034</th>\n",
       "      <td>AMD,0000002488,2016-07-26,\"10-Q 1 amd062520161...</td>\n",
       "    </tr>\n",
       "    <tr>\n",
       "      <th>3035</th>\n",
       "      <td>AMD,0000002488,2016-10-26,\"10-Q 1 amd092420161...</td>\n",
       "    </tr>\n",
       "    <tr>\n",
       "      <th>3036</th>\n",
       "      <td>AMD,0000002488,2017-05-08,\"10-Q 1 amd040120171...</td>\n",
       "    </tr>\n",
       "  </tbody>\n",
       "</table>\n",
       "<p>3037 rows × 1 columns</p>\n",
       "</div>"
      ],
      "text/plain": [
       "                                     Name,CIK,Date,Body\n",
       "0     AMD,0000002488,2014-05-01,\"10-Q 1 d714367d10q....\n",
       "1                  [/heading] [heading]Commission Fi...\n",
       "2     [/heading] [heading]ADVANCED MICRO DEVICES, IN...\n",
       "3     Securities Exchange Act of 1934 during the pre...\n",
       "4     days.    Yes x No Â¨ Indicate by check mark wh...\n",
       "...                                                 ...\n",
       "3032  AMD,0000002488,2015-11-03,\"10-Q 1 amd092620151...\n",
       "3033  AMD,0000002488,2016-04-28,\"10-Q 1 amd032620161...\n",
       "3034  AMD,0000002488,2016-07-26,\"10-Q 1 amd062520161...\n",
       "3035  AMD,0000002488,2016-10-26,\"10-Q 1 amd092420161...\n",
       "3036  AMD,0000002488,2017-05-08,\"10-Q 1 amd040120171...\n",
       "\n",
       "[3037 rows x 1 columns]"
      ]
     },
     "execution_count": 47,
     "metadata": {},
     "output_type": "execute_result"
    }
   ],
   "source": [
    "df"
   ]
  },
  {
   "cell_type": "code",
   "execution_count": 63,
   "metadata": {},
   "outputs": [],
   "source": [
    "file_path4 = \"/Users/apple/PROJECT/Code_4_SECfilings/fillings/company_df/0000002488.csv\"\n",
    "df2 = pd.read_csv(file_path2, delimiter = ',', header = 0)"
   ]
  },
  {
   "cell_type": "code",
   "execution_count": 64,
   "metadata": {},
   "outputs": [
    {
     "data": {
      "text/html": [
       "<div>\n",
       "<style scoped>\n",
       "    .dataframe tbody tr th:only-of-type {\n",
       "        vertical-align: middle;\n",
       "    }\n",
       "\n",
       "    .dataframe tbody tr th {\n",
       "        vertical-align: top;\n",
       "    }\n",
       "\n",
       "    .dataframe thead th {\n",
       "        text-align: right;\n",
       "    }\n",
       "</style>\n",
       "<table border=\"1\" class=\"dataframe\">\n",
       "  <thead>\n",
       "    <tr style=\"text-align: right;\">\n",
       "      <th></th>\n",
       "      <th>Name</th>\n",
       "      <th>CIK</th>\n",
       "      <th>Date</th>\n",
       "      <th>Body</th>\n",
       "    </tr>\n",
       "  </thead>\n",
       "  <tbody>\n",
       "    <tr>\n",
       "      <th>0</th>\n",
       "      <td>AMD</td>\n",
       "      <td>2488</td>\n",
       "      <td>2006-02-27</td>\n",
       "      <td>10-K 1 d10k.htm FOR THE FISCAL YEAR ENDED DECE...</td>\n",
       "    </tr>\n",
       "    <tr>\n",
       "      <th>1</th>\n",
       "      <td>AMD</td>\n",
       "      <td>2488</td>\n",
       "      <td>2007-03-01</td>\n",
       "      <td>10-K 1 d10k.htm FORM 10-K Form 10-K Table of C...</td>\n",
       "    </tr>\n",
       "    <tr>\n",
       "      <th>2</th>\n",
       "      <td>AMD</td>\n",
       "      <td>2488</td>\n",
       "      <td>2008-02-26</td>\n",
       "      <td>10-K 1 d10k.htm FORM 10-K Form 10-K Table of C...</td>\n",
       "    </tr>\n",
       "    <tr>\n",
       "      <th>3</th>\n",
       "      <td>AMD</td>\n",
       "      <td>2488</td>\n",
       "      <td>2009-02-24</td>\n",
       "      <td>10-K 1 d10k.htm FORM 10-K Form 10-K Table of C...</td>\n",
       "    </tr>\n",
       "    <tr>\n",
       "      <th>4</th>\n",
       "      <td>AMD</td>\n",
       "      <td>2488</td>\n",
       "      <td>2010-02-19</td>\n",
       "      <td>10-K 1 d10k.htm FORM 10-K Form 10-K Table of C...</td>\n",
       "    </tr>\n",
       "    <tr>\n",
       "      <th>5</th>\n",
       "      <td>AMD</td>\n",
       "      <td>2488</td>\n",
       "      <td>2011-02-18</td>\n",
       "      <td>10-K 1 d10k.htm ANNUAL REPORT ON FORM 10-K Ann...</td>\n",
       "    </tr>\n",
       "    <tr>\n",
       "      <th>6</th>\n",
       "      <td>AMD</td>\n",
       "      <td>2488</td>\n",
       "      <td>2012-02-24</td>\n",
       "      <td>10-K 1 d257108d10k.htm FORM 10-K Form 10-K Tab...</td>\n",
       "    </tr>\n",
       "    <tr>\n",
       "      <th>7</th>\n",
       "      <td>AMD</td>\n",
       "      <td>2488</td>\n",
       "      <td>2013-02-21</td>\n",
       "      <td>10-K 1 d486815d10k.htm FORM 10-K Form 10-K Tab...</td>\n",
       "    </tr>\n",
       "    <tr>\n",
       "      <th>8</th>\n",
       "      <td>AMD</td>\n",
       "      <td>2488</td>\n",
       "      <td>2014-02-18</td>\n",
       "      <td>10-K 1 d674550d10k.htm 10-K 10-K Table of Cont...</td>\n",
       "    </tr>\n",
       "    <tr>\n",
       "      <th>9</th>\n",
       "      <td>AMD</td>\n",
       "      <td>2488</td>\n",
       "      <td>2015-02-19</td>\n",
       "      <td>10-K 1 d871455d10k.htm 10-K 10-K Table of Cont...</td>\n",
       "    </tr>\n",
       "    <tr>\n",
       "      <th>10</th>\n",
       "      <td>AMD</td>\n",
       "      <td>2488</td>\n",
       "      <td>2016-02-18</td>\n",
       "      <td>10-K 1 amd-12262015x10k.htm 10-K 10-K [heading...</td>\n",
       "    </tr>\n",
       "    <tr>\n",
       "      <th>11</th>\n",
       "      <td>AMD</td>\n",
       "      <td>2488</td>\n",
       "      <td>2017-02-21</td>\n",
       "      <td>10-K 1 amd-12312016x10k.htm 10-K Document [hea...</td>\n",
       "    </tr>\n",
       "    <tr>\n",
       "      <th>12</th>\n",
       "      <td>AMD</td>\n",
       "      <td>2488</td>\n",
       "      <td>2018-02-27</td>\n",
       "      <td>10-K 1 amd-12302017x10k.htm 10-K Document [hea...</td>\n",
       "    </tr>\n",
       "    <tr>\n",
       "      <th>13</th>\n",
       "      <td>AMD</td>\n",
       "      <td>2488</td>\n",
       "      <td>2019-02-08</td>\n",
       "      <td>10-K 1 amd-12292018x10k.htm 10-K Document [hea...</td>\n",
       "    </tr>\n",
       "    <tr>\n",
       "      <th>14</th>\n",
       "      <td>AMD</td>\n",
       "      <td>2488</td>\n",
       "      <td>2020-02-04</td>\n",
       "      <td>10-K 1 amdform10-kfy2019.htm 10-K Document P6Y...</td>\n",
       "    </tr>\n",
       "    <tr>\n",
       "      <th>15</th>\n",
       "      <td>AMD</td>\n",
       "      <td>2488</td>\n",
       "      <td>2021-01-29</td>\n",
       "      <td>10-K 1 amd-20201226.htm 10-K amd-20201226 fals...</td>\n",
       "    </tr>\n",
       "    <tr>\n",
       "      <th>16</th>\n",
       "      <td>AMD</td>\n",
       "      <td>2488</td>\n",
       "      <td>2022-02-03</td>\n",
       "      <td>10-K 1 amd-20211225.htm 10-K amd-20211225 10-K...</td>\n",
       "    </tr>\n",
       "    <tr>\n",
       "      <th>17</th>\n",
       "      <td>AMD</td>\n",
       "      <td>2488</td>\n",
       "      <td>2023-02-27</td>\n",
       "      <td>10-K 1 amd-20221231.htm 10-K amd-20221231 10-K...</td>\n",
       "    </tr>\n",
       "  </tbody>\n",
       "</table>\n",
       "</div>"
      ],
      "text/plain": [
       "   Name   CIK        Date                                               Body\n",
       "0   AMD  2488  2006-02-27  10-K 1 d10k.htm FOR THE FISCAL YEAR ENDED DECE...\n",
       "1   AMD  2488  2007-03-01  10-K 1 d10k.htm FORM 10-K Form 10-K Table of C...\n",
       "2   AMD  2488  2008-02-26  10-K 1 d10k.htm FORM 10-K Form 10-K Table of C...\n",
       "3   AMD  2488  2009-02-24  10-K 1 d10k.htm FORM 10-K Form 10-K Table of C...\n",
       "4   AMD  2488  2010-02-19  10-K 1 d10k.htm FORM 10-K Form 10-K Table of C...\n",
       "5   AMD  2488  2011-02-18  10-K 1 d10k.htm ANNUAL REPORT ON FORM 10-K Ann...\n",
       "6   AMD  2488  2012-02-24  10-K 1 d257108d10k.htm FORM 10-K Form 10-K Tab...\n",
       "7   AMD  2488  2013-02-21  10-K 1 d486815d10k.htm FORM 10-K Form 10-K Tab...\n",
       "8   AMD  2488  2014-02-18  10-K 1 d674550d10k.htm 10-K 10-K Table of Cont...\n",
       "9   AMD  2488  2015-02-19  10-K 1 d871455d10k.htm 10-K 10-K Table of Cont...\n",
       "10  AMD  2488  2016-02-18  10-K 1 amd-12262015x10k.htm 10-K 10-K [heading...\n",
       "11  AMD  2488  2017-02-21  10-K 1 amd-12312016x10k.htm 10-K Document [hea...\n",
       "12  AMD  2488  2018-02-27  10-K 1 amd-12302017x10k.htm 10-K Document [hea...\n",
       "13  AMD  2488  2019-02-08  10-K 1 amd-12292018x10k.htm 10-K Document [hea...\n",
       "14  AMD  2488  2020-02-04  10-K 1 amdform10-kfy2019.htm 10-K Document P6Y...\n",
       "15  AMD  2488  2021-01-29  10-K 1 amd-20201226.htm 10-K amd-20201226 fals...\n",
       "16  AMD  2488  2022-02-03  10-K 1 amd-20211225.htm 10-K amd-20211225 10-K...\n",
       "17  AMD  2488  2023-02-27  10-K 1 amd-20221231.htm 10-K amd-20221231 10-K..."
      ]
     },
     "execution_count": 64,
     "metadata": {},
     "output_type": "execute_result"
    }
   ],
   "source": [
    "df2"
   ]
  },
  {
   "cell_type": "code",
   "execution_count": 16,
   "metadata": {},
   "outputs": [],
   "source": [
    "import pandas as pd\n",
    "\n",
    "\n",
    "file_path1 = \"/Users/apple/PROJECT/hons_project/data/SP500/company_df/0000002969/part-00000-c2599222-c893-4608-ba6a-3da9db57c1d9-c000.csv\"\n",
    "file_path2 = \"/Users/apple/PROJECT/hons_project/data/SP500/company_df/0000002969/part-00001-c2599222-c893-4608-ba6a-3da9db57c1d9-c000.csv\""
   ]
  },
  {
   "cell_type": "code",
   "execution_count": 18,
   "metadata": {},
   "outputs": [
    {
     "ename": "ParserError",
     "evalue": "Error tokenizing data. C error: Expected 1127 fields in line 3, saw 1326\n",
     "output_type": "error",
     "traceback": [
      "\u001b[0;31m---------------------------------------------------------------------------\u001b[0m",
      "\u001b[0;31mParserError\u001b[0m                               Traceback (most recent call last)",
      "Cell \u001b[0;32mIn[18], line 1\u001b[0m\n\u001b[0;32m----> 1\u001b[0m df \u001b[38;5;241m=\u001b[39m \u001b[43mpd\u001b[49m\u001b[38;5;241;43m.\u001b[39;49m\u001b[43mread_csv\u001b[49m\u001b[43m(\u001b[49m\u001b[43mfile_path2\u001b[49m\u001b[43m,\u001b[49m\u001b[43m \u001b[49m\u001b[43mdelimiter\u001b[49m\u001b[38;5;241;43m=\u001b[39;49m\u001b[38;5;124;43m'\u001b[39;49m\u001b[38;5;124;43m,\u001b[39;49m\u001b[38;5;124;43m'\u001b[39;49m\u001b[43m,\u001b[49m\u001b[43m \u001b[49m\u001b[43mencoding\u001b[49m\u001b[38;5;241;43m=\u001b[39;49m\u001b[38;5;124;43m'\u001b[39;49m\u001b[38;5;124;43mutf-8\u001b[39;49m\u001b[38;5;124;43m'\u001b[39;49m\u001b[43m,\u001b[49m\u001b[43m \u001b[49m\u001b[43mheader\u001b[49m\u001b[38;5;241;43m=\u001b[39;49m\u001b[38;5;241;43m0\u001b[39;49m\u001b[43m)\u001b[49m\n",
      "File \u001b[0;32m~/miniconda3/envs/hons-project/lib/python3.8/site-packages/pandas/io/parsers/readers.py:912\u001b[0m, in \u001b[0;36mread_csv\u001b[0;34m(filepath_or_buffer, sep, delimiter, header, names, index_col, usecols, dtype, engine, converters, true_values, false_values, skipinitialspace, skiprows, skipfooter, nrows, na_values, keep_default_na, na_filter, verbose, skip_blank_lines, parse_dates, infer_datetime_format, keep_date_col, date_parser, date_format, dayfirst, cache_dates, iterator, chunksize, compression, thousands, decimal, lineterminator, quotechar, quoting, doublequote, escapechar, comment, encoding, encoding_errors, dialect, on_bad_lines, delim_whitespace, low_memory, memory_map, float_precision, storage_options, dtype_backend)\u001b[0m\n\u001b[1;32m    899\u001b[0m kwds_defaults \u001b[38;5;241m=\u001b[39m _refine_defaults_read(\n\u001b[1;32m    900\u001b[0m     dialect,\n\u001b[1;32m    901\u001b[0m     delimiter,\n\u001b[0;32m   (...)\u001b[0m\n\u001b[1;32m    908\u001b[0m     dtype_backend\u001b[38;5;241m=\u001b[39mdtype_backend,\n\u001b[1;32m    909\u001b[0m )\n\u001b[1;32m    910\u001b[0m kwds\u001b[38;5;241m.\u001b[39mupdate(kwds_defaults)\n\u001b[0;32m--> 912\u001b[0m \u001b[38;5;28;01mreturn\u001b[39;00m \u001b[43m_read\u001b[49m\u001b[43m(\u001b[49m\u001b[43mfilepath_or_buffer\u001b[49m\u001b[43m,\u001b[49m\u001b[43m \u001b[49m\u001b[43mkwds\u001b[49m\u001b[43m)\u001b[49m\n",
      "File \u001b[0;32m~/miniconda3/envs/hons-project/lib/python3.8/site-packages/pandas/io/parsers/readers.py:583\u001b[0m, in \u001b[0;36m_read\u001b[0;34m(filepath_or_buffer, kwds)\u001b[0m\n\u001b[1;32m    580\u001b[0m     \u001b[38;5;28;01mreturn\u001b[39;00m parser\n\u001b[1;32m    582\u001b[0m \u001b[38;5;28;01mwith\u001b[39;00m parser:\n\u001b[0;32m--> 583\u001b[0m     \u001b[38;5;28;01mreturn\u001b[39;00m \u001b[43mparser\u001b[49m\u001b[38;5;241;43m.\u001b[39;49m\u001b[43mread\u001b[49m\u001b[43m(\u001b[49m\u001b[43mnrows\u001b[49m\u001b[43m)\u001b[49m\n",
      "File \u001b[0;32m~/miniconda3/envs/hons-project/lib/python3.8/site-packages/pandas/io/parsers/readers.py:1704\u001b[0m, in \u001b[0;36mTextFileReader.read\u001b[0;34m(self, nrows)\u001b[0m\n\u001b[1;32m   1697\u001b[0m nrows \u001b[38;5;241m=\u001b[39m validate_integer(\u001b[38;5;124m\"\u001b[39m\u001b[38;5;124mnrows\u001b[39m\u001b[38;5;124m\"\u001b[39m, nrows)\n\u001b[1;32m   1698\u001b[0m \u001b[38;5;28;01mtry\u001b[39;00m:\n\u001b[1;32m   1699\u001b[0m     \u001b[38;5;66;03m# error: \"ParserBase\" has no attribute \"read\"\u001b[39;00m\n\u001b[1;32m   1700\u001b[0m     (\n\u001b[1;32m   1701\u001b[0m         index,\n\u001b[1;32m   1702\u001b[0m         columns,\n\u001b[1;32m   1703\u001b[0m         col_dict,\n\u001b[0;32m-> 1704\u001b[0m     ) \u001b[38;5;241m=\u001b[39m \u001b[38;5;28;43mself\u001b[39;49m\u001b[38;5;241;43m.\u001b[39;49m\u001b[43m_engine\u001b[49m\u001b[38;5;241;43m.\u001b[39;49m\u001b[43mread\u001b[49m\u001b[43m(\u001b[49m\u001b[43m  \u001b[49m\u001b[38;5;66;43;03m# type: ignore[attr-defined]\u001b[39;49;00m\n\u001b[1;32m   1705\u001b[0m \u001b[43m        \u001b[49m\u001b[43mnrows\u001b[49m\n\u001b[1;32m   1706\u001b[0m \u001b[43m    \u001b[49m\u001b[43m)\u001b[49m\n\u001b[1;32m   1707\u001b[0m \u001b[38;5;28;01mexcept\u001b[39;00m \u001b[38;5;167;01mException\u001b[39;00m:\n\u001b[1;32m   1708\u001b[0m     \u001b[38;5;28mself\u001b[39m\u001b[38;5;241m.\u001b[39mclose()\n",
      "File \u001b[0;32m~/miniconda3/envs/hons-project/lib/python3.8/site-packages/pandas/io/parsers/c_parser_wrapper.py:234\u001b[0m, in \u001b[0;36mCParserWrapper.read\u001b[0;34m(self, nrows)\u001b[0m\n\u001b[1;32m    232\u001b[0m \u001b[38;5;28;01mtry\u001b[39;00m:\n\u001b[1;32m    233\u001b[0m     \u001b[38;5;28;01mif\u001b[39;00m \u001b[38;5;28mself\u001b[39m\u001b[38;5;241m.\u001b[39mlow_memory:\n\u001b[0;32m--> 234\u001b[0m         chunks \u001b[38;5;241m=\u001b[39m \u001b[38;5;28;43mself\u001b[39;49m\u001b[38;5;241;43m.\u001b[39;49m\u001b[43m_reader\u001b[49m\u001b[38;5;241;43m.\u001b[39;49m\u001b[43mread_low_memory\u001b[49m\u001b[43m(\u001b[49m\u001b[43mnrows\u001b[49m\u001b[43m)\u001b[49m\n\u001b[1;32m    235\u001b[0m         \u001b[38;5;66;03m# destructive to chunks\u001b[39;00m\n\u001b[1;32m    236\u001b[0m         data \u001b[38;5;241m=\u001b[39m _concatenate_chunks(chunks)\n",
      "File \u001b[0;32m~/miniconda3/envs/hons-project/lib/python3.8/site-packages/pandas/_libs/parsers.pyx:814\u001b[0m, in \u001b[0;36mpandas._libs.parsers.TextReader.read_low_memory\u001b[0;34m()\u001b[0m\n",
      "File \u001b[0;32m~/miniconda3/envs/hons-project/lib/python3.8/site-packages/pandas/_libs/parsers.pyx:875\u001b[0m, in \u001b[0;36mpandas._libs.parsers.TextReader._read_rows\u001b[0;34m()\u001b[0m\n",
      "File \u001b[0;32m~/miniconda3/envs/hons-project/lib/python3.8/site-packages/pandas/_libs/parsers.pyx:850\u001b[0m, in \u001b[0;36mpandas._libs.parsers.TextReader._tokenize_rows\u001b[0;34m()\u001b[0m\n",
      "File \u001b[0;32m~/miniconda3/envs/hons-project/lib/python3.8/site-packages/pandas/_libs/parsers.pyx:861\u001b[0m, in \u001b[0;36mpandas._libs.parsers.TextReader._check_tokenize_status\u001b[0;34m()\u001b[0m\n",
      "File \u001b[0;32m~/miniconda3/envs/hons-project/lib/python3.8/site-packages/pandas/_libs/parsers.pyx:2029\u001b[0m, in \u001b[0;36mpandas._libs.parsers.raise_parser_error\u001b[0;34m()\u001b[0m\n",
      "\u001b[0;31mParserError\u001b[0m: Error tokenizing data. C error: Expected 1127 fields in line 3, saw 1326\n"
     ]
    }
   ],
   "source": [
    "df = pd.read_csv(file_path2, delimiter=',', encoding='utf-8', header=0)\n"
   ]
  },
  {
   "cell_type": "code",
   "execution_count": 15,
   "metadata": {},
   "outputs": [
    {
     "data": {
      "text/html": [
       "<div>\n",
       "<style scoped>\n",
       "    .dataframe tbody tr th:only-of-type {\n",
       "        vertical-align: middle;\n",
       "    }\n",
       "\n",
       "    .dataframe tbody tr th {\n",
       "        vertical-align: top;\n",
       "    }\n",
       "\n",
       "    .dataframe thead th {\n",
       "        text-align: right;\n",
       "    }\n",
       "</style>\n",
       "<table border=\"1\" class=\"dataframe\">\n",
       "  <thead>\n",
       "    <tr style=\"text-align: right;\">\n",
       "      <th></th>\n",
       "      <th>Name</th>\n",
       "      <th>CIK</th>\n",
       "      <th>Date</th>\n",
       "      <th>Body</th>\n",
       "    </tr>\n",
       "  </thead>\n",
       "  <tbody>\n",
       "    <tr>\n",
       "      <th>0</th>\n",
       "      <td>AMD</td>\n",
       "      <td>2488</td>\n",
       "      <td>2010-08-04</td>\n",
       "      <td>10-Q 1 d10q.htm FORM 10-Q Form 10-Q Table of C...</td>\n",
       "    </tr>\n",
       "    <tr>\n",
       "      <th>1</th>\n",
       "      <td>AMD</td>\n",
       "      <td>2488</td>\n",
       "      <td>2010-11-03</td>\n",
       "      <td>10-Q 1 d10q.htm FORM 10-Q Form 10-Q Table of C...</td>\n",
       "    </tr>\n",
       "    <tr>\n",
       "      <th>2</th>\n",
       "      <td>AMD</td>\n",
       "      <td>2488</td>\n",
       "      <td>2011-05-10</td>\n",
       "      <td>10-Q 1 d10q.htm FORM 10-Q Form 10-Q Table of C...</td>\n",
       "    </tr>\n",
       "    <tr>\n",
       "      <th>3</th>\n",
       "      <td>AMD</td>\n",
       "      <td>2488</td>\n",
       "      <td>2011-08-10</td>\n",
       "      <td>10-Q 1 d10q.htm FORM 10-Q Form 10-Q Table of C...</td>\n",
       "    </tr>\n",
       "    <tr>\n",
       "      <th>4</th>\n",
       "      <td>AMD</td>\n",
       "      <td>2488</td>\n",
       "      <td>2011-11-09</td>\n",
       "      <td>10-Q 1 d226122d10q.htm FORM 10-Q Form 10-Q Tab...</td>\n",
       "    </tr>\n",
       "    <tr>\n",
       "      <th>5</th>\n",
       "      <td>AMD</td>\n",
       "      <td>2488</td>\n",
       "      <td>2012-05-09</td>\n",
       "      <td>10-Q 1 d312884d10q.htm FORM 10-Q Form 10-Q Tab...</td>\n",
       "    </tr>\n",
       "    <tr>\n",
       "      <th>6</th>\n",
       "      <td>AMD</td>\n",
       "      <td>2488</td>\n",
       "      <td>2012-08-02</td>\n",
       "      <td>10-Q 1 d386402d10q.htm FORM 10-Q Form 10-Q Tab...</td>\n",
       "    </tr>\n",
       "    <tr>\n",
       "      <th>7</th>\n",
       "      <td>AMD</td>\n",
       "      <td>2488</td>\n",
       "      <td>2012-11-01</td>\n",
       "      <td>10-Q 1 d430047d10q.htm FORM 10-Q Form 10-Q Tab...</td>\n",
       "    </tr>\n",
       "    <tr>\n",
       "      <th>8</th>\n",
       "      <td>AMD</td>\n",
       "      <td>2488</td>\n",
       "      <td>2013-05-06</td>\n",
       "      <td>10-Q 1 d528331d10q.htm 10-Q 10-Q Table of Cont...</td>\n",
       "    </tr>\n",
       "    <tr>\n",
       "      <th>9</th>\n",
       "      <td>AMD</td>\n",
       "      <td>2488</td>\n",
       "      <td>2013-08-01</td>\n",
       "      <td>10-Q 1 d573303d10q.htm 10-Q 10-Q Table of Cont...</td>\n",
       "    </tr>\n",
       "    <tr>\n",
       "      <th>10</th>\n",
       "      <td>AMD</td>\n",
       "      <td>2488</td>\n",
       "      <td>2013-10-30</td>\n",
       "      <td>10-Q 1 d616608d10q.htm 10-Q 10-Q Table of Cont...</td>\n",
       "    </tr>\n",
       "  </tbody>\n",
       "</table>\n",
       "</div>"
      ],
      "text/plain": [
       "   Name   CIK        Date                                               Body\n",
       "0   AMD  2488  2010-08-04  10-Q 1 d10q.htm FORM 10-Q Form 10-Q Table of C...\n",
       "1   AMD  2488  2010-11-03  10-Q 1 d10q.htm FORM 10-Q Form 10-Q Table of C...\n",
       "2   AMD  2488  2011-05-10  10-Q 1 d10q.htm FORM 10-Q Form 10-Q Table of C...\n",
       "3   AMD  2488  2011-08-10  10-Q 1 d10q.htm FORM 10-Q Form 10-Q Table of C...\n",
       "4   AMD  2488  2011-11-09  10-Q 1 d226122d10q.htm FORM 10-Q Form 10-Q Tab...\n",
       "5   AMD  2488  2012-05-09  10-Q 1 d312884d10q.htm FORM 10-Q Form 10-Q Tab...\n",
       "6   AMD  2488  2012-08-02  10-Q 1 d386402d10q.htm FORM 10-Q Form 10-Q Tab...\n",
       "7   AMD  2488  2012-11-01  10-Q 1 d430047d10q.htm FORM 10-Q Form 10-Q Tab...\n",
       "8   AMD  2488  2013-05-06  10-Q 1 d528331d10q.htm 10-Q 10-Q Table of Cont...\n",
       "9   AMD  2488  2013-08-01  10-Q 1 d573303d10q.htm 10-Q 10-Q Table of Cont...\n",
       "10  AMD  2488  2013-10-30  10-Q 1 d616608d10q.htm 10-Q 10-Q Table of Cont..."
      ]
     },
     "execution_count": 15,
     "metadata": {},
     "output_type": "execute_result"
    }
   ],
   "source": [
    "df"
   ]
  },
  {
   "cell_type": "code",
   "execution_count": null,
   "metadata": {},
   "outputs": [],
   "source": []
  }
 ],
 "metadata": {
  "kernelspec": {
   "display_name": "hons-project",
   "language": "python",
   "name": "python3"
  },
  "language_info": {
   "codemirror_mode": {
    "name": "ipython",
    "version": 3
   },
   "file_extension": ".py",
   "mimetype": "text/x-python",
   "name": "python",
   "nbconvert_exporter": "python",
   "pygments_lexer": "ipython3",
   "version": "3.8.18"
  }
 },
 "nbformat": 4,
 "nbformat_minor": 2
}
