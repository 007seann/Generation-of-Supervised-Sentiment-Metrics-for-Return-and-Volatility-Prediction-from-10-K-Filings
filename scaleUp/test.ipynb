{
 "cells": [
  {
   "cell_type": "code",
   "execution_count": 5,
   "metadata": {},
   "outputs": [],
   "source": [
    "import pandas as pd"
   ]
  },
  {
   "cell_type": "code",
   "execution_count": 11,
   "metadata": {},
   "outputs": [],
   "source": [
    "data_folder = \"/Users/apple/PROJECT/Code_4_SECfilings/test.filings\"\n",
    "save_folder = \"/Users/apple/PROJECT/Hons-project/data/SP500\"\n",
    "firms_csv_file_path = \"/Users/apple/PROJECT/Code_4_SECfilings/QQQ_constituents.csv\"\n",
    "firms_df = pd.read_csv(firms_csv_file_path)\n",
    "# firms_df = firms_df.drop(['Security', 'GICS Sector', 'GICS Sub-Industry', 'Headquarters Location', 'Date added', 'Founded'], axis=1)\n",
    "firms_df['CIK'] = firms_df['CIK'].apply(lambda x: str(x).zfill(10))\n",
    "firms_dict = firms_df.set_index('Symbol')['CIK'].to_dict()\n",
    "firms_dict = {value: key for key, value in firms_dict.items()}"
   ]
  },
  {
   "cell_type": "code",
   "execution_count": 13,
   "metadata": {},
   "outputs": [
    {
     "name": "stdout",
     "output_type": "stream",
     "text": [
      "part-00001-d82a0d43-3477-4301-b199-571ecbc11fb7-c000.csv\n",
      "part-00000-d82a0d43-3477-4301-b199-571ecbc11fb7-c000.csv\n",
      ".part-00002-d82a0d43-3477-4301-b199-571ecbc11fb7-c000.csv.crc\n",
      "._SUCCESS.crc\n",
      "part-00003-d82a0d43-3477-4301-b199-571ecbc11fb7-c000.csv\n",
      ".part-00003-d82a0d43-3477-4301-b199-571ecbc11fb7-c000.csv.crc\n",
      ".part-00001-d82a0d43-3477-4301-b199-571ecbc11fb7-c000.csv.crc\n",
      ".part-00000-d82a0d43-3477-4301-b199-571ecbc11fb7-c000.csv.crc\n",
      "part-00002-d82a0d43-3477-4301-b199-571ecbc11fb7-c000.csv\n",
      "_SUCCESS\n"
     ]
    }
   ],
   "source": [
    "import os\n",
    "files_path = \"/Users/apple/PROJECT/hons_project/data/SP500\"\n",
    "folder = 'company_df'\n",
    "folder_path = os.path.join(files_path, folder)\n",
    "cik_folder = os.path.join(folder_path, \"0000002488\")\n",
    "for file_name in os.listdir(cik_folder):\n",
    "    print(file_name)"
   ]
  },
  {
   "cell_type": "code",
   "execution_count": 14,
   "metadata": {},
   "outputs": [
    {
     "name": "stdout",
     "output_type": "stream",
     "text": [
      "/Users/apple/PROJECT/hons_project/data/SP500/company_df/0000002488\n"
     ]
    }
   ],
   "source": [
    "print(cik_folder)"
   ]
  },
  {
   "cell_type": "code",
   "execution_count": 17,
   "metadata": {},
   "outputs": [],
   "source": [
    "file_name = \"part-00001-d82a0d43-3477-4301-b199-571ecbc11fb7-c000.csv\"\n",
    "file_loc = cik_folder\n",
    "\n"
   ]
  },
  {
   "cell_type": "code",
   "execution_count": null,
   "metadata": {},
   "outputs": [],
   "source": [
    "df = pd.read_csv(f'{file_loc}/{file_name}', header = 0)"
   ]
  },
  {
   "cell_type": "code",
   "execution_count": null,
   "metadata": {},
   "outputs": [
    {
     "data": {
      "text/plain": [
       "'/Users/apple/PROJECT/hons_project/data/SP500/company_df/0000002488/part-00001-d82a0d43-3477-4301-b199-571ecbc11fb7-c000.csv'"
      ]
     },
     "execution_count": 24,
     "metadata": {},
     "output_type": "execute_result"
    }
   ],
   "source": [
    "file_path = f'{file_loc}/{file_name}'\n",
    "file_path\n"
   ]
  },
  {
   "cell_type": "code",
   "execution_count": 57,
   "metadata": {},
   "outputs": [
    {
     "name": "stdout",
     "output_type": "stream",
     "text": [
      "Name,CIK,Date,Body\n",
      "AMD,0000002488,2014-05-01,\"10-Q 1 d714367d10q.htm FORM 10-Q Form 10-Q Table of Contents [heading]UNITED STATES [/heading] [heading]SECURITIES AND EXCHANGE COMMISSION [/heading] [heading]Washington, D.C. 20549[/heading] [heading]Form 10-Q [/heading] (Mark One)   x   [heading]QUARTERLY REPORT PURSUANT TO SECTION 13 OR 15 (d) OF THE SECURITIES EXCHANGE ACT OF 1934 [/heading] [heading]For the quarterly period ended March 29, 2014 [/heading] [heading]OR [/heading]  Â¨   [heading]TRANSITION REPORT PURSUANT TO SECTION 13 OR 15 (d) OF THE SECURITIES EXCHANGE ACT OF 1934 [/heading] [heading]For the transition period from              to\n",
      "[/heading] [heading]Commission File Number 001-07882\n",
      "[/heading] [heading]ADVANCED MICRO DEVICES, INC. [/heading] [heading](Exact name of registrant as specified in its charter) [/heading] [heading]Delaware[/heading] [heading]94-1692300[/heading] [heading](State or other jurisdiction of[/heading] [heading]incorporation or organization)[/heading] [heading](I.R.S. Employer[/heading] [heading]Identification No.)[/heading] [heading]One AMD Place[/heading] [heading]Sunnyvale, California[/heading] [heading]94088[/heading] [heading](Address of principal executive offices)[/heading] [heading](Zip Code)[/heading] [heading]Registrantâs telephone number, including area code: (408) 749-4000 [/heading] Indicate by check mark whether the registrant: (1) has filed all reports required to be filed by Section 13 or 15(d) of the\n",
      "Securities Exchange Act of 1934 during the preceding 12 months (or for such shorter period that the registrant was required to file such reports), and (2) has been subject to such filing requirements for the past 90\n",
      "days.    Yes x No Â¨ Indicate by check mark whether the registrant has submitted electronically and posted on its corporate Web site, if any, every\n",
      "Interactive Data File required to be submitted and posted pursuant to Rule 405 of Regulation S-T (Â§232.405 of this chapter) during the preceding 12 months (or for such shorter period that the registrant was required to submit and post such\n",
      "files).    Yes x No Â¨ Indicate by check mark whether the registrant is a large accelerated filer, an accelerated filer, a non-accelerated filer or a smaller\n",
      "reporting company. See definition of âlarge accelerated filer,â âaccelerated filerâ and âsmaller reporting companyâ in Rule 12b-2 of the Exchange Act. Large accelerated filer x Accelerated filer Â¨ Non-accelerated filer Â¨ (Do not check if a smaller reporting company) Smaller reporting company Â¨ Indicate by check mark whether the registrant is a shell company (as defined by Rule 12b-2 of the\n",
      "Exchange Act).    Yes Â¨ No x Indicate the number of shares outstanding of the registrantâs common stock,\n"
     ]
    }
   ],
   "source": [
    "# file_path = '/Users/apple/PROJECT/hons_project/data/SP500/company_df/0000002488/part-00001-d82a0d43-3477-4301-b199-571ecbc11fb7-c000.csv'\n",
    "file_path = '/Users/apple/PROJECT/hons_project/data/SP500/company_df/0000002488/part-00001-615b5f08-bfdd-4866-a313-d027a41f208b-c000.csv'\n",
    "with open(file_path, 'r', encoding='utf-8') as file:\n",
    "    for i, line in enumerate(file):\n",
    "        print(line.strip())  # Print each line without extra whitespace\n",
    "        if i == 9:  # Stop after 10 lines\n",
    "            break\n"
   ]
  },
  {
   "cell_type": "code",
   "execution_count": 58,
   "metadata": {},
   "outputs": [],
   "source": [
    "file_path2 = \"/Users/apple/PROJECT/Code_4_SECfilings/fillings/company_df/0000002488.csv\""
   ]
  },
  {
   "cell_type": "code",
   "execution_count": 59,
   "metadata": {},
   "outputs": [
    {
     "name": "stdout",
     "output_type": "stream",
     "text": [
      "Name,CIK,Date,Body\n",
      "AMD,0000002488,2006-02-27,\"10-K 1 d10k.htm FOR THE FISCAL YEAR ENDED DECEMBER 25, 2005 For the fiscal year ended December 25, 2005 Table of Contents [heading]UNITED STATES [/heading] [heading]SECURITIES AND EXCHANGE COMMISSION [/heading] [heading]Washington, D.C. 20549 [/heading] [heading]FORM 10-K [/heading] [heading](Mark One) [/heading] [heading]x[/heading] [heading]ANNUAL REPORT PURSUANT TO SECTION 13 OR 15(d) OF THE SECURITIES EXCHANGE ACT OF 1934. [/heading] [heading]For the fiscal year ended December 25, 2005 [/heading] [heading]OR [/heading]    [heading]TRANSITION REPORT PURSUANT TO SECTION 13 OR 15(d) OF THE SECURITIES EXCHANGE ACT OF 1934. [/heading] [heading]For the transition period from ____________ to ____________ [/heading] [heading]Commission File Number 001-07882 [/heading] [heading]ADVANCED MICRO DEVICES, INC. [/heading] [heading](Exact name of registrant as specified in its\n",
      "charter) [/heading] [heading]Delaware[/heading] [heading]94-1692300[/heading] [heading](State or other jurisdiction of incorporation or organization) [/heading] [heading](I.R.S. Employer Identification No.)[/heading] [heading]One AMD Place, Sunnyvale, California [/heading] [heading]94088[/heading] [heading](Address of principal executive offices) [/heading] [heading](Zip Code)[/heading] [heading](408) 749-4000 [/heading] [heading](Registrant’s telephone number, including area code) [/heading] [heading]Securities registered pursuant to Section 12(b) of the Act: [/heading] [heading](Title of each class)[/heading] [heading](Name of each exchange[/heading] [heading]on which registered)[/heading] Common Stock per share $0.01 par value New York Stock Exchange [heading]Securities registered pursuant to Section 12(g) of the Act: [/heading] [heading]None [/heading] Indicate by check mark if the\n",
      "registrant is a well-known seasoned issuer, as defined in Rule 405 of the Securities Act.  Yes x No ¨ Indicate by check mark if the registrant is not required to file\n",
      "reports pursuant to Section 13 or Section 15(d) of the Exchange Act.  Yes ¨ No x Indicate by check mark whether the registrant (1) has filed all reports required to be filed by\n",
      "Section 13 or 15(d) of the Securities Exchange Act of 1934 during the preceding 12 months (or for such shorter period that the registrant was required to file such reports), and (2) has been subject to such filing requirements for the past\n",
      "90 days.  Yes x No ¨ Indicate by check mark if disclosure of delinquent filers pursuant to Item 405 of Regulation S-K is not contained herein, and will not be contained,\n",
      "to the best of registrant’s knowledge, in definitive proxy or information statements incorporated by reference in Part III of this Form 10-K or any amendment to this Form 10-K. x Indicate by check mark whether the registrant is a large accelerated filer, an accelerated filer or a non-accelerated filer. See definition of\n",
      "“accelerated filer and large accelerated filer” in Rule 12b-2 of the Exchange Act. Large accelerated filer x Accelerated filer ¨ Non-accelerated filer ¨ Indicate by check mark whether the registrant is a shell company (as defined by Rule 12b-2 of the Exchange Act)  Yes ¨ No x As of June 24, 2005, the aggregate market value of the registrant’s common stock held by non-affiliates of the registrant was approximately $6,799,159,288 based on the reported closing sale price of $17.17\n",
      "per share as reported on the New York Stock Exchange on June 24, 2005, which was the last business day of the registrant’s most recently completed second fiscal quarter. Indicate the number of shares outstanding of each of the registrant’s classes of common stock, as of the latest practicable date. 480,887,662 shares of common stock, $0.01 par value per share, as of February 17, 2006 [heading]DOCUMENTS INCORPORATED BY REFERENCE [/heading] Portions of the Proxy Statement for the Annual Meeting of Stockholders to be held on May 5, 2006, are incorporated into Part II and III hereof. AMD, the AMD Arrow logo, AMD Athlon, AMD Opteron, AMD Sempron, AMD Turion, AMD PowerNow!, Alchemy, Geode and combinations thereof are trademarks of AMD.\n"
     ]
    }
   ],
   "source": [
    "\n",
    "with open(file_path2, 'r', encoding='utf-8') as file:\n",
    "    for i, line in enumerate(file):\n",
    "        print(line.strip())  # Print each line without extra whitespace\n",
    "        if i == 9:  # Stop after 10 lines\n",
    "            break\n"
   ]
  },
  {
   "cell_type": "code",
   "execution_count": 19,
   "metadata": {},
   "outputs": [],
   "source": [
    "file_path = \"/Users/apple/PROJECT/hons_project/data/SP500/company_df/0000002488/part-00001-1a8ed21f-a41c-4677-b7f4-927372d73d59-c000.csv\"\n",
    "\n",
    "df = pd.read_csv(file_path, usecols=[0,1,2,3] ,delimiter=',', encoding='utf-8', header=0)\n"
   ]
  },
  {
   "cell_type": "code",
   "execution_count": 47,
   "metadata": {},
   "outputs": [
    {
     "data": {
      "text/html": [
       "<div>\n",
       "<style scoped>\n",
       "    .dataframe tbody tr th:only-of-type {\n",
       "        vertical-align: middle;\n",
       "    }\n",
       "\n",
       "    .dataframe tbody tr th {\n",
       "        vertical-align: top;\n",
       "    }\n",
       "\n",
       "    .dataframe thead th {\n",
       "        text-align: right;\n",
       "    }\n",
       "</style>\n",
       "<table border=\"1\" class=\"dataframe\">\n",
       "  <thead>\n",
       "    <tr style=\"text-align: right;\">\n",
       "      <th></th>\n",
       "      <th>Name,CIK,Date,Body</th>\n",
       "    </tr>\n",
       "  </thead>\n",
       "  <tbody>\n",
       "    <tr>\n",
       "      <th>0</th>\n",
       "      <td>AMD,0000002488,2014-05-01,\"10-Q 1 d714367d10q....</td>\n",
       "    </tr>\n",
       "    <tr>\n",
       "      <th>1</th>\n",
       "      <td>[/heading] [heading]Commission Fi...</td>\n",
       "    </tr>\n",
       "    <tr>\n",
       "      <th>2</th>\n",
       "      <td>[/heading] [heading]ADVANCED MICRO DEVICES, IN...</td>\n",
       "    </tr>\n",
       "    <tr>\n",
       "      <th>3</th>\n",
       "      <td>Securities Exchange Act of 1934 during the pre...</td>\n",
       "    </tr>\n",
       "    <tr>\n",
       "      <th>4</th>\n",
       "      <td>days.    Yes x No Â¨ Indicate by check mark wh...</td>\n",
       "    </tr>\n",
       "    <tr>\n",
       "      <th>...</th>\n",
       "      <td>...</td>\n",
       "    </tr>\n",
       "    <tr>\n",
       "      <th>3032</th>\n",
       "      <td>AMD,0000002488,2015-11-03,\"10-Q 1 amd092620151...</td>\n",
       "    </tr>\n",
       "    <tr>\n",
       "      <th>3033</th>\n",
       "      <td>AMD,0000002488,2016-04-28,\"10-Q 1 amd032620161...</td>\n",
       "    </tr>\n",
       "    <tr>\n",
       "      <th>3034</th>\n",
       "      <td>AMD,0000002488,2016-07-26,\"10-Q 1 amd062520161...</td>\n",
       "    </tr>\n",
       "    <tr>\n",
       "      <th>3035</th>\n",
       "      <td>AMD,0000002488,2016-10-26,\"10-Q 1 amd092420161...</td>\n",
       "    </tr>\n",
       "    <tr>\n",
       "      <th>3036</th>\n",
       "      <td>AMD,0000002488,2017-05-08,\"10-Q 1 amd040120171...</td>\n",
       "    </tr>\n",
       "  </tbody>\n",
       "</table>\n",
       "<p>3037 rows × 1 columns</p>\n",
       "</div>"
      ],
      "text/plain": [
       "                                     Name,CIK,Date,Body\n",
       "0     AMD,0000002488,2014-05-01,\"10-Q 1 d714367d10q....\n",
       "1                  [/heading] [heading]Commission Fi...\n",
       "2     [/heading] [heading]ADVANCED MICRO DEVICES, IN...\n",
       "3     Securities Exchange Act of 1934 during the pre...\n",
       "4     days.    Yes x No Â¨ Indicate by check mark wh...\n",
       "...                                                 ...\n",
       "3032  AMD,0000002488,2015-11-03,\"10-Q 1 amd092620151...\n",
       "3033  AMD,0000002488,2016-04-28,\"10-Q 1 amd032620161...\n",
       "3034  AMD,0000002488,2016-07-26,\"10-Q 1 amd062520161...\n",
       "3035  AMD,0000002488,2016-10-26,\"10-Q 1 amd092420161...\n",
       "3036  AMD,0000002488,2017-05-08,\"10-Q 1 amd040120171...\n",
       "\n",
       "[3037 rows x 1 columns]"
      ]
     },
     "execution_count": 47,
     "metadata": {},
     "output_type": "execute_result"
    }
   ],
   "source": [
    "df"
   ]
  },
  {
   "cell_type": "code",
   "execution_count": 63,
   "metadata": {},
   "outputs": [],
   "source": [
    "file_path4 = \"/Users/apple/PROJECT/Code_4_SECfilings/fillings/company_df/0000002488.csv\"\n",
    "df2 = pd.read_csv(file_path2, delimiter = ',', header = 0)"
   ]
  },
  {
   "cell_type": "code",
   "execution_count": 64,
   "metadata": {},
   "outputs": [
    {
     "data": {
      "text/html": [
       "<div>\n",
       "<style scoped>\n",
       "    .dataframe tbody tr th:only-of-type {\n",
       "        vertical-align: middle;\n",
       "    }\n",
       "\n",
       "    .dataframe tbody tr th {\n",
       "        vertical-align: top;\n",
       "    }\n",
       "\n",
       "    .dataframe thead th {\n",
       "        text-align: right;\n",
       "    }\n",
       "</style>\n",
       "<table border=\"1\" class=\"dataframe\">\n",
       "  <thead>\n",
       "    <tr style=\"text-align: right;\">\n",
       "      <th></th>\n",
       "      <th>Name</th>\n",
       "      <th>CIK</th>\n",
       "      <th>Date</th>\n",
       "      <th>Body</th>\n",
       "    </tr>\n",
       "  </thead>\n",
       "  <tbody>\n",
       "    <tr>\n",
       "      <th>0</th>\n",
       "      <td>AMD</td>\n",
       "      <td>2488</td>\n",
       "      <td>2006-02-27</td>\n",
       "      <td>10-K 1 d10k.htm FOR THE FISCAL YEAR ENDED DECE...</td>\n",
       "    </tr>\n",
       "    <tr>\n",
       "      <th>1</th>\n",
       "      <td>AMD</td>\n",
       "      <td>2488</td>\n",
       "      <td>2007-03-01</td>\n",
       "      <td>10-K 1 d10k.htm FORM 10-K Form 10-K Table of C...</td>\n",
       "    </tr>\n",
       "    <tr>\n",
       "      <th>2</th>\n",
       "      <td>AMD</td>\n",
       "      <td>2488</td>\n",
       "      <td>2008-02-26</td>\n",
       "      <td>10-K 1 d10k.htm FORM 10-K Form 10-K Table of C...</td>\n",
       "    </tr>\n",
       "    <tr>\n",
       "      <th>3</th>\n",
       "      <td>AMD</td>\n",
       "      <td>2488</td>\n",
       "      <td>2009-02-24</td>\n",
       "      <td>10-K 1 d10k.htm FORM 10-K Form 10-K Table of C...</td>\n",
       "    </tr>\n",
       "    <tr>\n",
       "      <th>4</th>\n",
       "      <td>AMD</td>\n",
       "      <td>2488</td>\n",
       "      <td>2010-02-19</td>\n",
       "      <td>10-K 1 d10k.htm FORM 10-K Form 10-K Table of C...</td>\n",
       "    </tr>\n",
       "    <tr>\n",
       "      <th>5</th>\n",
       "      <td>AMD</td>\n",
       "      <td>2488</td>\n",
       "      <td>2011-02-18</td>\n",
       "      <td>10-K 1 d10k.htm ANNUAL REPORT ON FORM 10-K Ann...</td>\n",
       "    </tr>\n",
       "    <tr>\n",
       "      <th>6</th>\n",
       "      <td>AMD</td>\n",
       "      <td>2488</td>\n",
       "      <td>2012-02-24</td>\n",
       "      <td>10-K 1 d257108d10k.htm FORM 10-K Form 10-K Tab...</td>\n",
       "    </tr>\n",
       "    <tr>\n",
       "      <th>7</th>\n",
       "      <td>AMD</td>\n",
       "      <td>2488</td>\n",
       "      <td>2013-02-21</td>\n",
       "      <td>10-K 1 d486815d10k.htm FORM 10-K Form 10-K Tab...</td>\n",
       "    </tr>\n",
       "    <tr>\n",
       "      <th>8</th>\n",
       "      <td>AMD</td>\n",
       "      <td>2488</td>\n",
       "      <td>2014-02-18</td>\n",
       "      <td>10-K 1 d674550d10k.htm 10-K 10-K Table of Cont...</td>\n",
       "    </tr>\n",
       "    <tr>\n",
       "      <th>9</th>\n",
       "      <td>AMD</td>\n",
       "      <td>2488</td>\n",
       "      <td>2015-02-19</td>\n",
       "      <td>10-K 1 d871455d10k.htm 10-K 10-K Table of Cont...</td>\n",
       "    </tr>\n",
       "    <tr>\n",
       "      <th>10</th>\n",
       "      <td>AMD</td>\n",
       "      <td>2488</td>\n",
       "      <td>2016-02-18</td>\n",
       "      <td>10-K 1 amd-12262015x10k.htm 10-K 10-K [heading...</td>\n",
       "    </tr>\n",
       "    <tr>\n",
       "      <th>11</th>\n",
       "      <td>AMD</td>\n",
       "      <td>2488</td>\n",
       "      <td>2017-02-21</td>\n",
       "      <td>10-K 1 amd-12312016x10k.htm 10-K Document [hea...</td>\n",
       "    </tr>\n",
       "    <tr>\n",
       "      <th>12</th>\n",
       "      <td>AMD</td>\n",
       "      <td>2488</td>\n",
       "      <td>2018-02-27</td>\n",
       "      <td>10-K 1 amd-12302017x10k.htm 10-K Document [hea...</td>\n",
       "    </tr>\n",
       "    <tr>\n",
       "      <th>13</th>\n",
       "      <td>AMD</td>\n",
       "      <td>2488</td>\n",
       "      <td>2019-02-08</td>\n",
       "      <td>10-K 1 amd-12292018x10k.htm 10-K Document [hea...</td>\n",
       "    </tr>\n",
       "    <tr>\n",
       "      <th>14</th>\n",
       "      <td>AMD</td>\n",
       "      <td>2488</td>\n",
       "      <td>2020-02-04</td>\n",
       "      <td>10-K 1 amdform10-kfy2019.htm 10-K Document P6Y...</td>\n",
       "    </tr>\n",
       "    <tr>\n",
       "      <th>15</th>\n",
       "      <td>AMD</td>\n",
       "      <td>2488</td>\n",
       "      <td>2021-01-29</td>\n",
       "      <td>10-K 1 amd-20201226.htm 10-K amd-20201226 fals...</td>\n",
       "    </tr>\n",
       "    <tr>\n",
       "      <th>16</th>\n",
       "      <td>AMD</td>\n",
       "      <td>2488</td>\n",
       "      <td>2022-02-03</td>\n",
       "      <td>10-K 1 amd-20211225.htm 10-K amd-20211225 10-K...</td>\n",
       "    </tr>\n",
       "    <tr>\n",
       "      <th>17</th>\n",
       "      <td>AMD</td>\n",
       "      <td>2488</td>\n",
       "      <td>2023-02-27</td>\n",
       "      <td>10-K 1 amd-20221231.htm 10-K amd-20221231 10-K...</td>\n",
       "    </tr>\n",
       "  </tbody>\n",
       "</table>\n",
       "</div>"
      ],
      "text/plain": [
       "   Name   CIK        Date                                               Body\n",
       "0   AMD  2488  2006-02-27  10-K 1 d10k.htm FOR THE FISCAL YEAR ENDED DECE...\n",
       "1   AMD  2488  2007-03-01  10-K 1 d10k.htm FORM 10-K Form 10-K Table of C...\n",
       "2   AMD  2488  2008-02-26  10-K 1 d10k.htm FORM 10-K Form 10-K Table of C...\n",
       "3   AMD  2488  2009-02-24  10-K 1 d10k.htm FORM 10-K Form 10-K Table of C...\n",
       "4   AMD  2488  2010-02-19  10-K 1 d10k.htm FORM 10-K Form 10-K Table of C...\n",
       "5   AMD  2488  2011-02-18  10-K 1 d10k.htm ANNUAL REPORT ON FORM 10-K Ann...\n",
       "6   AMD  2488  2012-02-24  10-K 1 d257108d10k.htm FORM 10-K Form 10-K Tab...\n",
       "7   AMD  2488  2013-02-21  10-K 1 d486815d10k.htm FORM 10-K Form 10-K Tab...\n",
       "8   AMD  2488  2014-02-18  10-K 1 d674550d10k.htm 10-K 10-K Table of Cont...\n",
       "9   AMD  2488  2015-02-19  10-K 1 d871455d10k.htm 10-K 10-K Table of Cont...\n",
       "10  AMD  2488  2016-02-18  10-K 1 amd-12262015x10k.htm 10-K 10-K [heading...\n",
       "11  AMD  2488  2017-02-21  10-K 1 amd-12312016x10k.htm 10-K Document [hea...\n",
       "12  AMD  2488  2018-02-27  10-K 1 amd-12302017x10k.htm 10-K Document [hea...\n",
       "13  AMD  2488  2019-02-08  10-K 1 amd-12292018x10k.htm 10-K Document [hea...\n",
       "14  AMD  2488  2020-02-04  10-K 1 amdform10-kfy2019.htm 10-K Document P6Y...\n",
       "15  AMD  2488  2021-01-29  10-K 1 amd-20201226.htm 10-K amd-20201226 fals...\n",
       "16  AMD  2488  2022-02-03  10-K 1 amd-20211225.htm 10-K amd-20211225 10-K...\n",
       "17  AMD  2488  2023-02-27  10-K 1 amd-20221231.htm 10-K amd-20221231 10-K..."
      ]
     },
     "execution_count": 64,
     "metadata": {},
     "output_type": "execute_result"
    }
   ],
   "source": [
    "df2"
   ]
  },
  {
   "cell_type": "code",
   "execution_count": 16,
   "metadata": {},
   "outputs": [],
   "source": [
    "import pandas as pd\n",
    "\n",
    "\n",
    "file_path1 = \"/Users/apple/PROJECT/hons_project/data/SP500/company_df/0000002969/part-00000-c2599222-c893-4608-ba6a-3da9db57c1d9-c000.csv\"\n",
    "file_path2 = \"/Users/apple/PROJECT/hons_project/data/SP500/company_df/0000002969/part-00001-c2599222-c893-4608-ba6a-3da9db57c1d9-c000.csv\""
   ]
  },
  {
   "cell_type": "code",
   "execution_count": 21,
   "metadata": {},
   "outputs": [],
   "source": [
    "fp = \"/Users/apple/PROJECT/scaleUp/0000002488_test.csv\""
   ]
  },
  {
   "cell_type": "code",
   "execution_count": 22,
   "metadata": {},
   "outputs": [],
   "source": [
    "df = pd.read_csv(fp, encoding='utf-8', header=0)\n"
   ]
  },
  {
   "cell_type": "code",
   "execution_count": 24,
   "metadata": {},
   "outputs": [
    {
     "data": {
      "text/html": [
       "<div>\n",
       "<style scoped>\n",
       "    .dataframe tbody tr th:only-of-type {\n",
       "        vertical-align: middle;\n",
       "    }\n",
       "\n",
       "    .dataframe tbody tr th {\n",
       "        vertical-align: top;\n",
       "    }\n",
       "\n",
       "    .dataframe thead th {\n",
       "        text-align: right;\n",
       "    }\n",
       "</style>\n",
       "<table border=\"1\" class=\"dataframe\">\n",
       "  <thead>\n",
       "    <tr style=\"text-align: right;\">\n",
       "      <th></th>\n",
       "      <th>face</th>\n",
       "      <th>exhibit</th>\n",
       "      <th>location</th>\n",
       "      <th>review</th>\n",
       "      <th>arrange</th>\n",
       "      <th>wired</th>\n",
       "      <th>instruction</th>\n",
       "      <th>port</th>\n",
       "      <th>worsening</th>\n",
       "      <th>reference</th>\n",
       "      <th>...</th>\n",
       "      <th>locality</th>\n",
       "      <th>neutral</th>\n",
       "      <th>doubt</th>\n",
       "      <th>principally</th>\n",
       "      <th>summarize</th>\n",
       "      <th>_vol</th>\n",
       "      <th>_ret</th>\n",
       "      <th>_vol+1</th>\n",
       "      <th>_ret+1</th>\n",
       "      <th>_cik</th>\n",
       "    </tr>\n",
       "  </thead>\n",
       "  <tbody>\n",
       "    <tr>\n",
       "      <th>0</th>\n",
       "      <td>0.0</td>\n",
       "      <td>0.0</td>\n",
       "      <td>0.0</td>\n",
       "      <td>0.0</td>\n",
       "      <td>0.0</td>\n",
       "      <td>0.0</td>\n",
       "      <td>0.0</td>\n",
       "      <td>0.0</td>\n",
       "      <td>0.0</td>\n",
       "      <td>0.0</td>\n",
       "      <td>...</td>\n",
       "      <td>NaN</td>\n",
       "      <td>NaN</td>\n",
       "      <td>NaN</td>\n",
       "      <td>NaN</td>\n",
       "      <td>NaN</td>\n",
       "      <td>0.000395</td>\n",
       "      <td>0.013504</td>\n",
       "      <td>0.000240</td>\n",
       "      <td>0.006079</td>\n",
       "      <td>2488</td>\n",
       "    </tr>\n",
       "    <tr>\n",
       "      <th>1</th>\n",
       "      <td>0.0</td>\n",
       "      <td>0.0</td>\n",
       "      <td>0.0</td>\n",
       "      <td>0.0</td>\n",
       "      <td>0.0</td>\n",
       "      <td>0.0</td>\n",
       "      <td>0.0</td>\n",
       "      <td>0.0</td>\n",
       "      <td>0.0</td>\n",
       "      <td>0.0</td>\n",
       "      <td>...</td>\n",
       "      <td>NaN</td>\n",
       "      <td>NaN</td>\n",
       "      <td>NaN</td>\n",
       "      <td>NaN</td>\n",
       "      <td>NaN</td>\n",
       "      <td>0.000335</td>\n",
       "      <td>0.001842</td>\n",
       "      <td>0.000288</td>\n",
       "      <td>-0.015406</td>\n",
       "      <td>2488</td>\n",
       "    </tr>\n",
       "    <tr>\n",
       "      <th>2</th>\n",
       "      <td>0.0</td>\n",
       "      <td>0.0</td>\n",
       "      <td>0.0</td>\n",
       "      <td>0.0</td>\n",
       "      <td>0.0</td>\n",
       "      <td>0.0</td>\n",
       "      <td>0.0</td>\n",
       "      <td>0.0</td>\n",
       "      <td>0.0</td>\n",
       "      <td>0.0</td>\n",
       "      <td>...</td>\n",
       "      <td>NaN</td>\n",
       "      <td>NaN</td>\n",
       "      <td>NaN</td>\n",
       "      <td>NaN</td>\n",
       "      <td>NaN</td>\n",
       "      <td>0.000159</td>\n",
       "      <td>-0.002749</td>\n",
       "      <td>0.000518</td>\n",
       "      <td>-0.036105</td>\n",
       "      <td>2488</td>\n",
       "    </tr>\n",
       "    <tr>\n",
       "      <th>3</th>\n",
       "      <td>0.0</td>\n",
       "      <td>0.0</td>\n",
       "      <td>0.0</td>\n",
       "      <td>0.0</td>\n",
       "      <td>0.0</td>\n",
       "      <td>0.0</td>\n",
       "      <td>0.0</td>\n",
       "      <td>0.0</td>\n",
       "      <td>0.0</td>\n",
       "      <td>0.0</td>\n",
       "      <td>...</td>\n",
       "      <td>NaN</td>\n",
       "      <td>NaN</td>\n",
       "      <td>NaN</td>\n",
       "      <td>NaN</td>\n",
       "      <td>NaN</td>\n",
       "      <td>0.000733</td>\n",
       "      <td>-0.033553</td>\n",
       "      <td>0.000490</td>\n",
       "      <td>0.024046</td>\n",
       "      <td>2488</td>\n",
       "    </tr>\n",
       "    <tr>\n",
       "      <th>4</th>\n",
       "      <td>0.0</td>\n",
       "      <td>0.0</td>\n",
       "      <td>0.0</td>\n",
       "      <td>0.0</td>\n",
       "      <td>0.0</td>\n",
       "      <td>0.0</td>\n",
       "      <td>0.0</td>\n",
       "      <td>0.0</td>\n",
       "      <td>0.0</td>\n",
       "      <td>0.0</td>\n",
       "      <td>...</td>\n",
       "      <td>NaN</td>\n",
       "      <td>NaN</td>\n",
       "      <td>NaN</td>\n",
       "      <td>NaN</td>\n",
       "      <td>NaN</td>\n",
       "      <td>0.001709</td>\n",
       "      <td>-0.018847</td>\n",
       "      <td>0.004962</td>\n",
       "      <td>-0.093778</td>\n",
       "      <td>2488</td>\n",
       "    </tr>\n",
       "  </tbody>\n",
       "</table>\n",
       "<p>5 rows × 2840 columns</p>\n",
       "</div>"
      ],
      "text/plain": [
       "   face  exhibit  location  review  arrange  wired  instruction  port  \\\n",
       "0   0.0      0.0       0.0     0.0      0.0    0.0          0.0   0.0   \n",
       "1   0.0      0.0       0.0     0.0      0.0    0.0          0.0   0.0   \n",
       "2   0.0      0.0       0.0     0.0      0.0    0.0          0.0   0.0   \n",
       "3   0.0      0.0       0.0     0.0      0.0    0.0          0.0   0.0   \n",
       "4   0.0      0.0       0.0     0.0      0.0    0.0          0.0   0.0   \n",
       "\n",
       "   worsening  reference  ...  locality  neutral  doubt  principally  \\\n",
       "0        0.0        0.0  ...       NaN      NaN    NaN          NaN   \n",
       "1        0.0        0.0  ...       NaN      NaN    NaN          NaN   \n",
       "2        0.0        0.0  ...       NaN      NaN    NaN          NaN   \n",
       "3        0.0        0.0  ...       NaN      NaN    NaN          NaN   \n",
       "4        0.0        0.0  ...       NaN      NaN    NaN          NaN   \n",
       "\n",
       "   summarize      _vol      _ret    _vol+1    _ret+1  _cik  \n",
       "0        NaN  0.000395  0.013504  0.000240  0.006079  2488  \n",
       "1        NaN  0.000335  0.001842  0.000288 -0.015406  2488  \n",
       "2        NaN  0.000159 -0.002749  0.000518 -0.036105  2488  \n",
       "3        NaN  0.000733 -0.033553  0.000490  0.024046  2488  \n",
       "4        NaN  0.001709 -0.018847  0.004962 -0.093778  2488  \n",
       "\n",
       "[5 rows x 2840 columns]"
      ]
     },
     "execution_count": 24,
     "metadata": {},
     "output_type": "execute_result"
    }
   ],
   "source": [
    "df.head()"
   ]
  },
  {
   "cell_type": "code",
   "execution_count": 12,
   "metadata": {},
   "outputs": [],
   "source": [
    "import yfinance as yf\n",
    "stock = ['AAPL']\n",
    "start_date = '2020-01-01'\n",
    "end_date = '2020-12-31'\n",
    "time_series = yf.download(stock, \n",
    "                            start = start_date,\n",
    "                            end = end_date,\n",
    "                            progress = False)"
   ]
  },
  {
   "cell_type": "code",
   "execution_count": 13,
   "metadata": {},
   "outputs": [
    {
     "data": {
      "text/html": [
       "<div>\n",
       "<style scoped>\n",
       "    .dataframe tbody tr th:only-of-type {\n",
       "        vertical-align: middle;\n",
       "    }\n",
       "\n",
       "    .dataframe tbody tr th {\n",
       "        vertical-align: top;\n",
       "    }\n",
       "\n",
       "    .dataframe thead th {\n",
       "        text-align: right;\n",
       "    }\n",
       "</style>\n",
       "<table border=\"1\" class=\"dataframe\">\n",
       "  <thead>\n",
       "    <tr style=\"text-align: right;\">\n",
       "      <th></th>\n",
       "      <th>Open</th>\n",
       "      <th>High</th>\n",
       "      <th>Low</th>\n",
       "      <th>Close</th>\n",
       "      <th>Adj Close</th>\n",
       "      <th>Volume</th>\n",
       "    </tr>\n",
       "    <tr>\n",
       "      <th>Date</th>\n",
       "      <th></th>\n",
       "      <th></th>\n",
       "      <th></th>\n",
       "      <th></th>\n",
       "      <th></th>\n",
       "      <th></th>\n",
       "    </tr>\n",
       "  </thead>\n",
       "  <tbody>\n",
       "    <tr>\n",
       "      <th>2020-01-02</th>\n",
       "      <td>74.059998</td>\n",
       "      <td>75.150002</td>\n",
       "      <td>73.797501</td>\n",
       "      <td>75.087502</td>\n",
       "      <td>72.796005</td>\n",
       "      <td>135480400</td>\n",
       "    </tr>\n",
       "    <tr>\n",
       "      <th>2020-01-03</th>\n",
       "      <td>74.287498</td>\n",
       "      <td>75.144997</td>\n",
       "      <td>74.125000</td>\n",
       "      <td>74.357498</td>\n",
       "      <td>72.088295</td>\n",
       "      <td>146322800</td>\n",
       "    </tr>\n",
       "    <tr>\n",
       "      <th>2020-01-06</th>\n",
       "      <td>73.447502</td>\n",
       "      <td>74.989998</td>\n",
       "      <td>73.187500</td>\n",
       "      <td>74.949997</td>\n",
       "      <td>72.662712</td>\n",
       "      <td>118387200</td>\n",
       "    </tr>\n",
       "    <tr>\n",
       "      <th>2020-01-07</th>\n",
       "      <td>74.959999</td>\n",
       "      <td>75.224998</td>\n",
       "      <td>74.370003</td>\n",
       "      <td>74.597504</td>\n",
       "      <td>72.320969</td>\n",
       "      <td>108872000</td>\n",
       "    </tr>\n",
       "    <tr>\n",
       "      <th>2020-01-08</th>\n",
       "      <td>74.290001</td>\n",
       "      <td>76.110001</td>\n",
       "      <td>74.290001</td>\n",
       "      <td>75.797501</td>\n",
       "      <td>73.484360</td>\n",
       "      <td>132079200</td>\n",
       "    </tr>\n",
       "  </tbody>\n",
       "</table>\n",
       "</div>"
      ],
      "text/plain": [
       "                 Open       High        Low      Close  Adj Close     Volume\n",
       "Date                                                                        \n",
       "2020-01-02  74.059998  75.150002  73.797501  75.087502  72.796005  135480400\n",
       "2020-01-03  74.287498  75.144997  74.125000  74.357498  72.088295  146322800\n",
       "2020-01-06  73.447502  74.989998  73.187500  74.949997  72.662712  118387200\n",
       "2020-01-07  74.959999  75.224998  74.370003  74.597504  72.320969  108872000\n",
       "2020-01-08  74.290001  76.110001  74.290001  75.797501  73.484360  132079200"
      ]
     },
     "execution_count": 13,
     "metadata": {},
     "output_type": "execute_result"
    }
   ],
   "source": [
    "time_series.head()"
   ]
  },
  {
   "cell_type": "code",
   "execution_count": 31,
   "metadata": {},
   "outputs": [
    {
     "name": "stdout",
     "output_type": "stream",
     "text": [
      "<class 'pandas.core.frame.DataFrame'>\n",
      "DatetimeIndex: 252 entries, 2020-01-02 to 2020-12-30\n",
      "Data columns (total 24 columns):\n",
      " #   Column              Non-Null Count  Dtype  \n",
      "---  ------              --------------  -----  \n",
      " 0   (Adj Close, AAPL)   252 non-null    float64\n",
      " 1   (Adj Close, AMZN)   252 non-null    float64\n",
      " 2   (Adj Close, GOOGL)  252 non-null    float64\n",
      " 3   (Adj Close, MSFT)   252 non-null    float64\n",
      " 4   (Close, AAPL)       252 non-null    float64\n",
      " 5   (Close, AMZN)       252 non-null    float64\n",
      " 6   (Close, GOOGL)      252 non-null    float64\n",
      " 7   (Close, MSFT)       252 non-null    float64\n",
      " 8   (High, AAPL)        252 non-null    float64\n",
      " 9   (High, AMZN)        252 non-null    float64\n",
      " 10  (High, GOOGL)       252 non-null    float64\n",
      " 11  (High, MSFT)        252 non-null    float64\n",
      " 12  (Low, AAPL)         252 non-null    float64\n",
      " 13  (Low, AMZN)         252 non-null    float64\n",
      " 14  (Low, GOOGL)        252 non-null    float64\n",
      " 15  (Low, MSFT)         252 non-null    float64\n",
      " 16  (Open, AAPL)        252 non-null    float64\n",
      " 17  (Open, AMZN)        252 non-null    float64\n",
      " 18  (Open, GOOGL)       252 non-null    float64\n",
      " 19  (Open, MSFT)        252 non-null    float64\n",
      " 20  (Volume, AAPL)      252 non-null    int64  \n",
      " 21  (Volume, AMZN)      252 non-null    int64  \n",
      " 22  (Volume, GOOGL)     252 non-null    int64  \n",
      " 23  (Volume, MSFT)      252 non-null    int64  \n",
      "dtypes: float64(20), int64(4)\n",
      "memory usage: 49.2 KB\n"
     ]
    }
   ],
   "source": [
    "time_series.info()"
   ]
  },
  {
   "cell_type": "code",
   "execution_count": 32,
   "metadata": {},
   "outputs": [
    {
     "name": "stderr",
     "output_type": "stream",
     "text": [
      "python(648) MallocStackLogging: can't turn off malloc stack logging because it was not enabled.\n"
     ]
    },
    {
     "name": "stdout",
     "output_type": "stream",
     "text": [
      "Collecting pyarrow\n",
      "  Downloading pyarrow-17.0.0-cp38-cp38-macosx_10_15_x86_64.whl.metadata (3.3 kB)\n",
      "Requirement already satisfied: numpy>=1.16.6 in /Users/apple/miniconda3/envs/hons-project/lib/python3.8/site-packages (from pyarrow) (1.24.4)\n",
      "Downloading pyarrow-17.0.0-cp38-cp38-macosx_10_15_x86_64.whl (29.0 MB)\n",
      "\u001b[2K   \u001b[90m━━━━━━━━━━━━━━━━━━━━━━━━━━━━━━━━━━━━━━━━\u001b[0m \u001b[32m29.0/29.0 MB\u001b[0m \u001b[31m9.7 MB/s\u001b[0m eta \u001b[36m0:00:00\u001b[0m:00:01\u001b[0m00:01\u001b[0m\n",
      "\u001b[?25hInstalling collected packages: pyarrow\n",
      "Successfully installed pyarrow-17.0.0\n",
      "\n",
      "\u001b[1m[\u001b[0m\u001b[34;49mnotice\u001b[0m\u001b[1;39;49m]\u001b[0m\u001b[39;49m A new release of pip is available: \u001b[0m\u001b[31;49m24.0\u001b[0m\u001b[39;49m -> \u001b[0m\u001b[32;49m24.3.1\u001b[0m\n",
      "\u001b[1m[\u001b[0m\u001b[34;49mnotice\u001b[0m\u001b[1;39;49m]\u001b[0m\u001b[39;49m To update, run: \u001b[0m\u001b[32;49mpip install --upgrade pip\u001b[0m\n"
     ]
    }
   ],
   "source": [
    "!pip install pyarrow"
   ]
  },
  {
   "cell_type": "code",
   "execution_count": 5,
   "metadata": {},
   "outputs": [
    {
     "name": "stdout",
     "output_type": "stream",
     "text": [
      "      symbol       date     volume     close      open      high       low\n",
      "64086   AAPL 1980-12-12  469033600  0.098834  0.098834  0.099264  0.098834\n",
      "64087   AAPL 1980-12-15  175884800  0.093678  0.094108  0.094108  0.093678\n",
      "64088   AAPL 1980-12-16  105728000  0.086802  0.087232  0.087232  0.086802\n",
      "64089   AAPL 1980-12-17   86441600  0.088951  0.088951  0.089381  0.088951\n",
      "64090   AAPL 1980-12-18   73449600  0.091530  0.091530  0.091959  0.091530\n",
      "...      ...        ...        ...       ...       ...       ...       ...\n",
      "64181   AAPL 1981-04-30   12611200  0.097545  0.097545  0.098405  0.097545\n",
      "64182   AAPL 1981-05-01   16553600  0.097545  0.097545  0.098405  0.097545\n",
      "64183   AAPL 1981-05-04   14448000  0.097116  0.097545  0.097545  0.097116\n",
      "64184   AAPL 1981-05-05   17539200  0.096686  0.097116  0.097116  0.096686\n",
      "64185   AAPL 1981-05-06   18950400  0.094108  0.094538  0.094538  0.094108\n",
      "\n",
      "[100 rows x 7 columns]\n"
     ]
    }
   ],
   "source": [
    "import pandas as pd\n",
    "\n",
    "# Read a Parquet file\n",
    "df = pd.read_parquet(\"/Users/apple/PROJECT/data/stock_price_daily.parquet\")\n",
    "\n",
    "symbol_data = df[df[\"symbol\"] == \"AAPL\"]\n",
    "# Display the data\n",
    "print(symbol_data.head(100))\n"
   ]
  },
  {
   "cell_type": "code",
   "execution_count": 59,
   "metadata": {},
   "outputs": [],
   "source": [
    "import os\n",
    "def count_txt_files(folder_path):\n",
    "    # List all files in the folder\n",
    "    files = os.listdir(folder_path)\n",
    "    counts = 0\n",
    "    for file in files:\n",
    "        fs_path = os.path.join(folder_path, file)\n",
    "        if \".DS_Store\" in fs_path:\n",
    "            continue\n",
    "        fs = os.listdir(fs_path)\n",
    "        counts += len(fs)\n",
    "        \n",
    "    return counts\n",
    "\n",
    "\n"
   ]
  },
  {
   "cell_type": "code",
   "execution_count": 61,
   "metadata": {},
   "outputs": [
    {
     "name": "stdout",
     "output_type": "stream",
     "text": [
      "Number of 10q.html files in '/Users/apple/PROJECT/Code_4_SECfilings/10q-html': 1955\n",
      "Number of 10q.txt files in '/Users/apple/PROJECT/Code_4_SECfilings/10q-txt': 1387\n",
      "Number of 10k.html files in '/Users/apple/PROJECT/Code_4_SECfilings/10k-html': 838\n",
      "Number of 10k.txt files in '/Users/apple/PROJECT/Code_4_SECfilings/10k-txt': 838\n"
     ]
    }
   ],
   "source": [
    "# Original Sources Example usage\n",
    "afolder_path = \"/Users/apple/PROJECT/Code_4_SECfilings/10q-html\"  # Replace with the actual path\n",
    "count = count_txt_files(afolder_path)\n",
    "print(f\"Number of 10q.html files in '{afolder_path}': {count}\")\n",
    "\n",
    "afolder_path = \"/Users/apple/PROJECT/Code_4_SECfilings/10q-txt\"  # Replace with the actual path\n",
    "count = count_txt_files(afolder_path)\n",
    "print(f\"Number of 10q.txt files in '{afolder_path}': {count}\")\n",
    "\n",
    "afolder_path = \"/Users/apple/PROJECT/Code_4_SECfilings/10k-html\"  # Replace with the actual path\n",
    "count = count_txt_files(afolder_path)\n",
    "print(f\"Number of 10k.html files in '{afolder_path}': {count}\")\n",
    "\n",
    "afolder_path = \"/Users/apple/PROJECT/Code_4_SECfilings/10k-txt\"  # Replace with the actual path\n",
    "count = count_txt_files(afolder_path)\n",
    "print(f\"Number of 10k.txt files in '{afolder_path}': {count}\")\n"
   ]
  },
  {
   "cell_type": "code",
   "execution_count": 6,
   "metadata": {},
   "outputs": [
    {
     "name": "stdout",
     "output_type": "stream",
     "text": [
      "<class 'pandas.core.frame.DataFrame'>\n",
      "DatetimeIndex: 252 entries, 2020-01-02 to 2020-12-30\n",
      "Data columns (total 24 columns):\n",
      " #   Column              Non-Null Count  Dtype  \n",
      "---  ------              --------------  -----  \n",
      " 0   (Adj Close, AAPL)   252 non-null    float64\n",
      " 1   (Adj Close, AMZN)   252 non-null    float64\n",
      " 2   (Adj Close, GOOGL)  252 non-null    float64\n",
      " 3   (Adj Close, MSFT)   252 non-null    float64\n",
      " 4   (Close, AAPL)       252 non-null    float64\n",
      " 5   (Close, AMZN)       252 non-null    float64\n",
      " 6   (Close, GOOGL)      252 non-null    float64\n",
      " 7   (Close, MSFT)       252 non-null    float64\n",
      " 8   (High, AAPL)        252 non-null    float64\n",
      " 9   (High, AMZN)        252 non-null    float64\n",
      " 10  (High, GOOGL)       252 non-null    float64\n",
      " 11  (High, MSFT)        252 non-null    float64\n",
      " 12  (Low, AAPL)         252 non-null    float64\n",
      " 13  (Low, AMZN)         252 non-null    float64\n",
      " 14  (Low, GOOGL)        252 non-null    float64\n",
      " 15  (Low, MSFT)         252 non-null    float64\n",
      " 16  (Open, AAPL)        252 non-null    float64\n",
      " 17  (Open, AMZN)        252 non-null    float64\n",
      " 18  (Open, GOOGL)       252 non-null    float64\n",
      " 19  (Open, MSFT)        252 non-null    float64\n",
      " 20  (Volume, AAPL)      252 non-null    int64  \n",
      " 21  (Volume, AMZN)      252 non-null    int64  \n",
      " 22  (Volume, GOOGL)     252 non-null    int64  \n",
      " 23  (Volume, MSFT)      252 non-null    int64  \n",
      "dtypes: float64(20), int64(4)\n",
      "memory usage: 49.2 KB\n",
      "<class 'pandas.core.frame.DataFrame'>\n",
      "Index: 11107 entries, 64086 to 75192\n",
      "Data columns (total 7 columns):\n",
      " #   Column  Non-Null Count  Dtype         \n",
      "---  ------  --------------  -----         \n",
      " 0   symbol  11107 non-null  object        \n",
      " 1   date    11107 non-null  datetime64[ns]\n",
      " 2   volume  11107 non-null  int64         \n",
      " 3   close   11107 non-null  float64       \n",
      " 4   open    11107 non-null  float64       \n",
      " 5   high    11107 non-null  float64       \n",
      " 6   low     11107 non-null  float64       \n",
      "dtypes: datetime64[ns](1), float64(4), int64(1), object(1)\n",
      "memory usage: 694.2+ KB\n"
     ]
    }
   ],
   "source": [
    "# For time_series\n",
    "time_series.info()\n",
    "\n",
    "# For symbol_data\n",
    "symbol_data.info()"
   ]
  },
  {
   "cell_type": "code",
   "execution_count": 40,
   "metadata": {},
   "outputs": [],
   "source": [
    "def transform_parquet_to_yf_format(parquet_path):\n",
    "    # Read the Parquet file\n",
    "    df = pd.read_parquet(parquet_path)\n",
    "    df.rename(columns={'date': 'Date'}, inplace=True)\n",
    "    # Ensure the 'date' column is a datetime type\n",
    "    df['Date'] = pd.to_datetime(df['Date'])\n",
    "    # df.rename(columns={'date': 'Date'}, inplace=True)\n",
    "    # Set the 'date' column as the index\n",
    "    df.set_index('Date', inplace=True)\n",
    "\n",
    "    \n",
    "    # Rename columns to match yfinance format\n",
    "    df.rename(columns={\n",
    "        'symbol': 'Symbol',\n",
    "        'open': 'Open',\n",
    "        'high': 'High',\n",
    "        'low': 'Low',\n",
    "        'close': 'Close',\n",
    "        'volume': 'Volume'\n",
    "    }, inplace=True)\n",
    "    \n",
    "    # Add 'Adj Close' column if it doesn't exist\n",
    "    if 'Adj Close' not in df.columns:\n",
    "        df['Adj Close'] = df['Close']\n",
    "    \n",
    "    return df"
   ]
  },
  {
   "cell_type": "code",
   "execution_count": 41,
   "metadata": {},
   "outputs": [
    {
     "name": "stdout",
     "output_type": "stream",
     "text": [
      "           Symbol    Volume      Close       Open       High        Low  \\\n",
      "Date                                                                      \n",
      "1999-11-18      A  62546380  26.511734  27.415542  30.126972  24.101576   \n",
      "1999-11-19      A  15234146  24.327536  25.871541  25.909201  23.988607   \n",
      "1999-11-22      A   6577870  26.511734  24.892409  26.511734  24.139234   \n",
      "1999-11-23      A   5975611  24.101587  25.607937  26.285794  24.101587   \n",
      "1999-11-24      A   4843231  24.741777  24.176897  25.269000  24.101578   \n",
      "\n",
      "            Adj Close  \n",
      "Date                   \n",
      "1999-11-18  26.511734  \n",
      "1999-11-19  24.327536  \n",
      "1999-11-22  26.511734  \n",
      "1999-11-23  24.101587  \n",
      "1999-11-24  24.741777  \n"
     ]
    }
   ],
   "source": [
    "# Example usageA\n",
    "parquet_path = \"/Users/apple/PROJECT/data/stock_price_daily.parquet\"\n",
    "transformed_df = transform_parquet_to_yf_format(parquet_path)\n",
    "\n",
    "print(transformed_df.head())\n"
   ]
  },
  {
   "cell_type": "code",
   "execution_count": 27,
   "metadata": {},
   "outputs": [],
   "source": [
    "time_series = transformed_df[transformed_df['symbol'] == 'AAPL']\n"
   ]
  },
  {
   "cell_type": "code",
   "execution_count": 17,
   "metadata": {},
   "outputs": [
    {
     "data": {
      "text/html": [
       "<div>\n",
       "<style scoped>\n",
       "    .dataframe tbody tr th:only-of-type {\n",
       "        vertical-align: middle;\n",
       "    }\n",
       "\n",
       "    .dataframe tbody tr th {\n",
       "        vertical-align: top;\n",
       "    }\n",
       "\n",
       "    .dataframe thead th {\n",
       "        text-align: right;\n",
       "    }\n",
       "</style>\n",
       "<table border=\"1\" class=\"dataframe\">\n",
       "  <thead>\n",
       "    <tr style=\"text-align: right;\">\n",
       "      <th></th>\n",
       "      <th>symbol</th>\n",
       "      <th>Volume</th>\n",
       "      <th>Close</th>\n",
       "      <th>Open</th>\n",
       "      <th>High</th>\n",
       "      <th>Low</th>\n",
       "      <th>Adj Close</th>\n",
       "    </tr>\n",
       "    <tr>\n",
       "      <th>date</th>\n",
       "      <th></th>\n",
       "      <th></th>\n",
       "      <th></th>\n",
       "      <th></th>\n",
       "      <th></th>\n",
       "      <th></th>\n",
       "      <th></th>\n",
       "    </tr>\n",
       "  </thead>\n",
       "  <tbody>\n",
       "    <tr>\n",
       "      <th>1980-12-12</th>\n",
       "      <td>AAPL</td>\n",
       "      <td>469033600</td>\n",
       "      <td>0.098834</td>\n",
       "      <td>0.098834</td>\n",
       "      <td>0.099264</td>\n",
       "      <td>0.098834</td>\n",
       "      <td>0.098834</td>\n",
       "    </tr>\n",
       "    <tr>\n",
       "      <th>1980-12-15</th>\n",
       "      <td>AAPL</td>\n",
       "      <td>175884800</td>\n",
       "      <td>0.093678</td>\n",
       "      <td>0.094108</td>\n",
       "      <td>0.094108</td>\n",
       "      <td>0.093678</td>\n",
       "      <td>0.093678</td>\n",
       "    </tr>\n",
       "    <tr>\n",
       "      <th>1980-12-16</th>\n",
       "      <td>AAPL</td>\n",
       "      <td>105728000</td>\n",
       "      <td>0.086802</td>\n",
       "      <td>0.087232</td>\n",
       "      <td>0.087232</td>\n",
       "      <td>0.086802</td>\n",
       "      <td>0.086802</td>\n",
       "    </tr>\n",
       "    <tr>\n",
       "      <th>1980-12-17</th>\n",
       "      <td>AAPL</td>\n",
       "      <td>86441600</td>\n",
       "      <td>0.088951</td>\n",
       "      <td>0.088951</td>\n",
       "      <td>0.089381</td>\n",
       "      <td>0.088951</td>\n",
       "      <td>0.088951</td>\n",
       "    </tr>\n",
       "    <tr>\n",
       "      <th>1980-12-18</th>\n",
       "      <td>AAPL</td>\n",
       "      <td>73449600</td>\n",
       "      <td>0.091530</td>\n",
       "      <td>0.091530</td>\n",
       "      <td>0.091959</td>\n",
       "      <td>0.091530</td>\n",
       "      <td>0.091530</td>\n",
       "    </tr>\n",
       "  </tbody>\n",
       "</table>\n",
       "</div>"
      ],
      "text/plain": [
       "           symbol     Volume     Close      Open      High       Low  \\\n",
       "date                                                                   \n",
       "1980-12-12   AAPL  469033600  0.098834  0.098834  0.099264  0.098834   \n",
       "1980-12-15   AAPL  175884800  0.093678  0.094108  0.094108  0.093678   \n",
       "1980-12-16   AAPL  105728000  0.086802  0.087232  0.087232  0.086802   \n",
       "1980-12-17   AAPL   86441600  0.088951  0.088951  0.089381  0.088951   \n",
       "1980-12-18   AAPL   73449600  0.091530  0.091530  0.091959  0.091530   \n",
       "\n",
       "            Adj Close  \n",
       "date                   \n",
       "1980-12-12   0.098834  \n",
       "1980-12-15   0.093678  \n",
       "1980-12-16   0.086802  \n",
       "1980-12-17   0.088951  \n",
       "1980-12-18   0.091530  "
      ]
     },
     "execution_count": 17,
     "metadata": {},
     "output_type": "execute_result"
    }
   ],
   "source": [
    "time_series.head()"
   ]
  },
  {
   "cell_type": "code",
   "execution_count": 14,
   "metadata": {},
   "outputs": [
    {
     "name": "stdout",
     "output_type": "stream",
     "text": [
      "<class 'pandas.core.frame.DataFrame'>\n",
      "DatetimeIndex: 252 entries, 2020-01-02 to 2020-12-30\n",
      "Data columns (total 6 columns):\n",
      " #   Column     Non-Null Count  Dtype  \n",
      "---  ------     --------------  -----  \n",
      " 0   Open       252 non-null    float64\n",
      " 1   High       252 non-null    float64\n",
      " 2   Low        252 non-null    float64\n",
      " 3   Close      252 non-null    float64\n",
      " 4   Adj Close  252 non-null    float64\n",
      " 5   Volume     252 non-null    int64  \n",
      "dtypes: float64(5), int64(1)\n",
      "memory usage: 13.8 KB\n"
     ]
    }
   ],
   "source": [
    "time_series.info()"
   ]
  },
  {
   "cell_type": "code",
   "execution_count": 28,
   "metadata": {},
   "outputs": [],
   "source": [
    "time_series = time_series.loc[start_date:end_date]"
   ]
  },
  {
   "cell_type": "code",
   "execution_count": 29,
   "metadata": {},
   "outputs": [
    {
     "data": {
      "text/html": [
       "<div>\n",
       "<style scoped>\n",
       "    .dataframe tbody tr th:only-of-type {\n",
       "        vertical-align: middle;\n",
       "    }\n",
       "\n",
       "    .dataframe tbody tr th {\n",
       "        vertical-align: top;\n",
       "    }\n",
       "\n",
       "    .dataframe thead th {\n",
       "        text-align: right;\n",
       "    }\n",
       "</style>\n",
       "<table border=\"1\" class=\"dataframe\">\n",
       "  <thead>\n",
       "    <tr style=\"text-align: right;\">\n",
       "      <th></th>\n",
       "      <th>symbol</th>\n",
       "      <th>Volume</th>\n",
       "      <th>Close</th>\n",
       "      <th>Open</th>\n",
       "      <th>High</th>\n",
       "      <th>Low</th>\n",
       "      <th>Adj Close</th>\n",
       "    </tr>\n",
       "    <tr>\n",
       "      <th>date</th>\n",
       "      <th></th>\n",
       "      <th></th>\n",
       "      <th></th>\n",
       "      <th></th>\n",
       "      <th></th>\n",
       "      <th></th>\n",
       "      <th></th>\n",
       "    </tr>\n",
       "  </thead>\n",
       "  <tbody>\n",
       "    <tr>\n",
       "      <th>2020-01-02</th>\n",
       "      <td>AAPL</td>\n",
       "      <td>135480400</td>\n",
       "      <td>72.796028</td>\n",
       "      <td>71.799881</td>\n",
       "      <td>72.856621</td>\n",
       "      <td>71.545395</td>\n",
       "      <td>72.796028</td>\n",
       "    </tr>\n",
       "    <tr>\n",
       "      <th>2020-01-03</th>\n",
       "      <td>AAPL</td>\n",
       "      <td>146322800</td>\n",
       "      <td>72.088303</td>\n",
       "      <td>72.020439</td>\n",
       "      <td>72.851769</td>\n",
       "      <td>71.862900</td>\n",
       "      <td>72.088303</td>\n",
       "    </tr>\n",
       "    <tr>\n",
       "      <th>2020-01-06</th>\n",
       "      <td>AAPL</td>\n",
       "      <td>118387200</td>\n",
       "      <td>72.662712</td>\n",
       "      <td>71.206070</td>\n",
       "      <td>72.701492</td>\n",
       "      <td>70.954002</td>\n",
       "      <td>72.662712</td>\n",
       "    </tr>\n",
       "    <tr>\n",
       "      <th>2020-01-07</th>\n",
       "      <td>AAPL</td>\n",
       "      <td>108872000</td>\n",
       "      <td>72.320976</td>\n",
       "      <td>72.672409</td>\n",
       "      <td>72.929322</td>\n",
       "      <td>72.100418</td>\n",
       "      <td>72.320976</td>\n",
       "    </tr>\n",
       "    <tr>\n",
       "      <th>2020-01-08</th>\n",
       "      <td>AAPL</td>\n",
       "      <td>132079200</td>\n",
       "      <td>73.484360</td>\n",
       "      <td>72.022865</td>\n",
       "      <td>73.787323</td>\n",
       "      <td>72.022865</td>\n",
       "      <td>73.484360</td>\n",
       "    </tr>\n",
       "    <tr>\n",
       "      <th>...</th>\n",
       "      <td>...</td>\n",
       "      <td>...</td>\n",
       "      <td>...</td>\n",
       "      <td>...</td>\n",
       "      <td>...</td>\n",
       "      <td>...</td>\n",
       "      <td>...</td>\n",
       "    </tr>\n",
       "    <tr>\n",
       "      <th>2020-12-24</th>\n",
       "      <td>AAPL</td>\n",
       "      <td>54930100</td>\n",
       "      <td>129.047531</td>\n",
       "      <td>128.411931</td>\n",
       "      <td>130.504541</td>\n",
       "      <td>128.196802</td>\n",
       "      <td>129.047531</td>\n",
       "    </tr>\n",
       "    <tr>\n",
       "      <th>2020-12-28</th>\n",
       "      <td>AAPL</td>\n",
       "      <td>124486200</td>\n",
       "      <td>133.663010</td>\n",
       "      <td>131.022804</td>\n",
       "      <td>134.298609</td>\n",
       "      <td>130.553423</td>\n",
       "      <td>133.663010</td>\n",
       "    </tr>\n",
       "    <tr>\n",
       "      <th>2020-12-29</th>\n",
       "      <td>AAPL</td>\n",
       "      <td>121047300</td>\n",
       "      <td>131.883286</td>\n",
       "      <td>134.992872</td>\n",
       "      <td>135.716475</td>\n",
       "      <td>131.365024</td>\n",
       "      <td>131.883286</td>\n",
       "    </tr>\n",
       "    <tr>\n",
       "      <th>2020-12-30</th>\n",
       "      <td>AAPL</td>\n",
       "      <td>96452100</td>\n",
       "      <td>130.758759</td>\n",
       "      <td>132.577569</td>\n",
       "      <td>132.978493</td>\n",
       "      <td>130.445838</td>\n",
       "      <td>130.758759</td>\n",
       "    </tr>\n",
       "    <tr>\n",
       "      <th>2020-12-31</th>\n",
       "      <td>AAPL</td>\n",
       "      <td>99116600</td>\n",
       "      <td>129.751587</td>\n",
       "      <td>131.110805</td>\n",
       "      <td>131.756193</td>\n",
       "      <td>128.803066</td>\n",
       "      <td>129.751587</td>\n",
       "    </tr>\n",
       "  </tbody>\n",
       "</table>\n",
       "<p>253 rows × 7 columns</p>\n",
       "</div>"
      ],
      "text/plain": [
       "           symbol     Volume       Close        Open        High         Low  \\\n",
       "date                                                                           \n",
       "2020-01-02   AAPL  135480400   72.796028   71.799881   72.856621   71.545395   \n",
       "2020-01-03   AAPL  146322800   72.088303   72.020439   72.851769   71.862900   \n",
       "2020-01-06   AAPL  118387200   72.662712   71.206070   72.701492   70.954002   \n",
       "2020-01-07   AAPL  108872000   72.320976   72.672409   72.929322   72.100418   \n",
       "2020-01-08   AAPL  132079200   73.484360   72.022865   73.787323   72.022865   \n",
       "...           ...        ...         ...         ...         ...         ...   \n",
       "2020-12-24   AAPL   54930100  129.047531  128.411931  130.504541  128.196802   \n",
       "2020-12-28   AAPL  124486200  133.663010  131.022804  134.298609  130.553423   \n",
       "2020-12-29   AAPL  121047300  131.883286  134.992872  135.716475  131.365024   \n",
       "2020-12-30   AAPL   96452100  130.758759  132.577569  132.978493  130.445838   \n",
       "2020-12-31   AAPL   99116600  129.751587  131.110805  131.756193  128.803066   \n",
       "\n",
       "             Adj Close  \n",
       "date                    \n",
       "2020-01-02   72.796028  \n",
       "2020-01-03   72.088303  \n",
       "2020-01-06   72.662712  \n",
       "2020-01-07   72.320976  \n",
       "2020-01-08   73.484360  \n",
       "...                ...  \n",
       "2020-12-24  129.047531  \n",
       "2020-12-28  133.663010  \n",
       "2020-12-29  131.883286  \n",
       "2020-12-30  130.758759  \n",
       "2020-12-31  129.751587  \n",
       "\n",
       "[253 rows x 7 columns]"
      ]
     },
     "execution_count": 29,
     "metadata": {},
     "output_type": "execute_result"
    }
   ],
   "source": [
    "time_series"
   ]
  },
  {
   "cell_type": "code",
   "execution_count": 14,
   "metadata": {},
   "outputs": [
    {
     "name": "stderr",
     "output_type": "stream",
     "text": [
      "/Users/apple/miniconda3/envs/hons-project/lib/python3.8/site-packages/pyspark/bin/spark-class: line 71: /Users/apple/java8/bin/java: cannot execute binary file\n",
      "/Users/apple/miniconda3/envs/hons-project/lib/python3.8/site-packages/pyspark/bin/spark-class: line 97: CMD: bad array subscript\n",
      "head: illegal line count -- -1\n"
     ]
    },
    {
     "ename": "PySparkRuntimeError",
     "evalue": "[JAVA_GATEWAY_EXITED] Java gateway process exited before sending its port number.",
     "output_type": "error",
     "traceback": [
      "\u001b[0;31m---------------------------------------------------------------------------\u001b[0m",
      "\u001b[0;31mPySparkRuntimeError\u001b[0m                       Traceback (most recent call last)",
      "Cell \u001b[0;32mIn[14], line 6\u001b[0m\n\u001b[1;32m      3\u001b[0m \u001b[38;5;28;01mimport\u001b[39;00m \u001b[38;5;21;01mpandas\u001b[39;00m \u001b[38;5;28;01mas\u001b[39;00m \u001b[38;5;21;01mpd\u001b[39;00m\n\u001b[1;32m      5\u001b[0m \u001b[38;5;66;03m# Initialize Spark session\u001b[39;00m\n\u001b[0;32m----> 6\u001b[0m spark \u001b[38;5;241m=\u001b[39m \u001b[43mSparkSession\u001b[49m\u001b[38;5;241;43m.\u001b[39;49m\u001b[43mbuilder\u001b[49m\u001b[43m \u001b[49m\u001b[43m\\\u001b[49m\n\u001b[1;32m      7\u001b[0m \u001b[43m    \u001b[49m\u001b[38;5;241;43m.\u001b[39;49m\u001b[43mappName\u001b[49m\u001b[43m(\u001b[49m\u001b[38;5;124;43m\"\u001b[39;49m\u001b[38;5;124;43mIntegrated Data\u001b[39;49m\u001b[38;5;124;43m\"\u001b[39;49m\u001b[43m)\u001b[49m\u001b[43m \u001b[49m\u001b[43m\\\u001b[49m\n\u001b[1;32m      8\u001b[0m \u001b[43m    \u001b[49m\u001b[38;5;241;43m.\u001b[39;49m\u001b[43mgetOrCreate\u001b[49m\u001b[43m(\u001b[49m\u001b[43m)\u001b[49m\n",
      "File \u001b[0;32m~/miniconda3/envs/hons-project/lib/python3.8/site-packages/pyspark/sql/session.py:497\u001b[0m, in \u001b[0;36mSparkSession.Builder.getOrCreate\u001b[0;34m(self)\u001b[0m\n\u001b[1;32m    495\u001b[0m     sparkConf\u001b[38;5;241m.\u001b[39mset(key, value)\n\u001b[1;32m    496\u001b[0m \u001b[38;5;66;03m# This SparkContext may be an existing one.\u001b[39;00m\n\u001b[0;32m--> 497\u001b[0m sc \u001b[38;5;241m=\u001b[39m \u001b[43mSparkContext\u001b[49m\u001b[38;5;241;43m.\u001b[39;49m\u001b[43mgetOrCreate\u001b[49m\u001b[43m(\u001b[49m\u001b[43msparkConf\u001b[49m\u001b[43m)\u001b[49m\n\u001b[1;32m    498\u001b[0m \u001b[38;5;66;03m# Do not update `SparkConf` for existing `SparkContext`, as it's shared\u001b[39;00m\n\u001b[1;32m    499\u001b[0m \u001b[38;5;66;03m# by all sessions.\u001b[39;00m\n\u001b[1;32m    500\u001b[0m session \u001b[38;5;241m=\u001b[39m SparkSession(sc, options\u001b[38;5;241m=\u001b[39m\u001b[38;5;28mself\u001b[39m\u001b[38;5;241m.\u001b[39m_options)\n",
      "File \u001b[0;32m~/miniconda3/envs/hons-project/lib/python3.8/site-packages/pyspark/context.py:515\u001b[0m, in \u001b[0;36mSparkContext.getOrCreate\u001b[0;34m(cls, conf)\u001b[0m\n\u001b[1;32m    513\u001b[0m \u001b[38;5;28;01mwith\u001b[39;00m SparkContext\u001b[38;5;241m.\u001b[39m_lock:\n\u001b[1;32m    514\u001b[0m     \u001b[38;5;28;01mif\u001b[39;00m SparkContext\u001b[38;5;241m.\u001b[39m_active_spark_context \u001b[38;5;129;01mis\u001b[39;00m \u001b[38;5;28;01mNone\u001b[39;00m:\n\u001b[0;32m--> 515\u001b[0m         \u001b[43mSparkContext\u001b[49m\u001b[43m(\u001b[49m\u001b[43mconf\u001b[49m\u001b[38;5;241;43m=\u001b[39;49m\u001b[43mconf\u001b[49m\u001b[43m \u001b[49m\u001b[38;5;129;43;01mor\u001b[39;49;00m\u001b[43m \u001b[49m\u001b[43mSparkConf\u001b[49m\u001b[43m(\u001b[49m\u001b[43m)\u001b[49m\u001b[43m)\u001b[49m\n\u001b[1;32m    516\u001b[0m     \u001b[38;5;28;01massert\u001b[39;00m SparkContext\u001b[38;5;241m.\u001b[39m_active_spark_context \u001b[38;5;129;01mis\u001b[39;00m \u001b[38;5;129;01mnot\u001b[39;00m \u001b[38;5;28;01mNone\u001b[39;00m\n\u001b[1;32m    517\u001b[0m     \u001b[38;5;28;01mreturn\u001b[39;00m SparkContext\u001b[38;5;241m.\u001b[39m_active_spark_context\n",
      "File \u001b[0;32m~/miniconda3/envs/hons-project/lib/python3.8/site-packages/pyspark/context.py:201\u001b[0m, in \u001b[0;36mSparkContext.__init__\u001b[0;34m(self, master, appName, sparkHome, pyFiles, environment, batchSize, serializer, conf, gateway, jsc, profiler_cls, udf_profiler_cls, memory_profiler_cls)\u001b[0m\n\u001b[1;32m    195\u001b[0m \u001b[38;5;28;01mif\u001b[39;00m gateway \u001b[38;5;129;01mis\u001b[39;00m \u001b[38;5;129;01mnot\u001b[39;00m \u001b[38;5;28;01mNone\u001b[39;00m \u001b[38;5;129;01mand\u001b[39;00m gateway\u001b[38;5;241m.\u001b[39mgateway_parameters\u001b[38;5;241m.\u001b[39mauth_token \u001b[38;5;129;01mis\u001b[39;00m \u001b[38;5;28;01mNone\u001b[39;00m:\n\u001b[1;32m    196\u001b[0m     \u001b[38;5;28;01mraise\u001b[39;00m \u001b[38;5;167;01mValueError\u001b[39;00m(\n\u001b[1;32m    197\u001b[0m         \u001b[38;5;124m\"\u001b[39m\u001b[38;5;124mYou are trying to pass an insecure Py4j gateway to Spark. This\u001b[39m\u001b[38;5;124m\"\u001b[39m\n\u001b[1;32m    198\u001b[0m         \u001b[38;5;124m\"\u001b[39m\u001b[38;5;124m is not allowed as it is a security risk.\u001b[39m\u001b[38;5;124m\"\u001b[39m\n\u001b[1;32m    199\u001b[0m     )\n\u001b[0;32m--> 201\u001b[0m \u001b[43mSparkContext\u001b[49m\u001b[38;5;241;43m.\u001b[39;49m\u001b[43m_ensure_initialized\u001b[49m\u001b[43m(\u001b[49m\u001b[38;5;28;43mself\u001b[39;49m\u001b[43m,\u001b[49m\u001b[43m \u001b[49m\u001b[43mgateway\u001b[49m\u001b[38;5;241;43m=\u001b[39;49m\u001b[43mgateway\u001b[49m\u001b[43m,\u001b[49m\u001b[43m \u001b[49m\u001b[43mconf\u001b[49m\u001b[38;5;241;43m=\u001b[39;49m\u001b[43mconf\u001b[49m\u001b[43m)\u001b[49m\n\u001b[1;32m    202\u001b[0m \u001b[38;5;28;01mtry\u001b[39;00m:\n\u001b[1;32m    203\u001b[0m     \u001b[38;5;28mself\u001b[39m\u001b[38;5;241m.\u001b[39m_do_init(\n\u001b[1;32m    204\u001b[0m         master,\n\u001b[1;32m    205\u001b[0m         appName,\n\u001b[0;32m   (...)\u001b[0m\n\u001b[1;32m    215\u001b[0m         memory_profiler_cls,\n\u001b[1;32m    216\u001b[0m     )\n",
      "File \u001b[0;32m~/miniconda3/envs/hons-project/lib/python3.8/site-packages/pyspark/context.py:436\u001b[0m, in \u001b[0;36mSparkContext._ensure_initialized\u001b[0;34m(cls, instance, gateway, conf)\u001b[0m\n\u001b[1;32m    434\u001b[0m \u001b[38;5;28;01mwith\u001b[39;00m SparkContext\u001b[38;5;241m.\u001b[39m_lock:\n\u001b[1;32m    435\u001b[0m     \u001b[38;5;28;01mif\u001b[39;00m \u001b[38;5;129;01mnot\u001b[39;00m SparkContext\u001b[38;5;241m.\u001b[39m_gateway:\n\u001b[0;32m--> 436\u001b[0m         SparkContext\u001b[38;5;241m.\u001b[39m_gateway \u001b[38;5;241m=\u001b[39m gateway \u001b[38;5;129;01mor\u001b[39;00m \u001b[43mlaunch_gateway\u001b[49m\u001b[43m(\u001b[49m\u001b[43mconf\u001b[49m\u001b[43m)\u001b[49m\n\u001b[1;32m    437\u001b[0m         SparkContext\u001b[38;5;241m.\u001b[39m_jvm \u001b[38;5;241m=\u001b[39m SparkContext\u001b[38;5;241m.\u001b[39m_gateway\u001b[38;5;241m.\u001b[39mjvm\n\u001b[1;32m    439\u001b[0m     \u001b[38;5;28;01mif\u001b[39;00m instance:\n",
      "File \u001b[0;32m~/miniconda3/envs/hons-project/lib/python3.8/site-packages/pyspark/java_gateway.py:107\u001b[0m, in \u001b[0;36mlaunch_gateway\u001b[0;34m(conf, popen_kwargs)\u001b[0m\n\u001b[1;32m    104\u001b[0m     time\u001b[38;5;241m.\u001b[39msleep(\u001b[38;5;241m0.1\u001b[39m)\n\u001b[1;32m    106\u001b[0m \u001b[38;5;28;01mif\u001b[39;00m \u001b[38;5;129;01mnot\u001b[39;00m os\u001b[38;5;241m.\u001b[39mpath\u001b[38;5;241m.\u001b[39misfile(conn_info_file):\n\u001b[0;32m--> 107\u001b[0m     \u001b[38;5;28;01mraise\u001b[39;00m PySparkRuntimeError(\n\u001b[1;32m    108\u001b[0m         error_class\u001b[38;5;241m=\u001b[39m\u001b[38;5;124m\"\u001b[39m\u001b[38;5;124mJAVA_GATEWAY_EXITED\u001b[39m\u001b[38;5;124m\"\u001b[39m,\n\u001b[1;32m    109\u001b[0m         message_parameters\u001b[38;5;241m=\u001b[39m{},\n\u001b[1;32m    110\u001b[0m     )\n\u001b[1;32m    112\u001b[0m \u001b[38;5;28;01mwith\u001b[39;00m \u001b[38;5;28mopen\u001b[39m(conn_info_file, \u001b[38;5;124m\"\u001b[39m\u001b[38;5;124mrb\u001b[39m\u001b[38;5;124m\"\u001b[39m) \u001b[38;5;28;01mas\u001b[39;00m info:\n\u001b[1;32m    113\u001b[0m     gateway_port \u001b[38;5;241m=\u001b[39m read_int(info)\n",
      "\u001b[0;31mPySparkRuntimeError\u001b[0m: [JAVA_GATEWAY_EXITED] Java gateway process exited before sending its port number."
     ]
    }
   ],
   "source": [
    "from pyspark.sql import SparkSession\n",
    "from pyspark.sql.functions import col, lit\n",
    "import pandas as pd\n",
    "\n",
    "# Initialize Spark session\n",
    "spark = SparkSession.builder \\\n",
    "    .appName(\"Integrated Data\") \\\n",
    "    .getOrCreate()"
   ]
  },
  {
   "cell_type": "code",
   "execution_count": 4,
   "metadata": {},
   "outputs": [
    {
     "ename": "NameError",
     "evalue": "name 'spark' is not defined",
     "output_type": "error",
     "traceback": [
      "\u001b[0;31m---------------------------------------------------------------------------\u001b[0m",
      "\u001b[0;31mNameError\u001b[0m                                 Traceback (most recent call last)",
      "Cell \u001b[0;32mIn[4], line 21\u001b[0m\n\u001b[1;32m      2\u001b[0m normalized_records \u001b[38;5;241m=\u001b[39m [\n\u001b[1;32m      3\u001b[0m     {\n\u001b[1;32m      4\u001b[0m         \u001b[38;5;124m'\u001b[39m\u001b[38;5;124mDate\u001b[39m\u001b[38;5;124m'\u001b[39m: \u001b[38;5;124m'\u001b[39m\u001b[38;5;124m2020-04-29\u001b[39m\u001b[38;5;124m'\u001b[39m,\n\u001b[0;32m   (...)\u001b[0m\n\u001b[1;32m     17\u001b[0m     }\n\u001b[1;32m     18\u001b[0m ]\n\u001b[1;32m     20\u001b[0m \u001b[38;5;66;03m# Create Spark DataFrame from normalized records\u001b[39;00m\n\u001b[0;32m---> 21\u001b[0m normalized_df \u001b[38;5;241m=\u001b[39m \u001b[43mspark\u001b[49m\u001b[38;5;241m.\u001b[39mcreateDataFrame(normalized_records)\n\u001b[1;32m     23\u001b[0m \u001b[38;5;66;03m# Show the normalized DataFrame\u001b[39;00m\n\u001b[1;32m     24\u001b[0m normalized_df\u001b[38;5;241m.\u001b[39mshow()\n",
      "\u001b[0;31mNameError\u001b[0m: name 'spark' is not defined"
     ]
    }
   ],
   "source": [
    "# Step 3: Normalize Records for CIK 0000002488\n",
    "normalized_records = [\n",
    "    {\n",
    "        'Date': '2020-04-29',\n",
    "        '_cik': '0000002488',\n",
    "        '_vol': 0.0005601878357971315,\n",
    "        '_ret': 0.016083144398197774,\n",
    "        '_vol+1': 0.0006520683973402329,\n",
    "        '_ret+1': 0.01965666991139898,\n",
    "        'face': 7.0,\n",
    "        'exhibit': 2.0,\n",
    "        'location': 2.0,\n",
    "        'review': 3.0,\n",
    "        'arrange': 1.0,\n",
    "        'wired': 1.0,\n",
    "        'instruction': 3.0\n",
    "    }\n",
    "]\n",
    "\n",
    "# Create Spark DataFrame from normalized records\n",
    "normalized_df = spark.createDataFrame(normalized_records)\n",
    "\n",
    "# Show the normalized DataFrame\n",
    "normalized_df.show()"
   ]
  },
  {
   "cell_type": "code",
   "execution_count": 5,
   "metadata": {},
   "outputs": [
    {
     "name": "stdout",
     "output_type": "stream",
     "text": [
      "openjdk version \"1.8.0_292\"\n",
      "OpenJDK Runtime Environment (AdoptOpenJDK)(build 1.8.0_292-b10)\n",
      "OpenJDK 64-Bit Server VM (AdoptOpenJDK)(build 25.292-b10, mixed mode)\n"
     ]
    }
   ],
   "source": [
    "!java -version"
   ]
  },
  {
   "cell_type": "code",
   "execution_count": 9,
   "metadata": {},
   "outputs": [
    {
     "name": "stdout",
     "output_type": "stream",
     "text": [
      "/Users/apple/.zshrc:source:2: no such file or directory: /path/to/google-cloud-sdk/path.zsh.inc\n"
     ]
    }
   ],
   "source": [
    "!echo 'export PATH=\"/usr/local/opt/openjdk@8/bin:$PATH\"' >> ~/.zshrc\n",
    "!source ~/.zshrc"
   ]
  },
  {
   "cell_type": "code",
   "execution_count": 10,
   "metadata": {},
   "outputs": [],
   "source": [
    "!export JAVA_HOME=$(/usr/libexec/java_home -v 1.8)"
   ]
  },
  {
   "cell_type": "code",
   "execution_count": 12,
   "metadata": {},
   "outputs": [
    {
     "name": "stdout",
     "output_type": "stream",
     "text": [
      "/Users/apple/.zshrc:source:2: no such file or directory: /path/to/google-cloud-sdk/path.zsh.inc\n"
     ]
    }
   ],
   "source": [
    "!echo 'export JAVA_HOME=$(/usr/libexec/java_home -v 1.8)' >> ~/.zshrc\n",
    "!source ~/.zshrc"
   ]
  },
  {
   "cell_type": "code",
   "execution_count": 13,
   "metadata": {},
   "outputs": [
    {
     "name": "stdout",
     "output_type": "stream",
     "text": [
      "/Users/apple/java8\n"
     ]
    }
   ],
   "source": [
    "!echo $JAVA_HOME"
   ]
  },
  {
   "cell_type": "code",
   "execution_count": 17,
   "metadata": {},
   "outputs": [
    {
     "name": "stdout",
     "output_type": "stream",
     "text": [
      "0    10-Q 1 d312884d10q.htm FORM 10-Q Form 10-Q Tab...\n",
      "Name: Body, dtype: object\n"
     ]
    }
   ],
   "source": [
    "import pandas as pd\n",
    "\n",
    "# Read a Parquet file\n",
    "df = pd.read_parquet(\"/Users/apple/PROJECT/hons_project/data/SP500/company_df/0000002488/part-00000-ce17d865-f6a0-48f6-bc6b-091fb4ba7615-c000.snappy.parquet\")\n",
    "\n",
    "# symbol_data = df[df[\"symbol\"] == \"AAPL\"]\n",
    "# Display the data\n",
    "print(df['Body'].head(100))\n"
   ]
  },
  {
   "cell_type": "code",
   "execution_count": null,
   "metadata": {},
   "outputs": [],
   "source": []
  }
 ],
 "metadata": {
  "kernelspec": {
   "display_name": "hons-project",
   "language": "python",
   "name": "python3"
  },
  "language_info": {
   "codemirror_mode": {
    "name": "ipython",
    "version": 3
   },
   "file_extension": ".py",
   "mimetype": "text/x-python",
   "name": "python",
   "nbconvert_exporter": "python",
   "pygments_lexer": "ipython3",
   "version": "3.8.18"
  }
 },
 "nbformat": 4,
 "nbformat_minor": 2
}
