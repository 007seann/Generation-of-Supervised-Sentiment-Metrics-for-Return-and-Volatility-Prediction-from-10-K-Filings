{
 "cells": [
  {
   "cell_type": "code",
   "execution_count": 1,
   "metadata": {},
   "outputs": [],
   "source": [
    "import requests\n",
    "import os\n",
    "import pandas as pd\n",
    "import json\n",
    "from tqdm import tqdm\n",
    "import datetime"
   ]
  },
  {
   "cell_type": "code",
   "execution_count": null,
   "metadata": {},
   "outputs": [
    {
     "name": "stderr",
     "output_type": "stream",
     "text": [
      "  0%|          | 0/549 [00:00<?, ?it/s]"
     ]
    },
    {
     "name": "stdout",
     "output_type": "stream",
     "text": [
      "Skipping qcom: SP500-historical-prices_2012-2024/qcom.json already exists.\n",
      "Skipping itw: SP500-historical-prices_2012-2024/itw.json already exists.\n",
      "Skipping d: SP500-historical-prices_2012-2024/d.json already exists.\n",
      "Skipping ati: SP500-historical-prices_2012-2024/ati.json already exists.\n"
     ]
    },
    {
     "name": "stderr",
     "output_type": "stream",
     "text": [
      "  1%|          | 5/549 [00:02<04:13,  2.15it/s]"
     ]
    },
    {
     "name": "stdout",
     "output_type": "stream",
     "text": [
      "Skipping wmb: SP500-historical-prices_2012-2024/wmb.json already exists.\n",
      "Skipping adsk: SP500-historical-prices_2012-2024/adsk.json already exists.\n",
      "Skipping emr: SP500-historical-prices_2012-2024/emr.json already exists.\n",
      "Skipping kbh: SP500-historical-prices_2012-2024/kbh.json already exists.\n",
      "Skipping cost: SP500-historical-prices_2012-2024/cost.json already exists.\n"
     ]
    },
    {
     "name": "stderr",
     "output_type": "stream",
     "text": [
      " 11%|█▏        | 63/549 [03:48<30:57,  3.82s/it]  "
     ]
    }
   ],
   "source": [
    "\n",
    "path = '/Users/apple/PROJECT/Code_4_10k/sp500_total_constituents.csv'\n",
    "\n",
    "try:\n",
    "    df = pd.read_csv(path, encoding = 'utf-8')\n",
    "    cik = df['CIK'].drop_duplicates().tolist()\n",
    "    ticker = df['Symbol'].tolist()\n",
    "    cik_ticker = dict(zip(cik, ticker))\n",
    "except UnicodeDecodeError:\n",
    "    df = pd.read_csv(path, encoding = 'ISO-8859-1')\n",
    "    cik = df['CIK'].drop_duplicates().tolist()\n",
    "    ticker = df['Symbol'].tolist()\n",
    "    cik_ticker = dict(zip(cik, ticker))\n",
    "\n",
    "import requests\n",
    "import os\n",
    "from tqdm import tqdm\n",
    "\n",
    "total_len = 0\n",
    "valid = 0\n",
    "save_folder = \"SP500-historical-prices_2012-2024\"\n",
    "for ticker in tqdm(cik_ticker.values()):\n",
    "    ticker = ticker.lower()\n",
    "    file_name = f'{ticker}.json'\n",
    "    file_path = os.path.join(save_folder, file_name)\n",
    "    if os.path.exists(file_path):\n",
    "        print(f\"Skipping {ticker}: {file_path} already exists.\")\n",
    "        continue\n",
    "    url = \"https://seeking-alpha.p.rapidapi.com/analysis/v2/list\"\n",
    "\n",
    "    querystring = {\"id\":ticker,\"until\":\"1704067200\",\"since\":\"1136073600\",\"size\":\"40\",\"number\":\"1\"}\n",
    "\n",
    "    headers = {\n",
    "        \"x-rapidapi-key\": \"13f98f0478msha8ec97b6a805b1fp174175jsn98c8458d4397\",\n",
    "        \"x-rapidapi-host\": \"seeking-alpha.p.rapidapi.com\"\n",
    "    }\n",
    "\n",
    "    try:\n",
    "        response = requests.get(url, headers=headers, params=querystring).json()\n",
    "\t\t# response.raise_for_status()  # Raise HTTPError for bad responses (4xx and 5xx)\n",
    "    \n",
    "\t\t# if 'application/json' in response.headers.get('Content-Type', ''):\n",
    "\t\t# \tdata = response.json()  # Parse JSON if content is JSON\n",
    "\t\t# \tprint(data)\n",
    "\t\t# else:\n",
    "\t\t# \tprint(\"Response is not JSON\")\n",
    "\t\t# \tprint(response.text)  # Debug raw response\n",
    "    except:\n",
    "        continue\n",
    "\n",
    "    total_len += len(response['data'])\n",
    "    valid += 1\n",
    "\n",
    "    if not os.path.exists(save_folder):\n",
    "        os.makedirs(save_folder)\n",
    "    with open(f'SP500-historical-prices_2012-2024/{ticker}.json', 'w') as json_file:\n",
    "        json.dump(response, json_file)\n",
    "\n",
    "print(\"The number of firm retrieved:\", total_len)\n"
   ]
  },
  {
   "cell_type": "code",
   "execution_count": 3,
   "metadata": {},
   "outputs": [
    {
     "data": {
      "text/plain": [
       "{2024: 1704067200,\n",
       " 2023: 1672531200,\n",
       " 2022: 1640995200,\n",
       " 2021: 1609459200,\n",
       " 2020: 1577836800,\n",
       " 2019: 1546300800,\n",
       " 2018: 1514764800,\n",
       " 2017: 1483228800,\n",
       " 2016: 1451606400,\n",
       " 2015: 1420070400,\n",
       " 2014: 1388534400,\n",
       " 2013: 1356998400,\n",
       " 2012: 1325376000,\n",
       " 2011: 1293840000,\n",
       " 2010: 1262304000,\n",
       " 2009: 1230768000,\n",
       " 2008: 1199145600,\n",
       " 2007: 1167609600}"
      ]
     },
     "execution_count": 3,
     "metadata": {},
     "output_type": "execute_result"
    }
   ],
   "source": [
    "\n",
    "year2unixTime = {}\n",
    "for year in range(2024, 2006, -1):\n",
    "    current_year_timestamp = int(datetime.datetime(year, 1, 1).timestamp())\n",
    "    year2unixTime[year] = current_year_timestamp\n",
    "    \n",
    "year2unixTime"
   ]
  },
  {
   "cell_type": "code",
   "execution_count": 66,
   "metadata": {},
   "outputs": [],
   "source": [
    "import requests\n",
    "import os\n",
    "import pandas as pd\n",
    "import json\n",
    "from tqdm import tqdm\n",
    "import datetime\n",
    "from concurrent.futures import ThreadPoolExecutor, as_completed\n",
    "import time\n",
    "import atexit\n",
    "from threading import Lock\n",
    "from collections import defaultdict\n",
    "\n",
    "path = '/Users/apple/PROJECT/Code_4_10k/sp500_total_constituents.csv'\n",
    "\n",
    "try:\n",
    "    df = pd.read_csv(path, encoding='utf-8')\n",
    "    cik = df['CIK'].drop_duplicates().tolist()\n",
    "    ticker = df['Symbol'].tolist()\n",
    "    cik_ticker = dict(zip(cik, ticker))\n",
    "except UnicodeDecodeError:\n",
    "    df = pd.read_csv(path, encoding='ISO-8859-1')\n",
    "    cik = df['CIK'].drop_duplicates().tolist()\n",
    "    ticker = df['Symbol'].tolist()\n",
    "    cik_ticker = dict(zip(cik, ticker))\n",
    "\n",
    "total_len = 0\n",
    "\n",
    "valid = 0\n",
    "total_requests = 0\n",
    "save_folder = \"analysis_reports\"\n",
    "id_folder = \"analysis_report_ids\"\n",
    "year_until = 2024\n",
    "year_since = 2006\n",
    "\n",
    "# Rate limiting variables\n",
    "rate_limit = 5\n",
    "request_counter = 0\n",
    "last_request_time = time.time()\n",
    "lock = Lock()\n",
    "\n",
    "def fetch_ids_for_ticekr(ticker):\n",
    "    year_id2title = defaultdict(dict)\n",
    "    total_numIds = 0\n",
    "    year_ids = 0\n",
    "    ticker = ticker.lower()\n",
    "    ticker_id_folder = os.path.join(id_folder, ticker)\n",
    "    if not os.path.exists(ticker_id_folder):\n",
    "        os.makedirs(ticker_id_folder)\n",
    "        \n",
    "    for year in range(year_until, year_since, -1):\n",
    "        id2title = defaultdict(lambda: 'title')\n",
    "        year_file_path = os.path.join(ticker_id_folder, f\"{year-1}.json\")\n",
    "        if not os.path.exists(year_file_path):\n",
    "            continue\n",
    "        with open(year_file_path, 'r') as json_file:\n",
    "            json_data = json.load(json_file)\n",
    "            if 'data' in json_data and json_data['data']:                \n",
    "                for i in range(len(json_data['data'])):\n",
    "                    id = json_data['data'][i]['id']\n",
    "                    title = json_data['data'][i]['attributes']['title']\n",
    "                    id2title[id] = title\n",
    "        year_id2title[year] = id2title\n",
    "        year_ids = len(id2title)\n",
    "        total_numIds += year_ids\n",
    "\n",
    "    return year_id2title, total_numIds\n",
    "            "
   ]
  },
  {
   "cell_type": "code",
   "execution_count": null,
   "metadata": {},
   "outputs": [],
   "source": []
  },
  {
   "cell_type": "code",
   "execution_count": 67,
   "metadata": {},
   "outputs": [
    {
     "name": "stdout",
     "output_type": "stream",
     "text": [
      "defaultdict(<class 'dict'>, {2024: defaultdict(<function fetch_analysis_for_ticekr.<locals>.<lambda> at 0x7f77bb8bf4c0>, {'4660494': \"Costco's Growth Will Persist, Even If The U.S. Enters A Recession\", '4659603': 'Costco: Not As Overvalued As Many Think', '4659401': 'Costco Vs. Walmart: Several Reasons Make For A Clear Winner', '4658761': 'Costco: This Is Where The Bold Will Turn Cautious (Rating Downgrade)', '4658361': 'Costco: A Buy At New 52-Week Highs And After Announcing $15 Special Dividend?', '4658162': 'Costco Q1: Membership Model Muscles Through, But Can It Maintain Momentum?', '4657176': \"Costco's Earnings: A Few Thoughts On The Special Dividend And The Fee Hike\", '4657153': \"Note To BJ's Wholesale Club Investors: There's Only One Costco\", '4655484': 'Costco: Extremely Attractive Business But Unappealing Valuation', '4654687': 'Costco: Same Membership Fee For More Than Six Years; It Is Time Now', '4653030': \"Costco: I Can't Defend A 40x P/E\", '4649600': 'Costco: The Retailer That Collects Assets Like A REIT', '4648982': 'Costco: A Strong Company With A Wide Moat At A Fair Price', '4648495': 'Costco: Keep Tight Hold Of Your Shares', '4648080': 'Costco: Healthy Technicals, But Shares Fully Priced Ahead Of Q1 Results', '4648011': \"Is Costco's Premium Valuation Justified?\", '4639654': \"Here's Why Costco Can Continue To Beat The Market Despite Rich Valuation\", '4638766': 'Costco: So Many Things To Like, Except One', '4639283': 'Costco: Unlikely To Provide Meaningful Returns Going Forward', '4638124': 'Costco: A Balanced Play Amid Robust Growth And Overvaluation Concerns', '4638005': 'Costco: Fourth-Quarter Results Show Resilience, But Valuation Remains High (Rating Upgrade)', '4637695': 'Costco: Rumors Of Death Greatly Exaggerated', '4637599': 'Costco: What Quarterly Results Reveal, And More', '4637221': \"Costco: A Stock That's Too Hot To Handle\", '4635796': 'Costco Earnings: Membership Fee Hike, Special Dividend And A Key Microeconomic Concept', '4635588': 'Costco: A Potential Perpetual Growth Machine', '4632881': 'Costco: A Strong Company At A Premium Price', '4632729': 'Betting Against Costco Is Like Betting Against Apple', '4623477': 'Three Reasons Why We Like Costco', '4623261': 'Costco Is Great, Yet Simply Too Expensive', '4623180': \"Costco's Stock Is No Bargain\", '4622915': 'Costco Turned $10 Thousand Into $1 Million - It Can Do It Again', '4615933': 'Costco: Too Dang Expensive, No Margin For Error', '4614850': 'Costco Is Following The Footsteps Of Netflix, But Remains Overvalued', '4611647': \"Dollar General, Target, And Walmart Have A Worry Costco Doesn't Have\", '4609458': 'Costco Wholesale Offers An Attractive Entry Price (Technical Analysis)', '4609237': 'Costco: Ignore The Noise - Shoppers Remain Sticky As Inflation Abates', '4607733': 'Costco: Q3 Earnings Were Just Good Enough', '4602018': 'Costco: The Stock Is A Buy, Valuation Remains Cheap', '4601726': 'Costco: Not Buying Due To Overvaluation And Uncertainties', '4601648': 'Costco: Still Too Expensive', '4601253': 'Costco: Why Munger Likes It And So Should You', '4592696': 'Costco Wholesale: Still Not On Sale Despite A Decline On Disappointing Results', '4592692': 'Costco: Huge Valuation Risk', '4587279': 'Costco: Should You Pay For Premium?', '4585731': \"Costco's Eventual Membership Fee Hike - Here's What To Expect\", '4586681': 'The Virtues Of Costco And The Big Valuation Dilemma', '4586264': \"How Amazon Expands Costco's Business Model\", '4582747': 'Costco: Key Things To Watch With Q2 Earnings', '4576107': 'Costco: Great Company But Expensive', '4575332': 'Costco Stock: A Conservative Or Optimistic Approach? An In-Depth Analysis', '4569346': 'The Economics Of Costco - One Square Foot At A Time', '4568345': 'Costco Wholesale: Great Performance, But Not A Great Price'}), 2023: defaultdict(<function fetch_analysis_for_ticekr.<locals>.<lambda> at 0x7f77bb511c10>, {'4566295': 'Costco Wholesale: A Union For Consumers', '4565863': 'Costco: Very Attractive Quality Consumer Staple Dividend Payer', '4563832': 'Shoplifting: Issue For Target, But Not For Costco', '4563493': \"Costco: China's Revenge Spending Is Coming - Watch For Another Load Up Point\", '4563344': 'Costco Earnings: This Is The Bull Case', '4563075': \"Costco: Here's The Price I'd Start Buying\", '4562929': 'Costco: Finding A Fair Price', '4562655': 'Costco: Previewing A Messy Q1 Earnings Report To Set The Tone For 2023', '4562083': \"Stocks To Watch: Oil Plays, Lowe's, Southwest Airlines And Lululemon In Focus\", '4560121': 'Costco: Buy Into Growth, Improving Returns, And Quality', '4555804': 'Costco: Similarities To Coca-Cola In 1998', '4554699': 'While Wells Fargo Downgrades Costco, I Prepare To Pull The Trigger', '4554411': 'Costco: Trending Lower - Be Cautious', '4550419': 'Stocks To Watch: Investors Strap In For FOMC, Jobs Day, Amazon Blowback And Election Trades', '4549749': 'Costco: Waiting For A Discount That Is Never Coming', '4545438': 'Costco: Pain Ahead', '4544370': \"Costco's Earnings Call Second Valuable Business Lesson: The Membership Program\", '4544261': \"Costco's Earnings Call First Valuable Business Lesson: A Top-Line Company\", '4544107': 'Stocks To Watch: Investors Look For Edges Amid Inflation, Rates, Earnings Challenges', '4542723': 'Costco Earnings: Margin Issues Spell Trouble For The Stock', '4542624': 'Costco Q4 Earnings: Great Performance, But Not A Great Prospect', '4541856': 'Is Costco Stock A Buy Before Earnings? Watch Consensus Numbers And Cost Pass-Through', '4541842': \"Dutch Bros - Austin Hankwitz Pitches Why He's In It\", '4541127': 'The Influence Of Costco On Amazon Prime', '4539937': 'Costco: More Expensive Than Ever - Maybe Its Premium Is Justified', '4537779': 'Costco Can Justify The Premium Valuation', '4536063': \"Is Costco's Substantial Premium Valuation Over Walmart's Justified?\", '4535800': \"Costco: Love The Business, Can't Rationalize The Valuation\", '4535748': '2 Reasons To Buy Costco Stock, 1 Reason To Sell', '4535723': 'Costco: Bubble Warning Reiterated', '4535686': 'Costco: Maybe Pick A Competitor Instead', '4528243': 'Walmart Vs. Costco Stock: Which Is The Better Buy?', '4524167': 'Is Costco Stock A Buy After Strong First Half Sales?', '4523493': \"Costco Vs. BJ's Wholesale Stock: Which Is The Better Buy?\", '4522907': \"Can Costco Stock's Price Recover To $600?\", '4521758': 'Target Vs. Costco Stock: Which Is The Better Buy?', '4520763': \"Costco: Don't Miss The Opportunity To Sell Into The Rally\", '4519763': 'Costco: The Further It Falls, The More I Like It', '4519735': 'Costco: Great Business, But Fairly Valued', '4517633': 'Costco And Walmart: The Big-Box Bubble', '4517257': 'Costco: A Counter-Cyclical SaaS-Like Business Model', '4514963': 'Costco: Solid Q3 Earnings In Difficult Trading Environment', '4514358': \"What To Consider About Costco's Earnings Report\", '4514013': 'Costco: Buy After The Blood Bath Is Over', '4513706': \"Costco: Don't Fall With It Any Longer\", '4513670': \"Costco: Don't Catch A Falling Knife\", '4513593': 'Costco: Unjustified Sell-Off Is Leading To A Fantastic Buying Opportunity', '4513461': 'Costco Crashes After Target Earnings: Earnings Preview', '4511420': 'Home Depot Vs. Costco: Which Is The Better Buy?', '4508784': 'Costco: More Headwinds Ahead, Target Price $437, 24% Downside', '4508666': 'In The Current Market Atmosphere, Costco Cannot Justify Its Valuation', '4508587': 'Costco: The Stores Are Always Full, And The Stock Will Soon Reflect It', '4500956': 'Costco Stock Rallies Momentum As Investor Sentiment Starts Peaking', '4500076': 'Costco Stock: Is Another Stock Split Likely? Why The Valuation Makes Sense', '4499981': \"Valuation Matters: Sell Costco, Buy BJ's Wholesale\", '4499404': 'Costco: Not A Buy Yet But Follow It Closely', '4499348': 'Costco: A Buy As Analysts Continue To Be Wrong', '4492975': 'Costco: Still Too Expensive', '4492145': 'Costco: Best Of Breed, But Too Expensive', '4490893': 'Stocks To Watch: Spotlight On Ukraine, FOMC Speakers, Target, Lucid And DraftKings', '4486483': 'Costco Wins The Title: Most Overvalued Mega-Cap In America', '4482567': 'Costco Wholesale: Price Check On This Market-Beating Juggernaut', '4480457': 'Costco: Retail Juggernaut, Not A Buy', '4480134': 'Costco: Excellent Performance, Stock Is Still Overvalued', '4480062': \"Costco's Loyal Customers And Great Management May Warrant Elevated Valuations\", '4477970': 'Costco: Steep Valuation With A Bright Future'}), 2022: defaultdict(<function fetch_analysis_for_ticekr.<locals>.<lambda> at 0x7f77bbc85ee0>, {'4475792': 'Costco: Multiple Expansion Must End Eventually', '4473383': 'Costco Outperforms The Market In A Weaker Economy', '4470452': 'Costco: A Tech-Like Valuation Amidst Supply Chain Disruptions Is Risky', '4469310': 'Costco Stock: Trading At Its Peak Valuations. Is It A Buy?', '4459930': 'Costco: Not A Buy At Current Price', '4459785': 'The Shine And The Shadow For Costco Investors', '4456849': 'Costco Is A Great Stock With A Rich Valuation', '4454209': 'Costco Has Now Gone One Step Too Far', '4454111': 'Costco Stock: Priced For Near Perfection', '4449897': 'Costco: I Love The Company, Not The Valuation', '4446853': 'Costco: How High Is Too High?', '4441726': 'Costco Can Weather Any Storm', '4437878': 'Costco: Consider Taking Profits As Demand Mean Reverts', '4437667': \"Stocks To Watch: Eyes On Virgin Galactic, McDonald's Loyalty And Metaverse Investing\", '4436095': 'Assessing The Intrinsic Value Of Costco', '4432651': 'Costco: Stretched Valuation Might Cause Problems', '4431869': 'Costco Earnings Review: Culture Of Cost Fanaticism At Work', '4430593': 'Stocks To Watch: Nvidia, Ford, AT&T And Crypto Names In The Spotlight', '4427904': 'Costco: Hold On Comparable Valuations, Margins', '4421494': 'Costco: The Stock Is Sending A Warning Message - Part 2', '4418569': \"Costco Isn't A Good Buy Despite The Upcoming Dividend Raise\", '4418485': 'Costco: You Already Missed Your Chance', '4413455': 'Costco: Strong Momentum And Oversold Rally Create Buying Opportunity', '4412940': \"Costco: Aside From The Price, What's Not To Like?\", '4412706': \"It's Hard Not To Like Costco\", '4412349': 'The Hidden Margin Expansion Opportunity At Costco: 40% Upside', '4409853': 'Stocks To Watch: AMD, Green Utility Names And Coinbase', '4403925': 'Costco Is A Leading Retail Stock With Long-Term Growth', '4403389': 'Costco: E-Commerce Is Not A Threat', '4399405': 'Retail Series: Costco Still Has Long Growth Runway'}), 2021: defaultdict(<function fetch_analysis_for_ticekr.<locals>.<lambda> at 0x7f77bb92b790>, {'4396224': \"Costco Stock: Buy If There's A Pullback\", '4394844': 'Costco: A Great Defensive Play, The Issue Is Timing', '4394166': 'Costco Earnings Review: Record Sales, Affordable Stock', '4390246': 'Costco: Join Buffett In Taking Profits', '4378682': 'Costco: A Safe And High Potential Bet', '4378260': 'Costco Sales Report: Not Letting Off The Gas Pedal', '4376706': 'Costco: Look Past The Noise', '4376272': 'Costco Earnings Review: Strong From Top To Bottom', '4375351': 'Costco Earnings Preview: Killer Quarter Ahead', '4368651': '40x Earnings For Costco? Stay Away', '4359165': 'Costco Wholesale: A Solid Balance Sheet To Survive E-Commerce Headwinds', '4357791': \"Costco Can't Stop Winning\", '4356209': 'Costco Wholesale Corporation: The Valuation Conundrum', '4354336': 'Costco Will Not Be Acquired By Berkshire Hathaway Anytime Soon', '4352207': 'Costco: E-Commerce Is A Bright Spot In A Peculiar Time', '4351660': 'Costco - Costly, But Worth It', '4351460': \"Costco's Fiscal Third Quarter: Not Too Shabby\", '4351384': 'Costco: Share Price Needs To Consolidate', '4350556': 'Costco: Tough Earnings Day Ahead, But Still A Buy', '4349981': 'Costco Could Flirt With $300 For A While', '4349696': 'Costco Expected To See Earnings Growth Of 7.9%', '4338010': 'Costco: Cheap Goods, Expensive Stock', '4337562': 'Costco: Get Ready For Another Double-Digit Dividend Hike', '4332976': 'Costco Wholesale: Better Entry Point For The Recession-Proof Stock', '4330921': \"3 Takeaways To Carry Forward From Costco's Fiscal 2020 Q2 Earnings\", '4319008': 'Costco: Strong U.S. Base Allowing For Expansion Further East', '4316372': 'The Holidays Were Certainly Happy For Costco'}), 2020: defaultdict(<function fetch_analysis_for_ticekr.<locals>.<lambda> at 0x7f77bb8bfca0>, {'4313155': 'The Trendline To Watch On Costco', '4312999': 'Costco: Still Plenty Of Compounding Potential', '4299532': 'Making Sense Of The Costco Valuation Craze - A Superb But Overpriced Company', '4299439': 'Costco Wholesale: Overvalued, But Not Enough For A Sell Yet', '4296380': \"Costco's Special Dividend Could Be $12 Per Share\", '4295807': '3 Bearish Arguments From A Costco Bull', '4294961': \"Costco's Earnings First Read: Staying The Course\", '4294174': 'Costco Trending Higher Ahead Of Earnings, But Can It Continue?', '4294151': '2 Technical Spots To Buy Costco Shares', '4293368': 'Costco Is Positioned For Solid Returns', '4292577': 'Costco: A Strong Buy Ahead Of, During, And After Earnings', '4288938': 'Costco: Be Cautious About The Exuberant Scene In Shanghai', '4284950': 'Why And When To Buy Costco', '4275214': \"Costco's Charts Remain Ultra Bullish\", '4274486': \"Costco's Share Price Is Reasonable, But Not Attractive\", '4271414': 'Even At 32 Times Earnings, Costco Is A Strong Buy', '4270147': 'Costco Is Great, But The Stock Is Overvalued', '4269212': '11 Reasons Why Costco Is A Terrific Company', '4268538': \"Costco Is A Retailer I Want For My Dividend Growth Portfolio, But It's Too Expensive Right Now\", '4267551': 'Costco: Down The Middle, Thesis Intact', '4267134': 'Costco Earnings Preview: Execution Superb, Valuation Leaves Little Room For Error', '4267037': \"Costco's Earnings Preview: All Eyes On Margins\", '4266898': 'Costco: Assessing What Happens With The Stock After Earnings', '4263282': 'Costco Is Not Too Expensive', '4260804': 'Costco: No Special Dividend But Another Double-Digit Dividend Hike', '4254732': 'Costco: Paying Too Much For A Good Thing', '4254351': 'Costco Is A Sell Despite Coming Dividend Hike', '4253955': 'Costco: Amazon-Proof And Recession-Proof With Decades Of Dividend Growth To Come', '4252912': 'Costco Wholesale: Looking Beyond The Special Dividend', '4250258': 'Will Costco Distribute A Special Dividend This Year?', '4249980': 'Solid Costco Earnings Could Be Threatened By Global Growth', '4248375': 'Should You Buy Now? Costco Earnings Report Surprise (Part 5)', '4247676': 'Costco: Bullishness Reinforced On The Back Of Strong Margins', '4246084': 'Costco Stock Financials Analysis - Costco Vs. Amazon (Part 4)', '4243734': \"Costco's Secret Weapon - Costco Vs. Amazon (Part 3)\", '4243728': '6 Reasons Why Costco Is So Successful - Costco Vs. Amazon (Part 2)', '4241813': \"Costco's Business Model Explained - Costco Vs. Amazon (Part 1)\", '4240178': \"Costco: It's A Good Investment But It's A Little Pricey\", '4238952': 'Costco: A Retail Gem', '4234302': 'Too Early To Dump Costco On One-Off Events', '4231853': 'Costco: Buy Its Resiliency And Its Dividends'}), 2019: defaultdict(<function fetch_analysis_for_ticekr.<locals>.<lambda> at 0x7f77bb92b670>, {'4229983': \"Costco's Correction - Warning Signal Or Buying Opportunity?\", '4228244': 'Costco Performed As Predicted, Still See It As A Buy', '4227793': 'Costco: Tough Quarter Ahead, But Company Has Proven Competent', '4227300': 'Costco Earnings Preview: A Retail Juggernaut And Time For Another Special Dividend ?', '4222125': \"Unchanged Strategy To Boost Costco's Share Price\", '4215358': 'Costco: The Benchmark Retailer, But Is It Wise To Buy?', '4211701': 'It Never Was About The Fees: Costco Is A Strong Buy With 40% Upside', '4211865': 'Costco Is Not A Buy Yet', '4210473': \"Costco: Don't Be Afraid To Pay A Premium For This Gem\", '4210167': 'Costco: A Pullback Is An Opportunity', '4210103': 'Costco: Renewal Rates Up Again In Q4', '4210035': 'Costco: Impressive Sales, Little Room For Bearishness', '4209763': 'Must-See Charts For Costco Pre-Earnings', '4209613': 'Costco Earnings Preview: No Reason To Buy Ahead Of Earnings', '4209573': 'Costco: Buy Or Sell Before Earnings?', '4209258': 'Costco Continues To Expand', '4209257': 'A Safe, Simple Means To Earn 3% To 6% On Your Cash Reserves And Costco: A Due Diligence Dive', '4208254': 'Earnings Preview: Costco Faces Tough Comps, Soft Margins', '4207344': 'Costco: Is It Still A Good Investment?', '4207074': 'Costco: The Sell-Off Could Be Short And Sweet', '4199091': 'Costco: Great Company, Pricey Stock', '4196144': \"Costco Could Be 'All Weather,' But I Need A Better Entry Point\", '4189864': 'The No. 1 Reason To Buy Costco Stock', '4189592': 'Costco Investors Waiting On A Special Dividend... Keep Waiting', '4189425': \"Investors Don't Get Costco\", '4188175': 'Costco Or Walmart For Dividends?', '4181946': 'Costco: Cheaper Than You Think', '4181815': 'Costco: Small Margins But Large Growth', '4178899': \"I Can't Get Behind Costco\", '4178409': \"Costco Investors Can't Ignore The Valuation\", '4163744': 'Costco Wholesale: Adapting To The Changing Landscape', '4163481': 'Costco - The Magical Warehouse', '4156086': 'Will Costco Distribute A Special Dividend This Year?', '4155317': 'Costco: Dividend Growth History Makes The Stock Appealing', '4155082': \"In Case Cramer's Right About Costco\", '4154871': 'Valuation Supports Further Upside In Costco Stock', '4154618': 'Costco: Wait For The Dip', '4154447': 'Costco: Bulls Shall Remain Bulls', '4154409': 'How Far Could Costco Fall?', '4153665': 'Costco: The King Of Retail', '4147826': 'Costco: Take The Money And Run'}), 2018: defaultdict(<function fetch_analysis_for_ticekr.<locals>.<lambda> at 0x7f77bb8bf8b0>, {'4133959': \"Here's Why Costco Is Going Lower In 2018\", '4133635': \"Costco's Evolving Plan For Long-Term Growth\", '4133024': 'Sign Up Now For Costco And Receive A Membership At Fair Value', '4133006': \"Costco: Where's The Cash?\", '4132600': 'Costco - Why The Market Might Be Right', '4132331': 'Costco: Well Below My Expectations', '4132292': 'Costco Is Anything But Dead', '4132118': \"Costco's Problem With Math\", '4131570': \"Will Costco's Great Earnings Be A 'Sell The News' Event?\", '4131443': 'Costco: Now It Will Be Stronger Than Ever', '4131136': \"Amazon's Holiday Shipping Blunder Could Benefit Costco And Other Brick-And-Mortar Retailers\", '4130855': 'Setting Up For Costco Earnings', '4130830': 'There Is Something Off With Costco', '4129225': 'Costco: The Street Can Be So Gullible', '4128949': 'Costco Posts Astronomical November Comps, Belongs Over $200', '4128207': \"Should You Buy Costco At Today's Price?\", '4127971': 'Will Amazon Disrupt The Business Model Of Costco?', '4127417': 'Costco: Easy Beat Coming Up, But Will Stock Pop?', '4127186': 'Costco: Buying The Dip', '4122281': 'Costco Remains An Above-Average Operation', '4121316': 'Costco Posts Great October Numbers', '4115284': 'Costco Has A Looming Cardboard Problem', '4114810': 'Costco Is A Quiet Sell With Alarming Flaws', '4113035': 'Costco: Bricks And Clicks And Other Nuggets From Q4 Earnings', '4112876': \"Can't Buy Mercedes At A Chevy Price\", '4112771': 'Costco: A Buy After Evaluating Concerns', '4112712': \"Costco's E-Commerce Plans Won't Work\", '4112444': 'Buy Costco On The Earnings Dip', '4112323': 'Costco - Another Solid Year, But Amazon Is Coming', '4112286': 'Costco: Buying This Dip', '4112191': \"Costco's Amazing Q4 Isn't Good Enough\", '4111991': 'Costco First Look: Impressive September Drives Upside', '4111842': \"Costco: In Case You're Wrong\", '4111587': \"Amazon No Match For The 'Costco Experience'\", '4111280': \"Why I'm Long Costco Into Earnings\", '4110461': 'Costco Earnings Preview', '4109771': 'Costco Is Getting Into The Chicken Business?', '4109719': 'Costco: Tax Rates Should Fall To Justify Bull Case', '4109084': \"Costco's Hidden Upside: Wal-Mart Vs. Amazon\", '4108294': 'March To Freedom Portfolio: Looking To Build Up Our Smaller Positions', '4108108': \"Costco's Earnings: Here's What I See Coming\", '4108097': 'Costco: A Buy At Current Valuation?', '4107356': 'Costco: Climb Aboard And Never Leave', '4105410': 'Target-Induced Costco Selloff Is Absurd', '4103898': \"Will Costco's Growth Continue Amid Threat From Amazon?\", '4103704': 'Costco After The Recent Correction - Overvalued Or Undervalued?', '4102773': 'Costco Shareholders Can Sleep Well At Night', '4102088': 'Why Amazon Prime Will Only Make Costco Stronger', '4102063': \"Costco's Rigid Business Model May Impede Competitiveness Within Grocery Retail Sector\", '4101880': \"Costco A Screaming Buy After Thursday's Ridiculous Selloff\", '4100688': \"Costco: Amazon's Blessing In Disguise\", '4098564': 'Costco: In Need Of An Activist Investor?', '4097847': \"Has Costco's Growth Story Run Its Course?\", '4096212': 'Costco: Catalysts In Demographics And Brand Image', '4094987': 'Costco: Rebound Will Continue', '4094272': 'Costco Is Amazon, Amazon Is Costco', '4094240': 'Costco: Revenue Growth Concerns', '4092561': \"Amazon's Stock Looks Headed For A Waterfall\", '4091195': 'Costco Wholesale Corp.: Strong Financials, Fairly Valued Stock', '4089830': 'Costco: Short Squeeze On The Way?', '4089234': 'Stock Exchange: Sizzling Summer Picks In Discretionary Spending', '4088916': \"Amazon's Making It Tough To Be A Costco Shareholder\", '4088445': 'Costco: The Bottom Could Be Lower', '4088204': 'Is Costco Worth Investing In?', '4087923': '2 Grocers That Will Survive The Amazon/Whole Foods Merger', '4087878': 'Costco: Why This Brick-And-Mortar Retailer Will Not Crumble', '4087565': '2 Reasons The Case For Costco Got Stronger Today', '4086891': 'Costco: Think Contrarian And Pay Up For This Expensive Retailer', '4086276': 'Costco Is Indisruptable - 8% Upside Near-Term', '4086137': 'Irrational Fears Create An Opportunity In Costco', '4086133': 'Costco: Bears Beware', '4086024': 'Is Costco Itself The Next Great Bargain It Offers Its Customers?', '4085125': 'Current Retail Landscape Makes Costco Even More Attractive', '4084501': 'Costco: Problems Brewing', '4083586': 'Buy The Dip: Costco', '4083201': 'Costco: Store Of Value', '4082163': 'Amazon Buying Whole Foods Creates A Good Opportunity For Investors', '4081612': 'Costco In The Garden Portfolio', '4078913': 'Costco: Why Shares Will Disappoint', '4078784': 'Costco Makes New Friends', '4078070': 'Why Costco Should Be On Investor Watchlists', '4077887': 'Warren Buffett Stocks In Focus: Costco', '4077466': 'Costco: Too Expensive And Not Changing Quickly Enough', '4077294': 'A Retailer That Keeps Growing', '4077300': 'Here Is Why Costco Should Make Its Way Into Your Portfolio', '4077289': 'Is Costco Too Costly?', '4077145': \"Costco: It Doesn't Add Up\", '4076793': 'Costco: Heading To $200', '4076772': 'Costco: Strong Growth And Amazon Proof', '4076708': 'Costco Delivers, Fundamentals Remain The Same', '4075465': 'Costco: Light On Catalysts, Pricey Stock', '4072161': '3 Reasons Why You Should Buy Costco Now', '4070579': 'Costco: Buying Dividend Growth In Bulk', '4067347': 'Costco: Time To Cash Out?', '4065887': 'Is Costco Overvalued?', '4060889': 'Word On Wall Street: Costco Comps Expected To Accelerate In 2H17, But Will Competition Catch Up?', '4060403': 'Costco: Get Ready For A Meaningful Dividend Hike', '4059754': 'The Costco And Kroger Valuation Gap', '4058790': 'Costco And Target - Loving One, Hating One, Buying Neither', '4058332': 'Costco Wholesale: Low Product Prices, High Share Price', '4058322': \"Run, Don't Walk, To Buy Charlie Munger's Favorite Stock\", '4058059': 'Is Costco Really Worth Twice As Much As Target?', '4057766': \"Are Costco's Balls Better Than Titleist's? A Rangeley Capital Discussion\", '4056880': \"Costco: Jump On This 'Out Of Favor' Play\", '4053671': \"Is Costco's Business Model Outdated?\", '4053643': 'We Are Buyers Of Costco - Cowen', '4052194': 'Costco Shares Fall, But Was It All Bad News For This Cash-Strapped Consumer Play?', '4052025': \"Costco: I Like The Business But Don't Like The Political Risk\", '4039370': 'Costco: Sideways Slide To Continue', '4036571': 'Costco Wholesale: A World-Class Retailer And Superb Dividend Growth Stock', '4034942': 'Costco: Digging Deeper Into December Sales'}), 2017: defaultdict(<function fetch_analysis_for_ticekr.<locals>.<lambda> at 0x7f77bb92b040>, {'4033188': 'Costco: Wait For A Pullback', '4032461': 'Costco: Potential Catalysts', '4030662': 'Costco Wholesale Corporation - Sustainable High-Margin Membership Stream', '4030051': 'Costco Is Absurdly Priced', '4027024': 'Buy Costco Sell Wal-Mart And Target', '4023495': 'Costco: Great Company, Bad Price', '4015558': 'Costco, Wal-Mart Or Target... Which Is The Best Retail Investment Right Now?', '4012414': 'Costco Wholesale - Looking To Get Back On Track After A Subpar Year', '4011934': 'Costco: What You Need To Know', '4009628': 'Costco Is Not Amazon Proof!', '4009597': \"Reading Into Costco's Fourth Quarter\", '4009564': 'Costco: What You Should Focus On', '4008269': \"Costco's Revision: The Stock Is Valued Fairly Now\", '4008235': 'Costco: A Great Company, But Not A Great Price', '4006440': 'Costco: A Bargain After Recent Plunge?', '4004772': 'Market Challenge: Grocery Woes', '4004891': 'Why You Will Want To Take Your Profits In Costco', '4000170': 'Costco Looks Overpriced', '3999104': 'Costco: High Quality, High Price', '3997233': \"Costco Domination Of Sam's Club\", '3994350': 'No Deals At Costco Wholesale Corporation', '3988437': 'Costco Continues To Earn Economic Profits', '3987137': 'Costco: Flight To Safety', '3987005': 'Costco: Valuation Looks Overextended Here', '3984232': \"Costco Members Hate Citibank's New Visa\", '3982461': \"It's Almost Time To Pay Up For Shares Of Costco Wholesale\", '3981417': 'Waiting For Costco', '3980020': 'Is Costco Finally Running Out Of Steam?', '3979419': \"Can Costco's Recent Earnings Catapult The Stock To New Highs?\", '3978402': 'Costco: Retail Traffic Generating Machine With Attrative Risk-Adjusted Return', '3977752': '2 Reasons To Buy Costco In Bulk', '3977172': 'Costco Earnings Preview', '3976698': 'Costco Is A Hold Stock For Now', '3975380': 'Learning From The Start Portfolio - Costco Added', '3966040': 'Costco: The Next-Gen Dividend Aristocrat?', '3965682': 'Costco: A Great Company At A Fair Price', '3964305': 'Does Costco Make A Good Short?', '3964263': 'Costco: A Premier Retail Dividend Play', '3963957': \"Costco's Comps Moat Is Just The Beginning\", '3963559': \"Looking At Costco's Valuation 'Carry Through' Effect\", '3961474': 'Why We Sold Out Of Costco', '3961168': 'Costco: Why This Company Is Poised For Sustained Stable Growth', '3959180': 'Is Costco Wholesale Really Worth The Share Price?', '3956458': 'Costco Enters New Growth Phase As International Markets Expand Faster', '3914046': 'Shorting Costco', '3837636': 'Is Costco Being Overcautious About Going Online?'})})\n",
      "53\n",
      "66\n",
      "415\n"
     ]
    }
   ],
   "source": [
    "result, ids = fetch_analysis_for_ticekr('cost')\n",
    "print(result)\n",
    "print(len(result[2024]))\n",
    "print(len(result[2023]))\n",
    "print(ids)"
   ]
  },
  {
   "cell_type": "code",
   "execution_count": null,
   "metadata": {},
   "outputs": [],
   "source": []
  }
 ],
 "metadata": {
  "kernelspec": {
   "display_name": "hons-project",
   "language": "python",
   "name": "python3"
  },
  "language_info": {
   "codemirror_mode": {
    "name": "ipython",
    "version": 3
   },
   "file_extension": ".py",
   "mimetype": "text/x-python",
   "name": "python",
   "nbconvert_exporter": "python",
   "pygments_lexer": "ipython3",
   "version": "3.8.18"
  }
 },
 "nbformat": 4,
 "nbformat_minor": 2
}
