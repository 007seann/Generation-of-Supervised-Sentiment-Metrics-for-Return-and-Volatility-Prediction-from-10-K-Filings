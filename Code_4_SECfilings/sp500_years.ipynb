{
 "cells": [
  {
   "cell_type": "code",
   "execution_count": 1,
   "metadata": {},
   "outputs": [],
   "source": [
    "import pandas as pd\n",
    "from datetime import datetime\n",
    "\n",
    "# Load the data\n",
    "# Assuming sp500_constituents.csv has columns: 'Firm', 'EntryDate', 'ExitDate'\n",
    "df = pd.read_csv('./sp500_constituents.csv')\n",
    "\n",
    "# Convert date columns to datetime format\n",
    "df['start'] = pd.to_datetime(df['start'], errors='coerce')\n",
    "df['ending'] = pd.to_datetime(df['ending'], errors='coerce')\n",
    "df['nameendt'] = pd.to_datetime(df['nameendt'], errors='coerce')  # Ensure nameendt is datetime\n",
    "# Define the range of years we are interested in\n",
    "years = range(2006, 2025)\n",
    "\n",
    "# Dictionary to hold the yearly snapshots\n",
    "sp500_by_year = {}\n",
    "permno_to_ticker = {}\n",
    "for year in years:\n",
    "    # Define the start and end of each year\n",
    "    start_of_year = datetime(year, 1, 1) # 2006-01-01\n",
    "    end_of_year = datetime(year, 12, 31) # 2006-12-31\n",
    "    \n",
    "    # Filter firms active during the year, ensuring they only appear once per year by permno\n",
    "    active_firms = df[\n",
    "        (df['start'] <= end_of_year) & \n",
    "        ((df['ending'].isna()) | (df['ending'] >= start_of_year))\n",
    "    ]\n",
    "    # Get the last entry(nameendt) for each permno, and remove permno duplicate except the last entry of active_firms\n",
    "    active_firms = active_firms.sort_values(by=['permno', 'nameendt']).groupby('permno').last().reset_index()\n",
    "    # Convert the resulting DataFrame of firms to a list of unique permnos\n",
    "    permno_to_ticker = dict(zip(active_firms['permno'], active_firms['ticker']))\n",
    "\n",
    "    # Store the list of active firms for the year\n",
    "    sp500_by_year[year] = permno_to_ticker\n",
    "    \n",
    "\n",
    "# print(sp500_by_year)\n",
    "# # Display the results for each year\n",
    "# for year, firms in sp500_by_year.items():\n",
    "#     print(f\"Year {year}: {len(firms)} firms\")\n",
    "#     # Uncomment below to see the list of firms per year\n",
    "#     print(firms.values())\n"
   ]
  },
  {
   "cell_type": "code",
   "execution_count": 2,
   "metadata": {},
   "outputs": [],
   "source": [
    "reversed_dict = {}\n",
    "for year, firms in sp500_by_year.items():\n",
    "    reversed_dict[year] = {ticker : permno for permno, ticker in sp500_by_year[year].items()}\n",
    "    \n",
    "\n"
   ]
  },
  {
   "cell_type": "code",
   "execution_count": 3,
   "metadata": {},
   "outputs": [],
   "source": [
    "data = []\n",
    "for year, firms in sp500_by_year.items():\n",
    "    for permno, ticker in firms.items():\n",
    "        data.append({'year': year, 'permno': permno, 'ticker': ticker})\n",
    "        \n",
    "# sp500_by_year = pd.DataFrame(data)\n",
    "# sp500_by_year.to_parquet('sp500_by_year2.parquet', index=False)\n"
   ]
  },
  {
   "cell_type": "code",
   "execution_count": 4,
   "metadata": {},
   "outputs": [
    {
     "data": {
      "text/html": [
       "<div>\n",
       "<style scoped>\n",
       "    .dataframe tbody tr th:only-of-type {\n",
       "        vertical-align: middle;\n",
       "    }\n",
       "\n",
       "    .dataframe tbody tr th {\n",
       "        vertical-align: top;\n",
       "    }\n",
       "\n",
       "    .dataframe thead th {\n",
       "        text-align: right;\n",
       "    }\n",
       "</style>\n",
       "<table border=\"1\" class=\"dataframe\">\n",
       "  <thead>\n",
       "    <tr style=\"text-align: right;\">\n",
       "      <th></th>\n",
       "      <th>year</th>\n",
       "      <th>permno</th>\n",
       "      <th>ticker</th>\n",
       "    </tr>\n",
       "  </thead>\n",
       "  <tbody>\n",
       "    <tr>\n",
       "      <th>9038</th>\n",
       "      <td>2023</td>\n",
       "      <td>18576</td>\n",
       "      <td>UBER</td>\n",
       "    </tr>\n",
       "  </tbody>\n",
       "</table>\n",
       "</div>"
      ],
      "text/plain": [
       "      year  permno ticker\n",
       "9038  2023   18576   UBER"
      ]
     },
     "execution_count": 4,
     "metadata": {},
     "output_type": "execute_result"
    }
   ],
   "source": [
    "sp500_by_year[sp500_by_year['ticker'] == \"UBER\"]"
   ]
  },
  {
   "cell_type": "code",
   "execution_count": 2,
   "metadata": {},
   "outputs": [
    {
     "name": "stdout",
     "output_type": "stream",
     "text": [
      "CIK for ELV: 0001156039\n"
     ]
    }
   ],
   "source": [
    "import requests\n",
    "\n",
    "def get_cik(ticker):\n",
    "    \"\"\"\n",
    "    Retrieves the CIK number for a given ticker symbol from the SEC's EDGAR system.\n",
    "    \n",
    "    Parameters:\n",
    "        ticker (str): The stock ticker symbol.\n",
    "    \n",
    "    Returns:\n",
    "        str: The CIK number for the given ticker symbol, or a message if not found.\n",
    "    \"\"\"\n",
    "    url = 'https://www.sec.gov/files/company_tickers.json'\n",
    "    headers = {\n",
    "        'User-Agent': 'University of Edinburgh s2101369@ed.ac.uk',\n",
    "        'Accept-Encoding': 'gzip, deflate'\n",
    "    }\n",
    "    \n",
    "    try:\n",
    "        response = requests.get(url, headers=headers)\n",
    "        response.raise_for_status()\n",
    "        data = response.json()\n",
    "        \n",
    "        for item in data.values():\n",
    "            if item['ticker'].lower() == ticker.lower():\n",
    "                cik = item['cik_str']\n",
    "                return str(cik).zfill(10)  # Pad CIK to 10 digits\n",
    "        \n",
    "        return \"CIK not found for the given ticker.\"\n",
    "    \n",
    "    except requests.exceptions.RequestException as e:\n",
    "        return f\"Error accessing SEC data: {e}\"\n",
    "\n",
    "# Example usage\n",
    "ticker = 'ELV'  # Replace with the desired ticker\n",
    "cik_number = get_cik(ticker)\n",
    "print(f\"CIK for {ticker}: {cik_number}\")\n"
   ]
  },
  {
   "cell_type": "code",
   "execution_count": 3,
   "metadata": {},
   "outputs": [
    {
     "name": "stdout",
     "output_type": "stream",
     "text": [
      "Year 2006: 531 firms\n",
      "\n",
      "Year 2007: 537 firms\n",
      "\n",
      "Year 2008: 534 firms\n",
      "\n",
      "Year 2009: 526 firms\n",
      "\n",
      "Year 2010: 516 firms\n",
      "\n",
      "Year 2011: 520 firms\n",
      "\n",
      "Year 2012: 517 firms\n",
      "\n",
      "Year 2013: 518 firms\n",
      "\n",
      "Year 2014: 516 firms\n",
      "\n",
      "Year 2015: 530 firms\n",
      "\n",
      "Year 2016: 534 firms\n",
      "\n",
      "Year 2017: 533 firms\n",
      "\n",
      "Year 2018: 529 firms\n",
      "\n",
      "Year 2019: 526 firms\n",
      "\n",
      "Year 2020: 522 firms\n",
      "\n",
      "Year 2021: 524 firms\n",
      "\n",
      "Year 2022: 521 firms\n",
      "\n",
      "Year 2023: 518 firms\n",
      "\n",
      "Year 2024: 0 firms\n",
      "\n"
     ]
    }
   ],
   "source": [
    "\n",
    "total_sp500_cik_to_ticker = {}\n",
    "for year, firms in sp500_by_year.items():\n",
    "    print(f\"Year {year}: {len(firms)} firms\")\n",
    "    for ticker in firms.values():\n",
    "        cik_number = get_cik(ticker)\n",
    "        total_sp500_cik_to_ticker[cik_number] = ticker\n",
    "        sp500_by_year[year] = {cik_number : ticker}\n",
    "    print()"
   ]
  },
  {
   "cell_type": "code",
   "execution_count": 4,
   "metadata": {},
   "outputs": [],
   "source": [
    "total_sp500_cik_to_ticker\n",
    "\n",
    "df = pd.DataFrame(list(total_sp500_cik_to_ticker.items()), columns=['CIK', 'Symbol' ])\n",
    "df['CIK'] = pd.to_numeric(df['CIK'], errors='coerce')\n",
    "df = df.dropna(subset=['CIK'])\n",
    "# convert the 'key' column back to integers if needed\n",
    "df['CIK'] = df['CIK'].astype(int)\n",
    "df.to_csv('sp500_total_constituents2.csv', index=False)\n"
   ]
  },
  {
   "cell_type": "code",
   "execution_count": 1,
   "metadata": {},
   "outputs": [
    {
     "ename": "NameError",
     "evalue": "name 'sp500_by_year' is not defined",
     "output_type": "error",
     "traceback": [
      "\u001b[0;31m---------------------------------------------------------------------------\u001b[0m",
      "\u001b[0;31mNameError\u001b[0m                                 Traceback (most recent call last)",
      "Cell \u001b[0;32mIn[1], line 2\u001b[0m\n\u001b[1;32m      1\u001b[0m data \u001b[38;5;241m=\u001b[39m []\n\u001b[0;32m----> 2\u001b[0m \u001b[38;5;28;01mfor\u001b[39;00m year, firms \u001b[38;5;129;01min\u001b[39;00m \u001b[43msp500_by_year\u001b[49m\u001b[38;5;241m.\u001b[39mitems():\n\u001b[1;32m      3\u001b[0m     \u001b[38;5;28;01mfor\u001b[39;00m cik_number, ticker \u001b[38;5;129;01min\u001b[39;00m firms\u001b[38;5;241m.\u001b[39mitems():\n\u001b[1;32m      4\u001b[0m         data\u001b[38;5;241m.\u001b[39mappend({\u001b[38;5;124m'\u001b[39m\u001b[38;5;124myear\u001b[39m\u001b[38;5;124m'\u001b[39m: year, \u001b[38;5;124m'\u001b[39m\u001b[38;5;124mcik_number\u001b[39m\u001b[38;5;124m'\u001b[39m: cik_number, \u001b[38;5;124m'\u001b[39m\u001b[38;5;124mticker\u001b[39m\u001b[38;5;124m'\u001b[39m: ticker})\n",
      "\u001b[0;31mNameError\u001b[0m: name 'sp500_by_year' is not defined"
     ]
    }
   ],
   "source": [
    "data = []\n",
    "for year, firms in sp500_by_year.items():\n",
    "    for cik_number, ticker in firms.items():\n",
    "        data.append({'year': year, 'cik_number': cik_number, 'ticker': ticker})\n",
    "        \n",
    "sp500_by_year = pd.DataFrame(data)\n",
    "sp500_by_year.to_parquet('sp500_by_year2.parquet', index=False)\n"
   ]
  },
  {
   "cell_type": "code",
   "execution_count": 5,
   "metadata": {},
   "outputs": [
    {
     "name": "stdout",
     "output_type": "stream",
     "text": [
      "Year 2006: 1 firms\n",
      "\n",
      "Year 2007: 1 firms\n",
      "\n",
      "Year 2008: 1 firms\n",
      "\n",
      "Year 2009: 1 firms\n",
      "\n",
      "Year 2010: 1 firms\n",
      "\n",
      "Year 2011: 1 firms\n",
      "\n",
      "Year 2012: 1 firms\n",
      "\n",
      "Year 2013: 1 firms\n",
      "\n",
      "Year 2014: 1 firms\n",
      "\n",
      "Year 2015: 1 firms\n",
      "\n",
      "Year 2016: 1 firms\n",
      "\n",
      "Year 2017: 1 firms\n",
      "\n",
      "Year 2018: 1 firms\n",
      "\n",
      "Year 2019: 1 firms\n",
      "\n",
      "Year 2020: 1 firms\n",
      "\n",
      "Year 2021: 1 firms\n",
      "\n",
      "Year 2022: 1 firms\n",
      "\n",
      "Year 2023: 1 firms\n",
      "\n",
      "Year 2024: 0 firms\n",
      "\n"
     ]
    }
   ],
   "source": [
    "seen = {}\n",
    "total_sp500_cik_to_ticker = {}\n",
    "\n",
    "year, firms = next(iter(sp500_by_year.items()))\n",
    "\n",
    "for ticker in firms.values():\n",
    "    cik_number = get_cik(ticker)\n",
    "    seen[ticker] = cik_number                    \n",
    "\n",
    "for year, firms in sp500_by_year.items():\n",
    "    print(f\"Year {year}: {len(firms)} firms\")\n",
    "    for ticker in firms.values():\n",
    "        if ticker in seen:\n",
    "            total_sp500_cik_to_ticker[seen[ticker]] = ticker\n",
    "            sp500_by_year[year] = {seen[ticker] : ticker}\n",
    "        else:\n",
    "            cik_number = get_cik(ticker)\n",
    "            total_sp500_cik_to_ticker[cik_number] = ticker\n",
    "            sp500_by_year[year] = {cik_number : ticker}\n",
    "    print()"
   ]
  },
  {
   "cell_type": "code",
   "execution_count": null,
   "metadata": {},
   "outputs": [],
   "source": []
  }
 ],
 "metadata": {
  "kernelspec": {
   "display_name": "hons-project",
   "language": "python",
   "name": "python3"
  },
  "language_info": {
   "codemirror_mode": {
    "name": "ipython",
    "version": 3
   },
   "file_extension": ".py",
   "mimetype": "text/x-python",
   "name": "python",
   "nbconvert_exporter": "python",
   "pygments_lexer": "ipython3",
   "version": "3.8.18"
  }
 },
 "nbformat": 4,
 "nbformat_minor": 2
}
