{
 "cells": [
  {
   "cell_type": "code",
   "execution_count": 3,
   "metadata": {},
   "outputs": [],
   "source": [
    "import pandas as pd\n",
    "import numpy as np"
   ]
  },
  {
   "cell_type": "code",
   "execution_count": 45,
   "metadata": {},
   "outputs": [],
   "source": [
    "path = \"/Users/apple/PROJECT/Code_4_SECfilings/sp500_total_constituents.csv\"\n",
    "df_total = pd.read_csv(path)\n",
    "df_total = df_total.rename(columns={\"Symbol\": \"Ticker\"})\n",
    "\n",
    "path1 = \"/Users/apple/PROJECT/Code_4_SECfilings/sp500_total_constituents2.csv\"\n",
    "df_total2 = pd.read_csv(path1)\n",
    "df_total2 = df_total2.rename(columns={\"Symbol\": \"Ticker\"})\n",
    "\n",
    "path2 = \"/Users/apple/PROJECT/Code_4_SECfilings/sp500_2025_weights.csv\"\n",
    "df_2025 = pd.read_csv(path2)\n",
    "\n",
    "path3 = \"/Users/apple/PROJECT/Code_4_SECfilings/sp500_constituents.csv\"\n",
    "df_ori = pd.read_csv(path3)\n",
    "df_ori = df_ori.rename(columns={\"ticker\": \"Ticker\"})\n",
    "# Convert date columns to datetime format\n",
    "df_ori['start'] = pd.to_datetime(df_ori['start'], errors='coerce')\n",
    "df_ori['ending'] = pd.to_datetime(df_ori['ending'], errors='coerce')\n",
    "df_ori['nameendt'] = pd.to_datetime(df_ori['nameendt'], errors='coerce')  # Ensure nameendt is datetime\n",
    "\n",
    "path4 = \"/Users/apple/PROJECT/Code_4_SECfilings/sp500_by_year.parquet\"\n",
    "df_year = pd.read_parquet(path4)\n",
    "\n",
    "\n",
    "\n"
   ]
  },
  {
   "cell_type": "code",
   "execution_count": 3,
   "metadata": {},
   "outputs": [],
   "source": [
    "df_merge = df_total.merge(df_2025, on=\"Ticker\", how=\"inner\")"
   ]
  },
  {
   "cell_type": "code",
   "execution_count": 46,
   "metadata": {},
   "outputs": [
    {
     "data": {
      "text/plain": [
       "413"
      ]
     },
     "execution_count": 46,
     "metadata": {},
     "output_type": "execute_result"
    }
   ],
   "source": [
    "df_total_list = df_total[\"Ticker\"].tolist()\n",
    "df_2025_list = df_2025[\"Ticker\"].tolist()\n",
    "interect_total_2025 = list(set(df_total_list).intersection(df_2025_list))\n",
    "len(interect_total_2025)\n"
   ]
  },
  {
   "cell_type": "code",
   "execution_count": 47,
   "metadata": {},
   "outputs": [
    {
     "name": "stdout",
     "output_type": "stream",
     "text": [
      "90\n"
     ]
    }
   ],
   "source": [
    "only_2025 = set(df_2025_list) - set(interect_total_2025)\n",
    "print(len(only_2025))\n",
    "with open(\"only_2025.txt\", \"w\") as f:\n",
    "    f.write(\",\".join(map(str, only_2025)))"
   ]
  },
  {
   "cell_type": "code",
   "execution_count": 48,
   "metadata": {},
   "outputs": [],
   "source": [
    "only_total = set(df_total_list) - set(interect_total_2025)\n",
    "with open(\"only_total.txt\", \"w\") as f:\n",
    "    f.write(\",\".join(map(str, only_total)))"
   ]
  },
  {
   "cell_type": "code",
   "execution_count": 69,
   "metadata": {},
   "outputs": [
    {
     "name": "stdout",
     "output_type": "stream",
     "text": [
      "2023-12-31 00:00:00\n"
     ]
    }
   ],
   "source": [
    "from datetime import datetime\n",
    "year = 2023\n",
    "start_of_year = datetime(year, 1, 1) # 2006-01-01\n",
    "end_of_year = datetime(year, 12, 31) # 2006-12-31\n",
    "print(end_of_year)"
   ]
  },
  {
   "cell_type": "code",
   "execution_count": 73,
   "metadata": {},
   "outputs": [
    {
     "name": "stdout",
     "output_type": "stream",
     "text": [
      "518\n"
     ]
    },
    {
     "data": {
      "text/html": [
       "<div>\n",
       "<style scoped>\n",
       "    .dataframe tbody tr th:only-of-type {\n",
       "        vertical-align: middle;\n",
       "    }\n",
       "\n",
       "    .dataframe tbody tr th {\n",
       "        vertical-align: top;\n",
       "    }\n",
       "\n",
       "    .dataframe thead th {\n",
       "        text-align: right;\n",
       "    }\n",
       "</style>\n",
       "<table border=\"1\" class=\"dataframe\">\n",
       "  <thead>\n",
       "    <tr style=\"text-align: right;\">\n",
       "      <th></th>\n",
       "      <th>permno</th>\n",
       "      <th>Unnamed: 0</th>\n",
       "      <th>start</th>\n",
       "      <th>ending</th>\n",
       "      <th>date</th>\n",
       "      <th>ret</th>\n",
       "      <th>comnam</th>\n",
       "      <th>ncusip</th>\n",
       "      <th>namedt</th>\n",
       "      <th>nameendt</th>\n",
       "      <th>shrcd</th>\n",
       "      <th>exchcd</th>\n",
       "      <th>hsiccd</th>\n",
       "      <th>Ticker</th>\n",
       "    </tr>\n",
       "  </thead>\n",
       "  <tbody>\n",
       "    <tr>\n",
       "      <th>117</th>\n",
       "      <td>20190</td>\n",
       "      <td>1078260</td>\n",
       "      <td>2023-09-18</td>\n",
       "      <td>2023-12-29</td>\n",
       "      <td>2023-12-29</td>\n",
       "      <td>0.077569</td>\n",
       "      <td>AIRBNB INC</td>\n",
       "      <td>00906610</td>\n",
       "      <td>2021-03-31</td>\n",
       "      <td>2023-12-29</td>\n",
       "      <td>11</td>\n",
       "      <td>3</td>\n",
       "      <td>9999</td>\n",
       "      <td>ABNB</td>\n",
       "    </tr>\n",
       "  </tbody>\n",
       "</table>\n",
       "</div>"
      ],
      "text/plain": [
       "     permno  Unnamed: 0      start     ending        date       ret  \\\n",
       "117   20190     1078260 2023-09-18 2023-12-29  2023-12-29  0.077569   \n",
       "\n",
       "         comnam    ncusip      namedt   nameendt  shrcd  exchcd  hsiccd Ticker  \n",
       "117  AIRBNB INC  00906610  2021-03-31 2023-12-29     11       3    9999   ABNB  "
      ]
     },
     "execution_count": 73,
     "metadata": {},
     "output_type": "execute_result"
    }
   ],
   "source": [
    "active_firms = df_ori[\n",
    "        (df_ori['start'] <= end_of_year) &  (df_ori['ending'] >= start_of_year)\n",
    "    ]\n",
    "# Group by 'permno' and get the last entry based on 'nameendt'\n",
    "active_firms = active_firms.sort_values(by=['permno', 'nameendt']).groupby('permno').last().reset_index()\n",
    "print(active_firms.shape[0])\n",
    "active_firms\n",
    "active_firms[active_firms[\"Ticker\"] == \"ABNB\"]\n",
    "# active_firms = active_firms.drop_duplicates(subset=['permno'])\n",
    "# print(\"active firms after drop_duplicates:\", active_firms.shape[0])\n",
    "# active_firms = active_firms[active_firms[\"Ticker\"] == \"ELV\"]\n",
    "# active_firms"
   ]
  },
  {
   "cell_type": "code",
   "execution_count": 36,
   "metadata": {},
   "outputs": [
    {
     "name": "stdout",
     "output_type": "stream",
     "text": [
      "19\n"
     ]
    },
    {
     "data": {
      "text/html": [
       "<div>\n",
       "<style scoped>\n",
       "    .dataframe tbody tr th:only-of-type {\n",
       "        vertical-align: middle;\n",
       "    }\n",
       "\n",
       "    .dataframe tbody tr th {\n",
       "        vertical-align: top;\n",
       "    }\n",
       "\n",
       "    .dataframe thead th {\n",
       "        text-align: right;\n",
       "    }\n",
       "</style>\n",
       "<table border=\"1\" class=\"dataframe\">\n",
       "  <thead>\n",
       "    <tr style=\"text-align: right;\">\n",
       "      <th></th>\n",
       "      <th>Unnamed: 0</th>\n",
       "      <th>permno</th>\n",
       "      <th>start</th>\n",
       "      <th>ending</th>\n",
       "      <th>date</th>\n",
       "      <th>ret</th>\n",
       "      <th>comnam</th>\n",
       "      <th>ncusip</th>\n",
       "      <th>namedt</th>\n",
       "      <th>nameendt</th>\n",
       "      <th>shrcd</th>\n",
       "      <th>exchcd</th>\n",
       "      <th>hsiccd</th>\n",
       "      <th>Ticker</th>\n",
       "    </tr>\n",
       "  </thead>\n",
       "  <tbody>\n",
       "    <tr>\n",
       "      <th>134946</th>\n",
       "      <td>1013119</td>\n",
       "      <td>89179</td>\n",
       "      <td>2002-07-25</td>\n",
       "      <td>2023-12-29</td>\n",
       "      <td>2022-06-30</td>\n",
       "      <td>-0.050529</td>\n",
       "      <td>ELEVANCE HEALTH INC</td>\n",
       "      <td>03675210</td>\n",
       "      <td>2022-06-28</td>\n",
       "      <td>2023-12-29</td>\n",
       "      <td>11</td>\n",
       "      <td>1</td>\n",
       "      <td>6321</td>\n",
       "      <td>ELV</td>\n",
       "    </tr>\n",
       "  </tbody>\n",
       "</table>\n",
       "</div>"
      ],
      "text/plain": [
       "        Unnamed: 0  permno      start     ending        date       ret  \\\n",
       "134946     1013119   89179 2002-07-25 2023-12-29  2022-06-30 -0.050529   \n",
       "\n",
       "                     comnam    ncusip      namedt    nameendt  shrcd  exchcd  \\\n",
       "134946  ELEVANCE HEALTH INC  03675210  2022-06-28  2023-12-29     11       1   \n",
       "\n",
       "        hsiccd Ticker  \n",
       "134946    6321    ELV  "
      ]
     },
     "execution_count": 36,
     "metadata": {},
     "output_type": "execute_result"
    }
   ],
   "source": [
    "df_ori_temp = df_ori[df_ori[\"Ticker\"] == \"ELV\"]\n",
    "active_firms_temp = df_ori_temp[\n",
    "        (df_ori_temp['start'] <= end_of_year) &  (df_ori_temp['ending'] >= start_of_year)\n",
    "    ]\n",
    "print(active_firms_temp[active_firms_temp[\"Ticker\"] == \"ELV\"].shape[0])\n",
    "active_firms_temp = active_firms_temp.drop_duplicates(subset=['permno'])\n",
    "active_firms_temp = active_firms_temp[active_firms_temp[\"Ticker\"] == \"ELV\"]\n",
    "active_firms_temp"
   ]
  },
  {
   "cell_type": "code",
   "execution_count": 28,
   "metadata": {},
   "outputs": [
    {
     "name": "stdout",
     "output_type": "stream",
     "text": [
      "        Unnamed: 0  permno      start     ending        date       ret  \\\n",
      "134946     1013119   89179 2002-07-25 2023-12-29  2022-06-30 -0.050529   \n",
      "135450     1016676   89179 2002-07-25 2023-12-29  2022-07-29 -0.011356   \n",
      "136261     1022468   89179 2002-07-25 2023-12-29  2022-08-31  0.016789   \n",
      "136930     1027129   89179 2002-07-25 2023-12-29  2022-09-30 -0.060997   \n",
      "136975     1027473   89179 2002-07-25 2023-12-29  2022-10-31  0.203703   \n",
      "\n",
      "                     comnam    ncusip      namedt    nameendt  shrcd  exchcd  \\\n",
      "134946  ELEVANCE HEALTH INC  03675210  2022-06-28  2023-12-29     11       1   \n",
      "135450  ELEVANCE HEALTH INC  03675210  2022-06-28  2023-12-29     11       1   \n",
      "136261  ELEVANCE HEALTH INC  03675210  2022-06-28  2023-12-29     11       1   \n",
      "136930  ELEVANCE HEALTH INC  03675210  2022-06-28  2023-12-29     11       1   \n",
      "136975  ELEVANCE HEALTH INC  03675210  2022-06-28  2023-12-29     11       1   \n",
      "\n",
      "        hsiccd Ticker  \n",
      "134946    6321    ELV  \n",
      "135450    6321    ELV  \n",
      "136261    6321    ELV  \n",
      "136930    6321    ELV  \n",
      "136975    6321    ELV  \n"
     ]
    }
   ],
   "source": [
    "df_ori_temp = df_ori[df_ori[\"Ticker\"] == \"ELV\"]\n",
    "\n",
    "condition = df_ori_temp['start'] <= end_of_year\n",
    "\n",
    "positive_row = df_ori_temp[condition]\n",
    "print(positive_row.head())\n",
    "false_rows = df_ori_temp[~condition]\n",
    "\n"
   ]
  },
  {
   "cell_type": "code",
   "execution_count": 18,
   "metadata": {},
   "outputs": [
    {
     "name": "stdout",
     "output_type": "stream",
     "text": [
      "Empty DataFrame\n",
      "Columns: [Unnamed: 0, permno, start, ending, date, ret, comnam, ncusip, namedt, nameendt, shrcd, exchcd, hsiccd, Ticker]\n",
      "Index: []\n"
     ]
    }
   ],
   "source": [
    "df_ori_temp = df_ori[df_ori[\"Ticker\"] == \"ELV\"]\n",
    "condition = df_ori_temp['ending'] >= start_of_year\n",
    "false_rows = df_ori_temp[~condition]\n",
    "print(false_rows.head())\n"
   ]
  },
  {
   "cell_type": "code",
   "execution_count": 15,
   "metadata": {},
   "outputs": [
    {
     "name": "stdout",
     "output_type": "stream",
     "text": [
      "['AVB' 'SE' 'ESV' 'TEG' 'RL' 'VAR' 'HCBK' 'CHRW' 'DDR' 'HST' 'ANF' 'AIZ'\n",
      " 'KFT' 'WFR' 'PCP' 'TEL' 'GGP' 'AKAM' 'DFS' 'ACAS' 'COV' 'LUK' 'TSO'\n",
      " 'MCHP' 'ICE' 'EXPD' 'TIE' 'NBL' 'JEC' 'TDC' 'EXPE' 'NYX' 'AMT' 'POM'\n",
      " 'MTW' 'RRC' 'WPO' 'GME' 'CAM' 'TSS' 'HCP' 'PM' 'COG' 'LO' 'SWN' 'MEE'\n",
      " 'ISRG' 'DVA' 'MA' 'SNI' 'AKS' 'IVZ' 'CF' 'HRS' 'FAST' 'PXD' 'APH' 'CRM'\n",
      " 'WEC' 'DPS' 'FLS' 'NDAQ' 'LIFE' 'CEPH' 'SRCL' 'PBCT' 'XRAY' 'SJM' 'WYNN'\n",
      " 'DNB' 'MFE' 'EQT' 'RSG' 'HCN' 'SCG' 'OI' 'IRM' 'FLIR' 'DO' 'TWC' 'HRL'\n",
      " 'ORLY' 'VTR' 'NU' 'DNR' 'DV' 'FTI' 'PCS' 'RHT' 'PWR' 'WDC' 'FMC' 'ARG'\n",
      " 'CFN' 'FSLR' 'PCLN' 'MJN' 'V' 'ROST' 'SAI' 'CLF' 'ROP' 'NRG' 'URBN' 'BRK'\n",
      " 'OKE' 'DISCA' 'HP' 'CERN' 'KMX' 'QEP' 'ACE' 'TYC' 'IR' 'NFX' 'CVC' 'NFLX'\n",
      " 'FFIV' 'MMI' 'NE' 'JOYG' 'CMG' 'BLK' 'EW' 'PLD' 'ANR' 'MPC' 'ACN' 'MOS'\n",
      " 'XYL' 'CBE' 'JOY' 'DLTR' 'PRGO' 'TRIP' 'GAS' 'BWA' 'WPX' 'CCI' 'FOSL'\n",
      " 'PSX' 'KMI' 'ALXN' 'MNST' 'LRCX' 'STX' 'LYB' 'PETM' 'MDLZ' 'KRFT' 'PNR'\n",
      " 'ADT' 'DG' 'DLPH' 'GRMN' 'ABBV' 'PVH' 'MAC' 'REGN' 'KSU' 'GM' 'ZTS'\n",
      " 'NLSN' 'NWSA' 'DAL' 'VRTX' 'AME' 'RIG' 'GHC' 'KORS' 'ADS' 'FB' 'ALLE'\n",
      " 'MHK' 'TSCO' 'GMCR' 'GOOG' 'ESS' 'NAVI' 'UA' 'AVGO' 'XEC' 'AMG' 'MLM'\n",
      " 'DISCK' 'MNK' 'UHS' 'URI' 'LVLT' 'RCL' 'ENDP' 'HCA' 'ES' 'AAL' 'SWKS'\n",
      " 'HSIC' 'SLG' 'EQIX' 'HBI' 'O' 'QRVO' 'SIG' 'BXLT' 'KHC' 'AAP' 'CPGX'\n",
      " 'JBHT' 'PYPL' 'ATVI' 'NWS' 'FOX' 'UAL' 'CMCSK' 'VRSK' 'ILMN' 'SYF' 'HPE'\n",
      " 'CSRA' 'CHD' 'EXR' 'WLTW' 'CB' 'CFG' 'CXO' 'FRT' 'HOLX' 'AWK' 'CNC' 'UDR'\n",
      " 'FL' 'ULTA' 'GPN' 'DLR' 'ALK' 'AYI' 'AJG' 'LKQ' 'TDG' 'FBHS' 'FTV' 'LNT'\n",
      " 'ALB' 'CHTR' 'MTD' 'COO' 'JCI' 'COTY' 'ADNT' 'UAA' 'EVHC' 'MAA' 'IDXX'\n",
      " 'INCY' 'REG' 'AMD' 'SNPS' 'RJF' 'ARE' 'CBOE' 'DISH' 'IT' 'DXC' 'ANSS'\n",
      " 'INFO' 'ALGN' 'HLT' 'RE' 'DRE' 'MGM' 'PKG' 'RMD' 'AOS' 'ANDV' 'Q' 'BHF'\n",
      " 'SBAC' 'CDNS' 'DWDP' 'NCLH' 'IQV' 'APTV' 'HII' 'BKNG' 'SIVB' 'NKTR'\n",
      " 'IPGP' 'TTWO' 'MSCI' 'ABMD' 'JEF' 'EVRG' 'FLT' 'TWTR' 'HFC' 'BR' 'CPRT'\n",
      " 'ANET' 'WCG' 'ROL' 'LIN' 'FTNT' 'JKHY' 'KEYS' 'MXIM' 'LW' 'CE' 'FANG'\n",
      " 'TFX' 'CPRI' 'FRC' 'ATO' 'WAB' 'FOXA' 'DOW' 'CTVA' 'AMCR' 'DD' 'MKTX'\n",
      " 'TMUS' 'LHX' 'LDOS' 'IEX' 'CDW' 'NVR' 'LVS' 'PEAK' 'NOW' 'J' 'ODFL' 'WRB'\n",
      " 'STE' 'ZBRA' 'LYV' 'PAYC' 'TT' 'OTIS' 'CARR' 'WST' 'DXCM' 'DPZ' 'BIO'\n",
      " 'TDY' 'TYL' 'ETSY' 'TER' 'CTLT' 'POOL' 'VNT' 'VTRS' 'TSLA' 'TRMB' 'ENPH'\n",
      " 'MPWR' 'NXPI' 'GNRC' 'PENN' 'CZR' 'PTC' 'CRL' 'OGN' 'MRNA' 'TECH' 'BRO'\n",
      " 'MTCH' 'CDAY' 'CTRA' 'FDS' 'SEDG' 'EPAM' 'SBNY' 'WTW' 'CEG' 'NDSN' 'MOH'\n",
      " 'CPT' 'WBD' 'ON' 'META' 'VICI' 'KDP' 'INVH' 'CSGP' 'TRGP' 'PCG' 'ACGL'\n",
      " 'STLD' 'GEHC' 'FICO' 'PODD' 'BG' 'AXON' 'PANW' 'EG' 'KVUE' 'BX' 'ABNB'\n",
      " 'HUBB' 'LULU' 'VLTO' 'JBL' 'BLDR' 'UBER']\n",
      "None\n"
     ]
    }
   ],
   "source": [
    "condition = df_ori['start'] <= end_of_year\n",
    "false_rows = df_ori[~condition]\n",
    "tickers_1 = false_rows[\"Ticker\"].unique()\n",
    "print(tickers_1)\n",
    "if \"SE\" in tickers_1:\n",
    "    print(\"None\")\n"
   ]
  },
  {
   "cell_type": "code",
   "execution_count": 86,
   "metadata": {},
   "outputs": [
    {
     "name": "stdout",
     "output_type": "stream",
     "text": [
      "['U' 'UPC' 'PCH' 'MDR' 'FBF' 'RAD' 'RD' 'T' 'UCM' 'WLA' 'TNB' 'WCOM' 'PWJ'\n",
      " 'GTE' 'CEN' 'AZA' 'UCL' 'SUB' 'DAL' 'GAP' 'OAT' 'DPH' 'EFU' 'OI' 'SRV'\n",
      " 'TOY' 'PNU' 'KRB' 'JPM' 'AMR' 'PSFT' 'AFS' 'YNR' 'GBLX' 'WLP' 'AL' 'MAY'\n",
      " 'TKR' 'ENE' 'WTHG' 'BFO' 'ABX' 'NT' 'ARC' 'MIR' 'WIN' 'TX' 'TUP' 'OWC'\n",
      " 'CPQ' 'TMC' 'S' 'N' 'BGEN' 'FSR' 'BGG' 'MZ' 'GLK' 'IKN' 'NSI' 'OK' 'OKE'\n",
      " 'GRA' 'LDG' 'CGP' 'PCS' 'USW' 'GPU' 'HI' 'UN' 'HRC' 'SMS' 'PBY' 'CG' 'BS'\n",
      " 'RAL' 'CNXT' 'CS' 'DLX' 'RLM' 'H' 'KSU' 'SGI' 'PDG' 'SEG' 'PVN' 'NCE'\n",
      " 'TOS' 'ONE' 'FJ' 'VO' 'MKG' 'NGH' 'MTC' 'UK' 'FMC' 'SMI' 'ACK' 'AET'\n",
      " 'CHA' 'WB' 'COC' 'GP' 'CR' 'FPC' 'KM' 'NXTL' 'FLR' 'MEA' 'NC' 'SOTR'\n",
      " 'ADPT' 'TRW' 'CNC' 'WLL' 'AGC' 'HM' 'COMS' 'UPR' 'CMCSK' 'CBS' 'QTRN'\n",
      " 'CSR' 'PRD' 'UMG' 'CCK' 'JOS' 'G' 'TWX' 'RML' 'NMK' 'AM' 'PHA' 'WOR'\n",
      " 'VRTS' 'SAPE' 'VC' 'CF' 'PALM' 'CIT' 'PWER' 'GX' 'BVSN' 'CPN' 'VTSS'\n",
      " 'CEFT' 'JHF' 'AWE' 'IMNX' 'RATL' 'SDS' 'TAP' 'CE']\n"
     ]
    }
   ],
   "source": [
    "condition = df_ori['ending'] >= start_of_year\n",
    "false_rows = df_ori[~condition]\n",
    "tickers_2 = false_rows[\"Ticker\"].unique()\n",
    "print(tickers_2)\n",
    "if \"ELV\" in tickers_2:\n",
    "    print(\"None\")"
   ]
  },
  {
   "cell_type": "code",
   "execution_count": 96,
   "metadata": {},
   "outputs": [
    {
     "data": {
      "text/plain": [
       "144479"
      ]
     },
     "execution_count": 96,
     "metadata": {},
     "output_type": "execute_result"
    }
   ],
   "source": [
    "condition3 = df_ori['ending'].isna()\n",
    "false_rows3 = df_ori[~condition3]\n",
    "len(false_rows3[\"Ticker\"])"
   ]
  },
  {
   "cell_type": "code",
   "execution_count": 35,
   "metadata": {},
   "outputs": [],
   "source": [
    "active_firms = df_ori[\n",
    "        (df_ori['start'] <= end_of_year) &  (df_ori['ending'] >= start_of_year)\n",
    "    ].drop_duplicates(subset=['permno'])"
   ]
  },
  {
   "cell_type": "code",
   "execution_count": 108,
   "metadata": {},
   "outputs": [
    {
     "name": "stdout",
     "output_type": "stream",
     "text": [
      "615\n",
      "549\n",
      "503\n"
     ]
    }
   ],
   "source": [
    "total2 = set(df_total2[\"Ticker\"])\n",
    "total = set(df_total[\"Ticker\"])\n",
    "set_2025 = set(df_2025[\"Ticker\"])\n",
    "print(len(total2))\n",
    "print(len(total))\n",
    "print(len(set_2025))"
   ]
  },
  {
   "cell_type": "code",
   "execution_count": 110,
   "metadata": {},
   "outputs": [
    {
     "name": "stdout",
     "output_type": "stream",
     "text": [
      "85\n",
      "530\n",
      "413\n",
      "479\n"
     ]
    }
   ],
   "source": [
    "print(len(total2 - total))\n",
    "interect_total_total2 = list(total2.intersection(total))\n",
    "interect_total_2025 = list(set_2025.intersection(total))\n",
    "interect_total2_2025 = list(set_2025.intersection(total2))\n",
    "print(len(interect_total_total2))\n",
    "print(len(interect_total_2025))\n",
    "print(len(interect_total2_2025))"
   ]
  },
  {
   "cell_type": "code",
   "execution_count": 111,
   "metadata": {},
   "outputs": [
    {
     "name": "stdout",
     "output_type": "stream",
     "text": [
      "136\n",
      "136\n"
     ]
    },
    {
     "data": {
      "text/plain": [
       "17"
      ]
     },
     "execution_count": 111,
     "metadata": {},
     "output_type": "execute_result"
    }
   ],
   "source": [
    "print(len(total2 - set_2025))\n",
    "print(len(total - set_2025))\n",
    "left2 = total2 - set_2025\n",
    "left = total - set_2025\n",
    "len(left2-left)"
   ]
  },
  {
   "cell_type": "code",
   "execution_count": 124,
   "metadata": {},
   "outputs": [],
   "source": [
    "update_df = df_total2[~df_total2[\"Ticker\"].isin(df_total[\"Ticker\"])]\n",
    "update_df.to_csv(\"update_constituents.csv\", index=False)"
   ]
  },
  {
   "cell_type": "markdown",
   "metadata": {},
   "source": [
    "Buliding Total SP 500 Constituents\n"
   ]
  },
  {
   "cell_type": "markdown",
   "metadata": {},
   "source": [
    "Adding CIKs to sp500 2025 weight data"
   ]
  },
  {
   "cell_type": "code",
   "execution_count": 1,
   "metadata": {},
   "outputs": [
    {
     "name": "stdout",
     "output_type": "stream",
     "text": [
      "CIK for ELV: 0001156039\n"
     ]
    }
   ],
   "source": [
    "# import requests\n",
    "\n",
    "# def get_cik(ticker):\n",
    "#     \"\"\"\n",
    "#     Retrieves the CIK number for a given ticker symbol from the SEC's EDGAR system.\n",
    "    \n",
    "#     Parameters:\n",
    "#         ticker (str): The stock ticker symbol.\n",
    "    \n",
    "#     Returns:\n",
    "#         str: The CIK number for the given ticker symbol, or a message if not found.\n",
    "#     \"\"\"\n",
    "#     url = 'https://www.sec.gov/files/company_tickers.json'\n",
    "#     headers = {\n",
    "#         'User-Agent': 'University of Edinburgh s2101369@ed.ac.uk',\n",
    "#         'Accept-Encoding': 'gzip, deflate'\n",
    "#     }\n",
    "    \n",
    "#     try:\n",
    "#         response = requests.get(url, headers=headers)\n",
    "#         response.raise_for_status()\n",
    "#         data = response.json()\n",
    "        \n",
    "#         for item in data.values():\n",
    "#             if item['ticker'].lower() == ticker.lower():\n",
    "#                 cik = item['cik_str']\n",
    "#                 return str(cik).zfill(10)  # Pad CIK to 10 digits\n",
    "        \n",
    "#         return \"CIK not found for the given ticker.\"\n",
    "    \n",
    "#     except requests.exceptions.RequestException as e:\n",
    "#         return f\"Error accessing SEC data: {e}\"\n",
    "\n",
    "# # Example usage\n",
    "# ticker = 'ELV'  # Replace with the desired ticker\n",
    "# cik_number = get_cik(ticker)\n",
    "# print(f\"CIK for {ticker}: {cik_number}\")\n"
   ]
  },
  {
   "cell_type": "code",
   "execution_count": null,
   "metadata": {},
   "outputs": [],
   "source": [
    "# path = \"/Users/apple/PROJECT/Code_4_SECfilings/sp500_slickcharts.csv\"\n",
    "# df_2025 = pd.read_csv(path)\n",
    "# df_2025 = df_2025.rename(columns={\"Symbol\": \"Ticker\"})\n",
    "# df_2025[\"CIK\"] = df_2025[\"Ticker\"].apply(get_cik)\n",
    "# df_2025['CIK'] = df_2025['CIK'].astype(str)\n",
    "# df_2025.loc[9, \"CIK\"] = \"0001067983\"\n",
    "# df_2025.loc[500, \"CIK\"] = \"0000014693\""
   ]
  },
  {
   "cell_type": "code",
   "execution_count": 41,
   "metadata": {},
   "outputs": [],
   "source": [
    "# df_2025.to_csv(\"sp500_2025_weights.csv\", index=False)\n"
   ]
  },
  {
   "cell_type": "code",
   "execution_count": 42,
   "metadata": {},
   "outputs": [],
   "source": [
    "path = \"/Users/apple/PROJECT/Code_4_SECfilings/update_constituents.csv\"\n",
    "df_update = pd.read_csv(path)\n"
   ]
  },
  {
   "cell_type": "code",
   "execution_count": 43,
   "metadata": {},
   "outputs": [],
   "source": [
    "df_2025.drop(columns=[\"Company\", \"Weight\"], inplace=True)"
   ]
  },
  {
   "cell_type": "code",
   "execution_count": 44,
   "metadata": {},
   "outputs": [
    {
     "ename": "NameError",
     "evalue": "name 'set_2025' is not defined",
     "output_type": "error",
     "traceback": [
      "\u001b[0;31m---------------------------------------------------------------------------\u001b[0m",
      "\u001b[0;31mNameError\u001b[0m                                 Traceback (most recent call last)",
      "Cell \u001b[0;32mIn[44], line 1\u001b[0m\n\u001b[0;32m----> 1\u001b[0m \u001b[43mset_2025\u001b[49m\n",
      "\u001b[0;31mNameError\u001b[0m: name 'set_2025' is not defined"
     ]
    }
   ],
   "source": [
    "set_2025"
   ]
  },
  {
   "cell_type": "code",
   "execution_count": 32,
   "metadata": {},
   "outputs": [],
   "source": [
    "update_df = pd.concat([df_2025, df_update], axis=0, ignore_index=True)"
   ]
  },
  {
   "cell_type": "code",
   "execution_count": 33,
   "metadata": {},
   "outputs": [
    {
     "data": {
      "text/html": [
       "<div>\n",
       "<style scoped>\n",
       "    .dataframe tbody tr th:only-of-type {\n",
       "        vertical-align: middle;\n",
       "    }\n",
       "\n",
       "    .dataframe tbody tr th {\n",
       "        vertical-align: top;\n",
       "    }\n",
       "\n",
       "    .dataframe thead th {\n",
       "        text-align: right;\n",
       "    }\n",
       "</style>\n",
       "<table border=\"1\" class=\"dataframe\">\n",
       "  <thead>\n",
       "    <tr style=\"text-align: right;\">\n",
       "      <th></th>\n",
       "      <th>Ticker</th>\n",
       "      <th>CIK</th>\n",
       "    </tr>\n",
       "  </thead>\n",
       "  <tbody>\n",
       "    <tr>\n",
       "      <th>0</th>\n",
       "      <td>AAPL</td>\n",
       "      <td>0000320193</td>\n",
       "    </tr>\n",
       "    <tr>\n",
       "      <th>1</th>\n",
       "      <td>NVDA</td>\n",
       "      <td>0001045810</td>\n",
       "    </tr>\n",
       "    <tr>\n",
       "      <th>2</th>\n",
       "      <td>MSFT</td>\n",
       "      <td>0000789019</td>\n",
       "    </tr>\n",
       "    <tr>\n",
       "      <th>3</th>\n",
       "      <td>AMZN</td>\n",
       "      <td>0001018724</td>\n",
       "    </tr>\n",
       "    <tr>\n",
       "      <th>4</th>\n",
       "      <td>META</td>\n",
       "      <td>0001326801</td>\n",
       "    </tr>\n",
       "    <tr>\n",
       "      <th>...</th>\n",
       "      <td>...</td>\n",
       "      <td>...</td>\n",
       "    </tr>\n",
       "    <tr>\n",
       "      <th>583</th>\n",
       "      <td>BG</td>\n",
       "      <td>1996862</td>\n",
       "    </tr>\n",
       "    <tr>\n",
       "      <th>584</th>\n",
       "      <td>BLDR</td>\n",
       "      <td>1316835</td>\n",
       "    </tr>\n",
       "    <tr>\n",
       "      <th>585</th>\n",
       "      <td>PODD</td>\n",
       "      <td>1145197</td>\n",
       "    </tr>\n",
       "    <tr>\n",
       "      <th>586</th>\n",
       "      <td>BX</td>\n",
       "      <td>1393818</td>\n",
       "    </tr>\n",
       "    <tr>\n",
       "      <th>587</th>\n",
       "      <td>LULU</td>\n",
       "      <td>1397187</td>\n",
       "    </tr>\n",
       "  </tbody>\n",
       "</table>\n",
       "<p>588 rows × 2 columns</p>\n",
       "</div>"
      ],
      "text/plain": [
       "    Ticker         CIK\n",
       "0     AAPL  0000320193\n",
       "1     NVDA  0001045810\n",
       "2     MSFT  0000789019\n",
       "3     AMZN  0001018724\n",
       "4     META  0001326801\n",
       "..     ...         ...\n",
       "583     BG     1996862\n",
       "584   BLDR     1316835\n",
       "585   PODD     1145197\n",
       "586     BX     1393818\n",
       "587   LULU     1397187\n",
       "\n",
       "[588 rows x 2 columns]"
      ]
     },
     "execution_count": 33,
     "metadata": {},
     "output_type": "execute_result"
    }
   ],
   "source": [
    "update_df.value_counts(\"Ticker\")"
   ]
  },
  {
   "cell_type": "code",
   "execution_count": 55,
   "metadata": {},
   "outputs": [
    {
     "data": {
      "text/html": [
       "<div>\n",
       "<style scoped>\n",
       "    .dataframe tbody tr th:only-of-type {\n",
       "        vertical-align: middle;\n",
       "    }\n",
       "\n",
       "    .dataframe tbody tr th {\n",
       "        vertical-align: top;\n",
       "    }\n",
       "\n",
       "    .dataframe thead th {\n",
       "        text-align: right;\n",
       "    }\n",
       "</style>\n",
       "<table border=\"1\" class=\"dataframe\">\n",
       "  <thead>\n",
       "    <tr style=\"text-align: right;\">\n",
       "      <th></th>\n",
       "      <th>CIK</th>\n",
       "      <th>Ticker</th>\n",
       "    </tr>\n",
       "  </thead>\n",
       "  <tbody>\n",
       "    <tr>\n",
       "      <th>0</th>\n",
       "      <td>1745999</td>\n",
       "      <td>BEAM</td>\n",
       "    </tr>\n",
       "    <tr>\n",
       "      <th>1</th>\n",
       "      <td>798354</td>\n",
       "      <td>FI</td>\n",
       "    </tr>\n",
       "    <tr>\n",
       "      <th>2</th>\n",
       "      <td>216228</td>\n",
       "      <td>ITT</td>\n",
       "    </tr>\n",
       "    <tr>\n",
       "      <th>3</th>\n",
       "      <td>1163165</td>\n",
       "      <td>COP</td>\n",
       "    </tr>\n",
       "    <tr>\n",
       "      <th>4</th>\n",
       "      <td>93410</td>\n",
       "      <td>CVX</td>\n",
       "    </tr>\n",
       "  </tbody>\n",
       "</table>\n",
       "</div>"
      ],
      "text/plain": [
       "       CIK Ticker\n",
       "0  1745999   BEAM\n",
       "1   798354     FI\n",
       "2   216228    ITT\n",
       "3  1163165    COP\n",
       "4    93410    CVX"
      ]
     },
     "execution_count": 55,
     "metadata": {},
     "output_type": "execute_result"
    }
   ],
   "source": [
    "df_update.head()"
   ]
  },
  {
   "cell_type": "code",
   "execution_count": 51,
   "metadata": {},
   "outputs": [
    {
     "data": {
      "text/html": [
       "<div>\n",
       "<style scoped>\n",
       "    .dataframe tbody tr th:only-of-type {\n",
       "        vertical-align: middle;\n",
       "    }\n",
       "\n",
       "    .dataframe tbody tr th {\n",
       "        vertical-align: top;\n",
       "    }\n",
       "\n",
       "    .dataframe thead th {\n",
       "        text-align: right;\n",
       "    }\n",
       "</style>\n",
       "<table border=\"1\" class=\"dataframe\">\n",
       "  <thead>\n",
       "    <tr style=\"text-align: right;\">\n",
       "      <th></th>\n",
       "      <th>Company</th>\n",
       "      <th>Ticker</th>\n",
       "      <th>Weight</th>\n",
       "      <th>CIK</th>\n",
       "    </tr>\n",
       "  </thead>\n",
       "  <tbody>\n",
       "    <tr>\n",
       "      <th>0</th>\n",
       "      <td>Apple Inc.</td>\n",
       "      <td>AAPL</td>\n",
       "      <td>7.16%</td>\n",
       "      <td>320193</td>\n",
       "    </tr>\n",
       "    <tr>\n",
       "      <th>1</th>\n",
       "      <td>Nvidia Corp</td>\n",
       "      <td>NVDA</td>\n",
       "      <td>6.62%</td>\n",
       "      <td>1045810</td>\n",
       "    </tr>\n",
       "    <tr>\n",
       "      <th>2</th>\n",
       "      <td>Microsoft Corp</td>\n",
       "      <td>MSFT</td>\n",
       "      <td>5.96%</td>\n",
       "      <td>789019</td>\n",
       "    </tr>\n",
       "    <tr>\n",
       "      <th>3</th>\n",
       "      <td>Amazon.com Inc</td>\n",
       "      <td>AMZN</td>\n",
       "      <td>4.02%</td>\n",
       "      <td>1018724</td>\n",
       "    </tr>\n",
       "    <tr>\n",
       "      <th>4</th>\n",
       "      <td>Meta Platforms, Inc. Class A</td>\n",
       "      <td>META</td>\n",
       "      <td>2.92%</td>\n",
       "      <td>1326801</td>\n",
       "    </tr>\n",
       "  </tbody>\n",
       "</table>\n",
       "</div>"
      ],
      "text/plain": [
       "                        Company Ticker Weight      CIK\n",
       "0                    Apple Inc.   AAPL  7.16%   320193\n",
       "1                   Nvidia Corp   NVDA  6.62%  1045810\n",
       "2                Microsoft Corp   MSFT  5.96%   789019\n",
       "3                Amazon.com Inc   AMZN  4.02%  1018724\n",
       "4  Meta Platforms, Inc. Class A   META  2.92%  1326801"
      ]
     },
     "execution_count": 51,
     "metadata": {},
     "output_type": "execute_result"
    }
   ],
   "source": [
    "df_2025.head()\n"
   ]
  },
  {
   "cell_type": "code",
   "execution_count": 52,
   "metadata": {},
   "outputs": [
    {
     "data": {
      "text/html": [
       "<div>\n",
       "<style scoped>\n",
       "    .dataframe tbody tr th:only-of-type {\n",
       "        vertical-align: middle;\n",
       "    }\n",
       "\n",
       "    .dataframe tbody tr th {\n",
       "        vertical-align: top;\n",
       "    }\n",
       "\n",
       "    .dataframe thead th {\n",
       "        text-align: right;\n",
       "    }\n",
       "</style>\n",
       "<table border=\"1\" class=\"dataframe\">\n",
       "  <thead>\n",
       "    <tr style=\"text-align: right;\">\n",
       "      <th></th>\n",
       "      <th>CIK</th>\n",
       "      <th>Ticker</th>\n",
       "    </tr>\n",
       "  </thead>\n",
       "  <tbody>\n",
       "    <tr>\n",
       "      <th>0</th>\n",
       "      <td>1341439</td>\n",
       "      <td>ORCL</td>\n",
       "    </tr>\n",
       "    <tr>\n",
       "      <th>1</th>\n",
       "      <td>789019</td>\n",
       "      <td>MSFT</td>\n",
       "    </tr>\n",
       "    <tr>\n",
       "      <th>2</th>\n",
       "      <td>1113169</td>\n",
       "      <td>TROW</td>\n",
       "    </tr>\n",
       "    <tr>\n",
       "      <th>3</th>\n",
       "      <td>773840</td>\n",
       "      <td>HON</td>\n",
       "    </tr>\n",
       "    <tr>\n",
       "      <th>4</th>\n",
       "      <td>1745999</td>\n",
       "      <td>BEAM</td>\n",
       "    </tr>\n",
       "  </tbody>\n",
       "</table>\n",
       "</div>"
      ],
      "text/plain": [
       "       CIK Ticker\n",
       "0  1341439   ORCL\n",
       "1   789019   MSFT\n",
       "2  1113169   TROW\n",
       "3   773840    HON\n",
       "4  1745999   BEAM"
      ]
     },
     "execution_count": 52,
     "metadata": {},
     "output_type": "execute_result"
    }
   ],
   "source": [
    "df_total2.head()"
   ]
  },
  {
   "cell_type": "code",
   "execution_count": 67,
   "metadata": {},
   "outputs": [
    {
     "name": "stderr",
     "output_type": "stream",
     "text": [
      "/var/folders/ls/rcj43y9j0d38d39d28pbbfz40000gn/T/ipykernel_4907/3482253636.py:2: SettingWithCopyWarning: \n",
      "A value is trying to be set on a copy of a slice from a DataFrame\n",
      "\n",
      "See the caveats in the documentation: https://pandas.pydata.org/pandas-docs/stable/user_guide/indexing.html#returning-a-view-versus-a-copy\n",
      "  only_2025.drop(columns=[\"Company\", \"Weight\"], inplace=True)\n"
     ]
    }
   ],
   "source": [
    "only_2025 = df_2025[~df_2025[\"Ticker\"].isin(df_total2[\"Ticker\"])]\n",
    "only_2025.drop(columns=[\"Company\", \"Weight\"], inplace=True)"
   ]
  },
  {
   "cell_type": "code",
   "execution_count": 62,
   "metadata": {},
   "outputs": [
    {
     "data": {
      "text/html": [
       "<div>\n",
       "<style scoped>\n",
       "    .dataframe tbody tr th:only-of-type {\n",
       "        vertical-align: middle;\n",
       "    }\n",
       "\n",
       "    .dataframe tbody tr th {\n",
       "        vertical-align: top;\n",
       "    }\n",
       "\n",
       "    .dataframe thead th {\n",
       "        text-align: right;\n",
       "    }\n",
       "</style>\n",
       "<table border=\"1\" class=\"dataframe\">\n",
       "  <thead>\n",
       "    <tr style=\"text-align: right;\">\n",
       "      <th></th>\n",
       "      <th>CIK</th>\n",
       "      <th>Ticker</th>\n",
       "    </tr>\n",
       "  </thead>\n",
       "  <tbody>\n",
       "    <tr>\n",
       "      <th>14</th>\n",
       "      <td>101778</td>\n",
       "      <td>MRO</td>\n",
       "    </tr>\n",
       "    <tr>\n",
       "      <th>29</th>\n",
       "      <td>1284812</td>\n",
       "      <td>CNS</td>\n",
       "    </tr>\n",
       "    <tr>\n",
       "      <th>48</th>\n",
       "      <td>827099</td>\n",
       "      <td>CPWR</td>\n",
       "    </tr>\n",
       "    <tr>\n",
       "      <th>68</th>\n",
       "      <td>1474098</td>\n",
       "      <td>PEB</td>\n",
       "    </tr>\n",
       "    <tr>\n",
       "      <th>84</th>\n",
       "      <td>1675149</td>\n",
       "      <td>AA</td>\n",
       "    </tr>\n",
       "    <tr>\n",
       "      <th>87</th>\n",
       "      <td>1328581</td>\n",
       "      <td>BCC</td>\n",
       "    </tr>\n",
       "    <tr>\n",
       "      <th>89</th>\n",
       "      <td>1579684</td>\n",
       "      <td>GCI</td>\n",
       "    </tr>\n",
       "    <tr>\n",
       "      <th>131</th>\n",
       "      <td>1616707</td>\n",
       "      <td>W</td>\n",
       "    </tr>\n",
       "    <tr>\n",
       "      <th>193</th>\n",
       "      <td>1384195</td>\n",
       "      <td>REI</td>\n",
       "    </tr>\n",
       "    <tr>\n",
       "      <th>205</th>\n",
       "      <td>1000753</td>\n",
       "      <td>NSP</td>\n",
       "    </tr>\n",
       "    <tr>\n",
       "      <th>215</th>\n",
       "      <td>1930313</td>\n",
       "      <td>SBC</td>\n",
       "    </tr>\n",
       "    <tr>\n",
       "      <th>270</th>\n",
       "      <td>1276187</td>\n",
       "      <td>ET</td>\n",
       "    </tr>\n",
       "    <tr>\n",
       "      <th>290</th>\n",
       "      <td>1652044</td>\n",
       "      <td>GOOG</td>\n",
       "    </tr>\n",
       "    <tr>\n",
       "      <th>323</th>\n",
       "      <td>1720671</td>\n",
       "      <td>HCP</td>\n",
       "    </tr>\n",
       "    <tr>\n",
       "      <th>346</th>\n",
       "      <td>1691493</td>\n",
       "      <td>NU</td>\n",
       "    </tr>\n",
       "    <tr>\n",
       "      <th>399</th>\n",
       "      <td>1336917</td>\n",
       "      <td>UA</td>\n",
       "    </tr>\n",
       "    <tr>\n",
       "      <th>420</th>\n",
       "      <td>1754301</td>\n",
       "      <td>FOXA</td>\n",
       "    </tr>\n",
       "    <tr>\n",
       "      <th>470</th>\n",
       "      <td>861878</td>\n",
       "      <td>SRCL</td>\n",
       "    </tr>\n",
       "    <tr>\n",
       "      <th>515</th>\n",
       "      <td>1596783</td>\n",
       "      <td>CTLT</td>\n",
       "    </tr>\n",
       "  </tbody>\n",
       "</table>\n",
       "</div>"
      ],
      "text/plain": [
       "         CIK Ticker\n",
       "14    101778    MRO\n",
       "29   1284812    CNS\n",
       "48    827099   CPWR\n",
       "68   1474098    PEB\n",
       "84   1675149     AA\n",
       "87   1328581    BCC\n",
       "89   1579684    GCI\n",
       "131  1616707      W\n",
       "193  1384195    REI\n",
       "205  1000753    NSP\n",
       "215  1930313    SBC\n",
       "270  1276187     ET\n",
       "290  1652044   GOOG\n",
       "323  1720671    HCP\n",
       "346  1691493     NU\n",
       "399  1336917     UA\n",
       "420  1754301   FOXA\n",
       "470   861878   SRCL\n",
       "515  1596783   CTLT"
      ]
     },
     "execution_count": 62,
     "metadata": {},
     "output_type": "execute_result"
    }
   ],
   "source": [
    "only_total = df_total[~df_total[\"Ticker\"].isin(df_total2[\"Ticker\"])]\n",
    "only_total"
   ]
  },
  {
   "cell_type": "code",
   "execution_count": 64,
   "metadata": {},
   "outputs": [
    {
     "name": "stdout",
     "output_type": "stream",
     "text": [
      "22\n"
     ]
    }
   ],
   "source": [
    "diff = set(only_2025[\"Ticker\"].tolist()) - set(only_total[\"Ticker\"].tolist())\n",
    "print(len(diff))"
   ]
  },
  {
   "cell_type": "code",
   "execution_count": 68,
   "metadata": {},
   "outputs": [
    {
     "data": {
      "text/html": [
       "<div>\n",
       "<style scoped>\n",
       "    .dataframe tbody tr th:only-of-type {\n",
       "        vertical-align: middle;\n",
       "    }\n",
       "\n",
       "    .dataframe tbody tr th {\n",
       "        vertical-align: top;\n",
       "    }\n",
       "\n",
       "    .dataframe thead th {\n",
       "        text-align: right;\n",
       "    }\n",
       "</style>\n",
       "<table border=\"1\" class=\"dataframe\">\n",
       "  <thead>\n",
       "    <tr style=\"text-align: right;\">\n",
       "      <th></th>\n",
       "      <th>CIK</th>\n",
       "      <th>Ticker</th>\n",
       "    </tr>\n",
       "  </thead>\n",
       "  <tbody>\n",
       "    <tr>\n",
       "      <th>0</th>\n",
       "      <td>1341439</td>\n",
       "      <td>ORCL</td>\n",
       "    </tr>\n",
       "    <tr>\n",
       "      <th>1</th>\n",
       "      <td>789019</td>\n",
       "      <td>MSFT</td>\n",
       "    </tr>\n",
       "    <tr>\n",
       "      <th>2</th>\n",
       "      <td>1113169</td>\n",
       "      <td>TROW</td>\n",
       "    </tr>\n",
       "    <tr>\n",
       "      <th>3</th>\n",
       "      <td>773840</td>\n",
       "      <td>HON</td>\n",
       "    </tr>\n",
       "    <tr>\n",
       "      <th>4</th>\n",
       "      <td>1745999</td>\n",
       "      <td>BEAM</td>\n",
       "    </tr>\n",
       "    <tr>\n",
       "      <th>...</th>\n",
       "      <td>...</td>\n",
       "      <td>...</td>\n",
       "    </tr>\n",
       "    <tr>\n",
       "      <th>653</th>\n",
       "      <td>1691493</td>\n",
       "      <td>NU</td>\n",
       "    </tr>\n",
       "    <tr>\n",
       "      <th>654</th>\n",
       "      <td>1336917</td>\n",
       "      <td>UA</td>\n",
       "    </tr>\n",
       "    <tr>\n",
       "      <th>655</th>\n",
       "      <td>1754301</td>\n",
       "      <td>FOXA</td>\n",
       "    </tr>\n",
       "    <tr>\n",
       "      <th>656</th>\n",
       "      <td>861878</td>\n",
       "      <td>SRCL</td>\n",
       "    </tr>\n",
       "    <tr>\n",
       "      <th>657</th>\n",
       "      <td>1596783</td>\n",
       "      <td>CTLT</td>\n",
       "    </tr>\n",
       "  </tbody>\n",
       "</table>\n",
       "<p>658 rows × 2 columns</p>\n",
       "</div>"
      ],
      "text/plain": [
       "         CIK Ticker\n",
       "0    1341439   ORCL\n",
       "1     789019   MSFT\n",
       "2    1113169   TROW\n",
       "3     773840    HON\n",
       "4    1745999   BEAM\n",
       "..       ...    ...\n",
       "653  1691493     NU\n",
       "654  1336917     UA\n",
       "655  1754301   FOXA\n",
       "656   861878   SRCL\n",
       "657  1596783   CTLT\n",
       "\n",
       "[658 rows x 2 columns]"
      ]
     },
     "execution_count": 68,
     "metadata": {},
     "output_type": "execute_result"
    }
   ],
   "source": [
    "sp500_total_constituents3 = pd.concat([df_total2, only_2025, only_total], axis=0, ignore_index=True)\n",
    "sp500_total_constituents3"
   ]
  },
  {
   "cell_type": "code",
   "execution_count": 70,
   "metadata": {},
   "outputs": [],
   "source": [
    "sp500_total_constituents3.drop_duplicates(subset=[\"Ticker\"], inplace=True)\n",
    "sp500_total_constituents3.to_csv(\"sp500_total_constituents_final.csv\", index=False)"
   ]
  },
  {
   "cell_type": "code",
   "execution_count": 72,
   "metadata": {},
   "outputs": [],
   "source": [
    "update_only2025 = pd.concat([only_2025, df_update], axis=0, ignore_index=True)\n",
    "update_only2025.to_csv(\"update_only2025.csv\", index=False)"
   ]
  },
  {
   "cell_type": "code",
   "execution_count": null,
   "metadata": {},
   "outputs": [],
   "source": []
  }
 ],
 "metadata": {
  "kernelspec": {
   "display_name": "hons-project",
   "language": "python",
   "name": "python3"
  },
  "language_info": {
   "codemirror_mode": {
    "name": "ipython",
    "version": 3
   },
   "file_extension": ".py",
   "mimetype": "text/x-python",
   "name": "python",
   "nbconvert_exporter": "python",
   "pygments_lexer": "ipython3",
   "version": "3.8.18"
  }
 },
 "nbformat": 4,
 "nbformat_minor": 2
}
