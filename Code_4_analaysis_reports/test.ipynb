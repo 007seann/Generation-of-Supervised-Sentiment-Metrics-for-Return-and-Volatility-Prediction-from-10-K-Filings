{
 "cells": [
  {
   "cell_type": "code",
   "execution_count": 4,
   "metadata": {},
   "outputs": [],
   "source": [
    "import requests\n",
    "import os\n",
    "import pandas as pd\n",
    "import json\n",
    "from tqdm import tqdm\n",
    "import datetime"
   ]
  },
  {
   "cell_type": "code",
   "execution_count": null,
   "metadata": {},
   "outputs": [
    {
     "name": "stderr",
     "output_type": "stream",
     "text": [
      "  0%|          | 0/549 [00:00<?, ?it/s]"
     ]
    },
    {
     "name": "stdout",
     "output_type": "stream",
     "text": [
      "Skipping qcom: SP500-historical-prices_2012-2024/qcom.json already exists.\n",
      "Skipping itw: SP500-historical-prices_2012-2024/itw.json already exists.\n",
      "Skipping d: SP500-historical-prices_2012-2024/d.json already exists.\n",
      "Skipping ati: SP500-historical-prices_2012-2024/ati.json already exists.\n"
     ]
    },
    {
     "name": "stderr",
     "output_type": "stream",
     "text": [
      "  1%|          | 5/549 [00:02<04:13,  2.15it/s]"
     ]
    },
    {
     "name": "stdout",
     "output_type": "stream",
     "text": [
      "Skipping wmb: SP500-historical-prices_2012-2024/wmb.json already exists.\n",
      "Skipping adsk: SP500-historical-prices_2012-2024/adsk.json already exists.\n",
      "Skipping emr: SP500-historical-prices_2012-2024/emr.json already exists.\n",
      "Skipping kbh: SP500-historical-prices_2012-2024/kbh.json already exists.\n",
      "Skipping cost: SP500-historical-prices_2012-2024/cost.json already exists.\n"
     ]
    },
    {
     "name": "stderr",
     "output_type": "stream",
     "text": [
      " 11%|█▏        | 63/549 [03:48<30:57,  3.82s/it]  "
     ]
    }
   ],
   "source": [
    "\n",
    "path = '/Users/apple/PROJECT/Code_4_10k/sp500_total_constituents.csv'\n",
    "\n",
    "try:\n",
    "    df = pd.read_csv(path, encoding = 'utf-8')\n",
    "    cik = df['CIK'].drop_duplicates().tolist()\n",
    "    ticker = df['Symbol'].tolist()\n",
    "    cik_ticker = dict(zip(cik, ticker))\n",
    "except UnicodeDecodeError:\n",
    "    df = pd.read_csv(path, encoding = 'ISO-8859-1')\n",
    "    cik = df['CIK'].drop_duplicates().tolist()\n",
    "    ticker = df['Symbol'].tolist()\n",
    "    cik_ticker = dict(zip(cik, ticker))\n",
    "\n",
    "import requests\n",
    "import os\n",
    "from tqdm import tqdm\n",
    "\n",
    "total_len = 0\n",
    "valid = 0\n",
    "save_folder = \"SP500-historical-prices_2012-2024\"\n",
    "for ticker in tqdm(cik_ticker.values()):\n",
    "    ticker = ticker.lower()\n",
    "    file_name = f'{ticker}.json'\n",
    "    file_path = os.path.join(save_folder, file_name)\n",
    "    if os.path.exists(file_path):\n",
    "        print(f\"Skipping {ticker}: {file_path} already exists.\")\n",
    "        continue\n",
    "    url = \"https://seeking-alpha.p.rapidapi.com/analysis/v2/list\"\n",
    "\n",
    "    querystring = {\"id\":ticker,\"until\":\"1704067200\",\"since\":\"1136073600\",\"size\":\"40\",\"number\":\"1\"}\n",
    "\n",
    "    headers = {\n",
    "        \"x-rapidapi-key\": \"13f98f0478msha8ec97b6a805b1fp174175jsn98c8458d4397\",\n",
    "        \"x-rapidapi-host\": \"seeking-alpha.p.rapidapi.com\"\n",
    "    }\n",
    "\n",
    "    try:\n",
    "        response = requests.get(url, headers=headers, params=querystring).json()\n",
    "\t\t# response.raise_for_status()  # Raise HTTPError for bad responses (4xx and 5xx)\n",
    "    \n",
    "\t\t# if 'application/json' in response.headers.get('Content-Type', ''):\n",
    "\t\t# \tdata = response.json()  # Parse JSON if content is JSON\n",
    "\t\t# \tprint(data)\n",
    "\t\t# else:\n",
    "\t\t# \tprint(\"Response is not JSON\")\n",
    "\t\t# \tprint(response.text)  # Debug raw response\n",
    "    except:\n",
    "        continue\n",
    "\n",
    "    total_len += len(response['data'])\n",
    "    valid += 1\n",
    "\n",
    "    if not os.path.exists(save_folder):\n",
    "        os.makedirs(save_folder)\n",
    "    with open(f'SP500-historical-prices_2012-2024/{ticker}.json', 'w') as json_file:\n",
    "        json.dump(response, json_file)\n",
    "\n",
    "print(\"The number of firm retrieved:\", total_len)\n"
   ]
  },
  {
   "cell_type": "code",
   "execution_count": 1,
   "metadata": {},
   "outputs": [
    {
     "ename": "NameError",
     "evalue": "name 'datetime' is not defined",
     "output_type": "error",
     "traceback": [
      "\u001b[0;31m---------------------------------------------------------------------------\u001b[0m",
      "\u001b[0;31mNameError\u001b[0m                                 Traceback (most recent call last)",
      "Cell \u001b[0;32mIn[1], line 3\u001b[0m\n\u001b[1;32m      1\u001b[0m year2unixTime \u001b[38;5;241m=\u001b[39m {}\n\u001b[1;32m      2\u001b[0m \u001b[38;5;28;01mfor\u001b[39;00m year \u001b[38;5;129;01min\u001b[39;00m \u001b[38;5;28mrange\u001b[39m(\u001b[38;5;241m2025\u001b[39m, \u001b[38;5;241m2006\u001b[39m, \u001b[38;5;241m-\u001b[39m\u001b[38;5;241m1\u001b[39m):\n\u001b[0;32m----> 3\u001b[0m     current_year_timestamp \u001b[38;5;241m=\u001b[39m \u001b[38;5;28mint\u001b[39m(\u001b[43mdatetime\u001b[49m\u001b[38;5;241m.\u001b[39mdatetime(year, \u001b[38;5;241m1\u001b[39m, \u001b[38;5;241m1\u001b[39m)\u001b[38;5;241m.\u001b[39mtimestamp())\n\u001b[1;32m      4\u001b[0m     year2unixTime[year] \u001b[38;5;241m=\u001b[39m current_year_timestamp\n\u001b[1;32m      6\u001b[0m year2unixTime\n",
      "\u001b[0;31mNameError\u001b[0m: name 'datetime' is not defined"
     ]
    }
   ],
   "source": [
    "\n",
    "year2unixTime = {}\n",
    "for year in range(2025, 2006, -1):\n",
    "    current_year_timestamp = int(datetime.datetime(year, 1, 1).timestamp())\n",
    "    year2unixTime[year] = current_year_timestamp\n",
    "    \n",
    "year2unixTime"
   ]
  },
  {
   "cell_type": "code",
   "execution_count": 66,
   "metadata": {},
   "outputs": [],
   "source": [
    "import requests\n",
    "import os\n",
    "import pandas as pd\n",
    "import json\n",
    "from tqdm import tqdm\n",
    "import datetime\n",
    "from concurrent.futures import ThreadPoolExecutor, as_completed\n",
    "import time\n",
    "import atexit\n",
    "from threading import Lock\n",
    "from collections import defaultdict\n",
    "\n",
    "path = '/Users/apple/PROJECT/Code_4_10k/sp500_total_constituents.csv'\n",
    "\n",
    "try:\n",
    "    df = pd.read_csv(path, encoding='utf-8')\n",
    "    cik = df['CIK'].drop_duplicates().tolist()\n",
    "    ticker = df['Symbol'].tolist()\n",
    "    cik_ticker = dict(zip(cik, ticker))\n",
    "except UnicodeDecodeError:\n",
    "    df = pd.read_csv(path, encoding='ISO-8859-1')\n",
    "    cik = df['CIK'].drop_duplicates().tolist()\n",
    "    ticker = df['Symbol'].tolist()\n",
    "    cik_ticker = dict(zip(cik, ticker))\n",
    "\n",
    "total_len = 0\n",
    "\n",
    "valid = 0\n",
    "total_requests = 0\n",
    "save_folder = \"analysis_reports\"\n",
    "id_folder = \"analysis_report_ids\"\n",
    "year_until = 2024\n",
    "year_since = 2006\n",
    "\n",
    "# Rate limiting variables\n",
    "rate_limit = 5\n",
    "request_counter = 0\n",
    "last_request_time = time.time()\n",
    "lock = Lock()\n",
    "\n",
    "def fetch_ids_for_ticekr(ticker):\n",
    "    year_id2title = defaultdict(dict)\n",
    "    total_numIds = 0\n",
    "    year_ids = 0\n",
    "    ticker = ticker.lower()\n",
    "    ticker_id_folder = os.path.join(id_folder, ticker)\n",
    "    if not os.path.exists(ticker_id_folder):\n",
    "        os.makedirs(ticker_id_folder)\n",
    "        \n",
    "    for year in range(year_until, year_since, -1):\n",
    "        id2title = defaultdict(lambda: 'title')\n",
    "        year_file_path = os.path.join(ticker_id_folder, f\"{year-1}.json\")\n",
    "        if not os.path.exists(year_file_path):\n",
    "            continue\n",
    "        with open(year_file_path, 'r') as json_file:\n",
    "            json_data = json.load(json_file)\n",
    "            if 'data' in json_data and json_data['data']:                \n",
    "                for i in range(len(json_data['data'])):\n",
    "                    id = json_data['data'][i]['id']\n",
    "                    title = json_data['data'][i]['attributes']['title']\n",
    "                    id2title[id] = title\n",
    "        year_id2title[year] = id2title\n",
    "        year_ids = len(id2title)\n",
    "        total_numIds += year_ids\n",
    "\n",
    "    return year_id2title, total_numIds\n",
    "            "
   ]
  },
  {
   "cell_type": "code",
   "execution_count": null,
   "metadata": {},
   "outputs": [],
   "source": []
  },
  {
   "cell_type": "code",
   "execution_count": 7,
   "metadata": {},
   "outputs": [],
   "source": [
    "year2unixTime = {}\n",
    "for year in range(2025, 2005, -1):\n",
    "    current_year_timestamp = int(datetime.datetime(year, 1, 1).timestamp())\n",
    "    year2unixTime[year] = current_year_timestamp"
   ]
  },
  {
   "cell_type": "code",
   "execution_count": 8,
   "metadata": {},
   "outputs": [
    {
     "data": {
      "text/plain": [
       "{2025: 1735689600,\n",
       " 2024: 1704067200,\n",
       " 2023: 1672531200,\n",
       " 2022: 1640995200,\n",
       " 2021: 1609459200,\n",
       " 2020: 1577836800,\n",
       " 2019: 1546300800,\n",
       " 2018: 1514764800,\n",
       " 2017: 1483228800,\n",
       " 2016: 1451606400,\n",
       " 2015: 1420070400,\n",
       " 2014: 1388534400,\n",
       " 2013: 1356998400,\n",
       " 2012: 1325376000,\n",
       " 2011: 1293840000,\n",
       " 2010: 1262304000,\n",
       " 2009: 1230768000,\n",
       " 2008: 1199145600,\n",
       " 2007: 1167609600,\n",
       " 2006: 1136073600}"
      ]
     },
     "execution_count": 8,
     "metadata": {},
     "output_type": "execute_result"
    }
   ],
   "source": [
    "year2unixTime"
   ]
  },
  {
   "cell_type": "code",
   "execution_count": null,
   "metadata": {},
   "outputs": [],
   "source": []
  }
 ],
 "metadata": {
  "kernelspec": {
   "display_name": "hons-project",
   "language": "python",
   "name": "python3"
  },
  "language_info": {
   "codemirror_mode": {
    "name": "ipython",
    "version": 3
   },
   "file_extension": ".py",
   "mimetype": "text/x-python",
   "name": "python",
   "nbconvert_exporter": "python",
   "pygments_lexer": "ipython3",
   "version": "3.8.18"
  }
 },
 "nbformat": 4,
 "nbformat_minor": 2
}
