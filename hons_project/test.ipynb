{
 "cells": [
  {
   "cell_type": "code",
   "execution_count": 5,
   "metadata": {},
   "outputs": [],
   "source": [
    "import pandas as pd\n",
    "import numpy as np\n",
    "import pyarrow.parquet as pq"
   ]
  },
  {
   "cell_type": "code",
   "execution_count": 2,
   "metadata": {},
   "outputs": [],
   "source": [
    "path_10kLM = \"/Users/apple/PROJECT/hons_project/data/SP500/LM/SEC/lm_sent_SEC_10k.parquet\"\n",
    "path_10qLM = \"/Users/apple/PROJECT/hons_project/data/SP500/LM/SEC/lm_sent_SEC_10q.parquet\"\n",
    "path_SEC = \"/Users/apple/PROJECT/hons_project/data/SP500/SEC/SEC_DTM_SP500.parquet\"\n",
    "path_SEC_LM = \"/Users/apple/PROJECT/hons_project/data/SP500/LM/SEC/lm_sent_SEC_SP500.parquet\"\n",
    "df_10kLM = pd.read_parquet(path_10kLM)\n",
    "df_10qLM = pd.read_parquet(path_10qLM)\n",
    "df_SEC = pd.read_parquet(path_SEC)\n",
    "df_SEC_LM = pd.read_parquet(path_SEC_LM)\n"
   ]
  },
  {
   "cell_type": "code",
   "execution_count": 3,
   "metadata": {},
   "outputs": [
    {
     "name": "stdout",
     "output_type": "stream",
     "text": [
      "(25925, 14136)\n",
      "(25925, 2)\n"
     ]
    }
   ],
   "source": [
    "df_all = pd.read_parquet(f'./data/SP500/SEC/SEC_DTM_SP500.parquet')\n",
    "df_all = df_all.set_index('Date')\n",
    "df_all.index = pd.to_datetime(df_all.index)\n",
    "df_all['_ret'] = df_all['_ret']/100\n",
    "print(df_all.shape)\n",
    "lm_sent = pd.read_parquet(f'./data/SP500/LM/SEC/lm_sent_SEC_test2.parquet')\n",
    "lm_sent = lm_sent.set_index('Date')\n",
    "lm_sent.index = pd.to_datetime(lm_sent.index)\n",
    "print(lm_sent.shape)"
   ]
  },
  {
   "cell_type": "code",
   "execution_count": null,
   "metadata": {},
   "outputs": [],
   "source": [
    "input_path = \"./data/SP500/SEC/SEC_DTM_SP500.parquet\"\n",
    "dataset = pq.ParquetDataset(input_path)\n",
    "table = dataset.read()\n",
    "df_all = table.to_pandas()\n",
    "df_all = df_all.reset_index()\n",
    "df_all = df_all.sort_values(by=['Date', '_cik']).reset_index(drop=True)\n",
    "df_all = df_all.drop(columns=[\"level_0\"], errors='ignore')\n",
    "df_all = df_all.set_index('Date')\n",
    "df_all.index = pd.to_datetime(df_all.index)\n",
    "df_all['_ret'] = df_all['_ret']/100\n",
    "\n",
    "\n",
    "\n",
    "input_path = \"./data/SP500/LM/SEC/lm_sent_SEC_test2.parquet\"\n",
    "dataset = pq.ParquetDataset(input_path)\n",
    "table = dataset.read()\n",
    "lm_sent = table.to_pandas()\n",
    "lm_sent = lm_sent.reset_index()\n",
    "lm_sent = lm_sent.sort_values(by=['Date', '_cik']).reset_index(drop=True)\n",
    "lm_sent = lm_sent.drop(columns=[\"index\"], errors='ignore')\n",
    "lm_sent = lm_sent.set_index('Date')\n",
    "lm_sent.index = pd.to_datetime(lm_sent.index)\n",
    "\n"
   ]
  },
  {
   "cell_type": "code",
   "execution_count": 24,
   "metadata": {},
   "outputs": [
    {
     "name": "stdout",
     "output_type": "stream",
     "text": [
      "lm_sent shape: (25925, 2)\n",
      "lm_sent DataFrame:\n",
      "                 _lm        _cik\n",
      "Date                            \n",
      "2006-01-12 -0.020383  0000936395\n",
      "2006-01-12 -0.020386  0000936395\n",
      "2006-01-17 -0.010600  0001090872\n",
      "2006-01-17 -0.010570  0001090872\n",
      "2006-01-27 -0.008370  0000063754\n",
      "...              ...         ...\n",
      "2024-11-13 -0.031473  0001746466\n",
      "2024-11-26 -0.027870  0001140859\n",
      "2024-12-05 -0.032044  0001327811\n",
      "2024-12-12  0.000000  0000794367\n",
      "2024-12-13 -0.020541  0000047217\n",
      "\n",
      "[25925 rows x 2 columns]\n",
      "\n",
      "df_all shape: (25925, 14136)\n",
      "df_all DataFrame:\n",
      "                  _cik      _vol      _ret    _vol+1    _ret+1  united  state  \\\n",
      "Date                                                                            \n",
      "2006-01-12  0000936395  0.000052 -0.000112  0.001005 -0.011662    29.0   36.0   \n",
      "2006-01-12  0000936395  0.000030  0.000079  0.001005 -0.011662    29.0   36.0   \n",
      "2006-01-17  0001090872  0.000076  0.000078  0.000427 -0.021115    16.0   27.0   \n",
      "2006-01-17  0001090872  0.000026 -0.000100  0.000427 -0.021115    16.0   27.0   \n",
      "2006-01-27  0000063754  0.000396 -0.000422  0.000098  0.013271     5.0    7.0   \n",
      "...                ...       ...       ...       ...       ...     ...    ...   \n",
      "2024-11-13  0001746466  0.000052  0.000314  0.011342  0.111226    86.0  132.0   \n",
      "2024-11-26  0001140859  0.000060 -0.000111  0.000143 -0.012696    62.0  150.0   \n",
      "2024-12-05  0001327811  0.000202 -0.000126  0.000153 -0.006024    23.0   34.0   \n",
      "2024-12-12  0000794367  0.000046  0.000168  0.000334 -0.022596     0.0    0.0   \n",
      "2024-12-13  0000047217  0.000032  0.000000  0.000162  0.006123    39.0   62.0   \n",
      "\n",
      "            security  exchange  commission  ...  sorption  scroll  hermetic  \\\n",
      "Date                                        ...                               \n",
      "2006-01-12      47.0      44.0        17.0  ...       0.0     0.0       0.0   \n",
      "2006-01-12      47.0      44.0        17.0  ...       0.0     0.0       0.0   \n",
      "2006-01-17      61.0      55.0        10.0  ...       0.0     0.0       0.0   \n",
      "2006-01-17      61.0      55.0        10.0  ...       0.0     0.0       0.0   \n",
      "2006-01-27      45.0      41.0        29.0  ...       0.0     0.0       0.0   \n",
      "...              ...       ...         ...  ...       ...     ...       ...   \n",
      "2024-11-13     125.0      52.0        12.0  ...       0.0     0.0       0.0   \n",
      "2024-11-26      93.0      50.0        12.0  ...       0.0     0.0       0.0   \n",
      "2024-12-05     130.0      31.0        15.0  ...       0.0     0.0       0.0   \n",
      "2024-12-12       0.0       0.0         0.0  ...       0.0     0.0       0.0   \n",
      "2024-12-13     146.0      60.0        14.0  ...       0.0     0.0       0.0   \n",
      "\n",
      "            xenon  glassware  preparative  stepwise  chiral  partitioning  \\\n",
      "Date                                                                        \n",
      "2006-01-12    0.0        0.0          0.0       0.0     0.0           0.0   \n",
      "2006-01-12    0.0        0.0          0.0       0.0     0.0           0.0   \n",
      "2006-01-17    0.0        0.0          0.0       0.0     0.0           0.0   \n",
      "2006-01-17    0.0        0.0          0.0       0.0     0.0           0.0   \n",
      "2006-01-27    0.0        0.0          0.0       0.0     0.0           0.0   \n",
      "...           ...        ...          ...       ...     ...           ...   \n",
      "2024-11-13    0.0        0.0          0.0       0.0     0.0           0.0   \n",
      "2024-11-26    0.0        0.0          0.0       0.0     0.0           0.0   \n",
      "2024-12-05    0.0        0.0          0.0       0.0     0.0           0.0   \n",
      "2024-12-12    0.0        0.0          0.0       0.0     0.0           0.0   \n",
      "2024-12-13    0.0        0.0          0.0       0.0     0.0           0.0   \n",
      "\n",
      "            craven  \n",
      "Date                \n",
      "2006-01-12     0.0  \n",
      "2006-01-12     0.0  \n",
      "2006-01-17     0.0  \n",
      "2006-01-17     0.0  \n",
      "2006-01-27     0.0  \n",
      "...            ...  \n",
      "2024-11-13     0.0  \n",
      "2024-11-26     0.0  \n",
      "2024-12-05     0.0  \n",
      "2024-12-12     0.0  \n",
      "2024-12-13     0.0  \n",
      "\n",
      "[25925 rows x 14136 columns]\n"
     ]
    }
   ],
   "source": [
    "# Sort lm_sent by _cik column and then by Date index\n",
    "lm_sent = lm_sent.sort_values(by='_cik').sort_index()\n",
    "\n",
    "# Sort df_all by _cik column and then by Date index\n",
    "df_all = df_all.sort_values(by='_cik').sort_index()\n",
    "\n",
    "# Print shapes and DataFrames to verify\n",
    "print(\"lm_sent shape:\", lm_sent.shape)\n",
    "print(\"lm_sent DataFrame:\")\n",
    "print(lm_sent)\n",
    "\n",
    "print(\"\\ndf_all shape:\", df_all.shape)\n",
    "print(\"df_all DataFrame:\")\n",
    "print(df_all)\n",
    "\n",
    "# Check if the indices and _cik columns are aligned\n",
    "assert all(lm_sent.index == df_all.index) and all(lm_sent['_cik'] == df_all['_cik'])"
   ]
  },
  {
   "cell_type": "code",
   "execution_count": null,
   "metadata": {},
   "outputs": [
    {
     "name": "stdout",
     "output_type": "stream",
     "text": [
      "                 _lm        _cik\n",
      "Date                            \n",
      "2006-01-12 -0.020386  0000936395\n",
      "2006-01-12 -0.020383  0000936395\n",
      "2006-01-17 -0.010570  0001090872\n",
      "2006-01-17 -0.010600  0001090872\n",
      "2006-01-27 -0.008370  0000063754\n",
      "                  _cik      _vol      _ret    _vol+1    _ret+1  united  state  \\\n",
      "Date                                                                            \n",
      "2006-01-12  0000936395  0.000030  0.000079  0.001005 -0.011662    29.0   36.0   \n",
      "2006-01-12  0000936395  0.000052 -0.000112  0.001005 -0.011662    29.0   36.0   \n",
      "2006-01-17  0001090872  0.000026 -0.000100  0.000427 -0.021115    16.0   27.0   \n",
      "2006-01-17  0001090872  0.000076  0.000078  0.000427 -0.021115    16.0   27.0   \n",
      "2006-01-27  0000063754  0.000050 -0.000074  0.000098  0.013271     5.0    7.0   \n",
      "\n",
      "            security  exchange  commission  ...  sorption  scroll  hermetic  \\\n",
      "Date                                        ...                               \n",
      "2006-01-12      47.0      44.0        17.0  ...       0.0     0.0       0.0   \n",
      "2006-01-12      47.0      44.0        17.0  ...       0.0     0.0       0.0   \n",
      "2006-01-17      61.0      55.0        10.0  ...       0.0     0.0       0.0   \n",
      "2006-01-17      61.0      55.0        10.0  ...       0.0     0.0       0.0   \n",
      "2006-01-27      45.0      41.0        29.0  ...       0.0     0.0       0.0   \n",
      "\n",
      "            xenon  glassware  preparative  stepwise  chiral  partitioning  \\\n",
      "Date                                                                        \n",
      "2006-01-12    0.0        0.0          0.0       0.0     0.0           0.0   \n",
      "2006-01-12    0.0        0.0          0.0       0.0     0.0           0.0   \n",
      "2006-01-17    0.0        0.0          0.0       0.0     0.0           0.0   \n",
      "2006-01-17    0.0        0.0          0.0       0.0     0.0           0.0   \n",
      "2006-01-27    0.0        0.0          0.0       0.0     0.0           0.0   \n",
      "\n",
      "            craven  \n",
      "Date                \n",
      "2006-01-12     0.0  \n",
      "2006-01-12     0.0  \n",
      "2006-01-17     0.0  \n",
      "2006-01-17     0.0  \n",
      "2006-01-27     0.0  \n",
      "\n",
      "[5 rows x 14136 columns]\n"
     ]
    }
   ],
   "source": [
    "print(lm_sent.head())\n",
    "print(df_all[].head())"
   ]
  },
  {
   "cell_type": "code",
   "execution_count": 9,
   "metadata": {},
   "outputs": [
    {
     "data": {
      "text/plain": [
       "True"
      ]
     },
     "execution_count": 9,
     "metadata": {},
     "output_type": "execute_result"
    }
   ],
   "source": [
    "all(lm_sent.index == df_all.index)"
   ]
  },
  {
   "cell_type": "code",
   "execution_count": 12,
   "metadata": {},
   "outputs": [
    {
     "data": {
      "text/plain": [
       "False"
      ]
     },
     "execution_count": 12,
     "metadata": {},
     "output_type": "execute_result"
    }
   ],
   "source": [
    "all(lm_sent['_cik'] == df_all['_cik'])"
   ]
  },
  {
   "cell_type": "code",
   "execution_count": 18,
   "metadata": {},
   "outputs": [
    {
     "name": "stdout",
     "output_type": "stream",
     "text": [
      "Mismatched rows in lm_sent:\n",
      "                  _cik\n",
      "Date                  \n",
      "2006-02-09  0000920760\n",
      "2006-02-09  0000101829\n",
      "2006-02-16  0000079879\n",
      "2006-02-16  0000814453\n",
      "2006-02-16  0000079879\n",
      "...                ...\n",
      "2024-11-12  0000915912\n",
      "2024-11-12  0001024478\n",
      "2024-11-12  0000032604\n",
      "2024-11-13  0000046765\n",
      "2024-11-13  0001403161\n",
      "\n",
      "[22438 rows x 1 columns]\n",
      "\n",
      "Mismatched rows in df_all:\n",
      "                  _cik\n",
      "Date                  \n",
      "2006-02-09  0000101829\n",
      "2006-02-09  0000920760\n",
      "2006-02-16  0000814453\n",
      "2006-02-16  0000079879\n",
      "2006-02-16  0001113169\n",
      "...                ...\n",
      "2024-11-12  0000891103\n",
      "2024-11-12  0001818794\n",
      "2024-11-12  0001024478\n",
      "2024-11-13  0001403161\n",
      "2024-11-13  0000046765\n",
      "\n",
      "[22438 rows x 1 columns]\n"
     ]
    }
   ],
   "source": [
    "mismatch_mask = lm_sent['_cik'] != df_all['_cik']\n",
    "# Rows in lm_sent where _cik differs\n",
    "mismatched_lm_sent = lm_sent[mismatch_mask]\n",
    "\n",
    "# Rows in df_all where _cik differs\n",
    "mismatched_df_all = df_all[mismatch_mask]\n",
    "\n",
    "# Display the mismatched rows side by side\n",
    "print(\"Mismatched rows in lm_sent:\")\n",
    "print(mismatched_lm_sent[['_cik']])  # Show only _cik for clarity\n",
    "print(\"\\nMismatched rows in df_all:\")\n",
    "print(mismatched_df_all[['_cik']])"
   ]
  },
  {
   "cell_type": "code",
   "execution_count": 20,
   "metadata": {},
   "outputs": [
    {
     "name": "stdout",
     "output_type": "stream",
     "text": [
      "Date\n",
      "2006-01-12    2\n",
      "2006-01-17    2\n",
      "2006-01-27    2\n",
      "2006-02-01    2\n",
      "2006-02-07    2\n",
      "             ..\n",
      "2024-11-13    4\n",
      "2024-11-26    1\n",
      "2024-12-05    1\n",
      "2024-12-12    1\n",
      "2024-12-13    1\n",
      "Length: 3169, dtype: int64\n",
      "Date\n",
      "2006-01-12    2\n",
      "2006-01-17    2\n",
      "2006-01-27    2\n",
      "2006-02-01    2\n",
      "2006-02-07    2\n",
      "             ..\n",
      "2024-11-13    4\n",
      "2024-11-26    1\n",
      "2024-12-05    1\n",
      "2024-12-12    1\n",
      "2024-12-13    1\n",
      "Length: 3169, dtype: int64\n"
     ]
    },
    {
     "data": {
      "text/plain": [
       "True"
      ]
     },
     "execution_count": 20,
     "metadata": {},
     "output_type": "execute_result"
    }
   ],
   "source": [
    "print(lm_sent.groupby('Date').size())\n",
    "print(df_all.groupby('Date').size())\n",
    "all(lm_sent.groupby('Date').size() == df_all.groupby('Date').size())"
   ]
  },
  {
   "cell_type": "code",
   "execution_count": null,
   "metadata": {},
   "outputs": [],
   "source": []
  }
 ],
 "metadata": {
  "kernelspec": {
   "display_name": "hons-project",
   "language": "python",
   "name": "python3"
  },
  "language_info": {
   "codemirror_mode": {
    "name": "ipython",
    "version": 3
   },
   "file_extension": ".py",
   "mimetype": "text/x-python",
   "name": "python",
   "nbconvert_exporter": "python",
   "pygments_lexer": "ipython3",
   "version": "3.8.18"
  }
 },
 "nbformat": 4,
 "nbformat_minor": 2
}
