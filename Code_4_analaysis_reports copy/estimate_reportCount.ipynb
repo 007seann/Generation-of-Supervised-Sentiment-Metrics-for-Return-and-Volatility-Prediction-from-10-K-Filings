{
 "cells": [
  {
   "cell_type": "code",
   "execution_count": 8,
   "metadata": {},
   "outputs": [
    {
     "name": "stdout",
     "output_type": "stream",
     "text": [
      "Categorized Rows by Page:\n",
      "Page 1: 318 row(s)\n",
      "Page 2: 1664 row(s)\n",
      "Page 3: 226 row(s)\n"
     ]
    }
   ],
   "source": [
    "# Sample Test\n",
    "\n",
    "import random\n",
    "# File path to your text file\n",
    "file_path = \"/Users/apple/PROJECT/Code_4_analaysis_reports/error_page_log.txt\"\n",
    "\n",
    "# Dictionary to store the count of rows for each page\n",
    "page_row_counts = {}\n",
    "\n",
    "##\n",
    "# Read the file and process each line\n",
    "with open(file_path, \"r\") as file:\n",
    "    lines = file.readlines()\n",
    "\n",
    "# Calculate 20% of the total lines\n",
    "sample_size = int(len(lines) * 0.2)\n",
    "\n",
    "# Randomly sample 20% of the lines\n",
    "# sampled_lines = random.sample(lines, sample_size) # random\n",
    "sampled_lines = lines[:sample_size] # first 20%\n",
    "##\n",
    "\n",
    "# Read the file and process each line\n",
    "with open(file_path, \"r\") as file:\n",
    "    for line in sampled_lines:\n",
    "        # Extract the page number using string parsing\n",
    "        if \"page\" in line:\n",
    "            page_number = int(line.strip().split(\"page\")[1].replace(\".\", \"\").strip())\n",
    "            # Count occurrences of each page\n",
    "            page_row_counts[page_number] = page_row_counts.get(page_number, 0) + 1\n",
    "\n",
    "# Display categorized results\n",
    "print(\"Categorized Rows by Page:\")\n",
    "for page, count in sorted(page_row_counts.items()):\n",
    "    print(f\"Page {page}: {count} row(s)\")"
   ]
  },
  {
   "cell_type": "code",
   "execution_count": 2,
   "metadata": {},
   "outputs": [
    {
     "name": "stdout",
     "output_type": "stream",
     "text": [
      "Categorized Rows by Page:\n",
      "Page 1: 1866 row(s)\n",
      "Page 2: 8949 row(s)\n",
      "Page 3: 226 row(s)\n"
     ]
    }
   ],
   "source": [
    "import random\n",
    "# File path to your text file\n",
    "file_path = \"/Users/apple/PROJECT/Code_4_analaysis_reports/error_page_log.txt\"\n",
    "\n",
    "# Dictionary to store the count of rows for each page\n",
    "page_row_counts = {}\n",
    "\n",
    "\n",
    "# Read the file and process each line\n",
    "with open(file_path, \"r\") as file:\n",
    "    for line in file:\n",
    "        # Extract the page number using string parsing\n",
    "        if \"page\" in line:\n",
    "            page_number = int(line.strip().split(\"page\")[1].replace(\".\", \"\").strip())\n",
    "            # Count occurrences of each page\n",
    "            page_row_counts[page_number] = page_row_counts.get(page_number, 0) + 1\n",
    "\n",
    "# Display categorized results\n",
    "print(\"Categorized Rows by Page:\")\n",
    "for page, count in sorted(page_row_counts.items()):\n",
    "    print(f\"Page {page}: {count} row(s)\")\n"
   ]
  },
  {
   "cell_type": "markdown",
   "metadata": {},
   "source": [
    "Total Count of All Reports"
   ]
  },
  {
   "cell_type": "code",
   "execution_count": 1,
   "metadata": {},
   "outputs": [
    {
     "name": "stdout",
     "output_type": "stream",
     "text": [
      "Total sum of all counts: 266360\n"
     ]
    }
   ],
   "source": [
    "def sum_counts(file_path):\n",
    "    total_sum = 0\n",
    "    with open(file_path, 'r') as file:\n",
    "        for line in file:\n",
    "            try:\n",
    "                # Split the line by ':' and get the count part\n",
    "                count = int(line.split(':')[1].strip())\n",
    "                total_sum += count\n",
    "            except (IndexError, ValueError):\n",
    "                # Skip lines that don't match the expected format\n",
    "                continue\n",
    "    return total_sum\n",
    "\n",
    "file_path = 'sp500_reports_counts.txt'\n",
    "total_sum = sum_counts(file_path)\n",
    "print(f\"Total sum of all counts: {total_sum}\")"
   ]
  },
  {
   "cell_type": "code",
   "execution_count": null,
   "metadata": {},
   "outputs": [],
   "source": []
  }
 ],
 "metadata": {
  "kernelspec": {
   "display_name": "hons-project",
   "language": "python",
   "name": "python3"
  },
  "language_info": {
   "codemirror_mode": {
    "name": "ipython",
    "version": 3
   },
   "file_extension": ".py",
   "mimetype": "text/x-python",
   "name": "python",
   "nbconvert_exporter": "python",
   "pygments_lexer": "ipython3",
   "version": "3.8.18"
  }
 },
 "nbformat": 4,
 "nbformat_minor": 2
}
